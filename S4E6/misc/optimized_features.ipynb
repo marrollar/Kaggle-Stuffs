{
 "cells": [
  {
   "cell_type": "code",
   "execution_count": 45,
   "metadata": {},
   "outputs": [
    {
     "data": {
      "text/plain": [
       "2161"
      ]
     },
     "execution_count": 45,
     "metadata": {},
     "output_type": "execute_result"
    }
   ],
   "source": [
    "import pandas as pd\n",
    "import seaborn as sns\n",
    "import matplotlib.pyplot as plt\n",
    "import numpy as np\n",
    "import umap\n",
    "import datetime\n",
    "import optuna\n",
    "import pprint\n",
    "import joblib\n",
    "\n",
    "from autogluon.tabular import TabularDataset, TabularPredictor\n",
    "\n",
    "import plotly.express as px\n",
    "from plotly.subplots import make_subplots\n",
    "import plotly.graph_objects as go\n",
    "\n",
    "from sklearn.decomposition import PCA\n",
    "from sklearn.cluster import KMeans\n",
    "from sklearn.preprocessing import StandardScaler, OneHotEncoder, LabelEncoder, label_binarize, PolynomialFeatures, RobustScaler\n",
    "from sklearn.model_selection import KFold, StratifiedKFold, train_test_split, GridSearchCV, cross_val_score, RepeatedStratifiedKFold\n",
    "from sklearn.base import clone\n",
    "from sklearn.pipeline import make_pipeline, Pipeline\n",
    "from sklearn.metrics import r2_score, accuracy_score, make_scorer\n",
    "from sklearn.linear_model import LogisticRegression\n",
    "from sklearn.ensemble import RandomForestClassifier, BaggingClassifier\n",
    "from sklearn.svm import SVC\n",
    "from sklearn.feature_selection import RFE, RFECV\n",
    "from sklearn import metrics\n",
    "from sklearn.tree import plot_tree\n",
    "from sklearn.multiclass import OneVsRestClassifier\n",
    "from sklearn.compose import ColumnTransformer, make_column_transformer\n",
    "\n",
    "import statsmodels.api as sm\n",
    "\n",
    "from scipy import stats\n",
    "\n",
    "import xgboost\n",
    "\n",
    "import gc\n",
    "\n",
    "pd.set_option('display.max_columns', None)\n",
    "pd.set_option('display.max_rows', 20)\n",
    "\n",
    "gc.collect()"
   ]
  },
  {
   "cell_type": "code",
   "execution_count": 46,
   "metadata": {},
   "outputs": [],
   "source": [
    "train_df = pd.read_csv(\"../data/train.csv\", index_col=0)\n",
    "test_df = pd.read_csv(\"../data/test.csv\", index_col=0)\n",
    "original_df = pd.read_csv(\"../data/original.csv\",sep=\";\")\n",
    "train_features = test_df.columns\n",
    "\n",
    "cat_features = ['Marital status', 'Application mode', \"Application order\", 'Course', \"Daytime/evening attendance\",\n",
    "                'Previous qualification', 'Nacionality', \"Mother's qualification\", \n",
    "                \"Father's qualification\", \"Mother's occupation\",\n",
    "                \"Father's occupation\", \"Displaced\", \"Educational special needs\", \"Debtor\", \"Tuition fees up to date\",\n",
    "                \"Gender\", \"Scholarship holder\", \"International\"]\n",
    "cont_features = [feature for feature in train_features if feature not in cat_features]"
   ]
  },
  {
   "cell_type": "code",
   "execution_count": 47,
   "metadata": {},
   "outputs": [
    {
     "name": "stdout",
     "output_type": "stream",
     "text": [
      "                          Marital status nunique 6\n",
      "                        Application mode nunique 22\n",
      "                       Application order nunique 8\n",
      "                                  Course nunique 19\n",
      "              Daytime/evening attendance nunique 2\n",
      "                  Previous qualification nunique 21\n",
      "          Previous qualification (grade) nunique 110\n",
      "                             Nacionality nunique 18\n",
      "                  Mother's qualification nunique 35\n",
      "                  Father's qualification nunique 39\n",
      "                     Mother's occupation nunique 40\n",
      "                     Father's occupation nunique 56\n",
      "                         Admission grade nunique 668\n",
      "                               Displaced nunique 2\n",
      "               Educational special needs nunique 2\n",
      "                                  Debtor nunique 2\n",
      "                 Tuition fees up to date nunique 2\n",
      "                                  Gender nunique 2\n",
      "                      Scholarship holder nunique 2\n",
      "                       Age at enrollment nunique 46\n",
      "                           International nunique 2\n",
      "     Curricular units 1st sem (credited) nunique 21\n",
      "     Curricular units 1st sem (enrolled) nunique 24\n",
      "  Curricular units 1st sem (evaluations) nunique 36\n",
      "     Curricular units 1st sem (approved) nunique 23\n",
      "        Curricular units 1st sem (grade) nunique 1206\n",
      "Curricular units 1st sem (without evaluations) nunique 12\n",
      "     Curricular units 2nd sem (credited) nunique 20\n",
      "     Curricular units 2nd sem (enrolled) nunique 22\n",
      "  Curricular units 2nd sem (evaluations) nunique 31\n",
      "     Curricular units 2nd sem (approved) nunique 21\n",
      "        Curricular units 2nd sem (grade) nunique 1234\n",
      "Curricular units 2nd sem (without evaluations) nunique 11\n",
      "                       Unemployment rate nunique 11\n",
      "                          Inflation rate nunique 13\n",
      "                                     GDP nunique 11\n"
     ]
    }
   ],
   "source": [
    "for col in test_df.columns:\n",
    "    unique_vals = train_df[col].nunique()\n",
    "    print(f\"{col:>40} nunique {unique_vals}\")"
   ]
  },
  {
   "cell_type": "code",
   "execution_count": 50,
   "metadata": {},
   "outputs": [
    {
     "name": "stdout",
     "output_type": "stream",
     "text": [
      "thresh: 10 - 0.830575727726895\n",
      "thresh: 11 - 0.8311768675045842\n",
      "thresh: 12 - 0.8306279708968682\n",
      "thresh: 13 - 0.8309285561583846\n",
      "thresh: 14 - 0.8309285561583846\n",
      "thresh: 15 - 0.8309285561583846\n",
      "thresh: 16 - 0.8309285561583846\n",
      "thresh: 17 - 0.8309285561583846\n",
      "thresh: 18 - 0.831176908498375\n",
      "thresh: 19 - 0.8303665774072424\n",
      "thresh: 20 - 0.8299876000615726\n",
      "thresh: 21 - 0.8301966974309123\n",
      "thresh: 22 - 0.8310723025932056\n",
      "thresh: 23 - 0.8294649172748721\n",
      "thresh: 24 - 0.8304580277217776\n",
      "thresh: 25 - 0.8304580277217776\n",
      "thresh: 26 - 0.8304580277217776\n",
      "thresh: 27 - 0.8304580277217776\n",
      "thresh: 28 - 0.8304580277217776\n",
      "thresh: 29 - 0.8304580277217776\n",
      "thresh: 30 - 0.8304580277217776\n"
     ]
    }
   ],
   "source": [
    "seed = 0\n",
    "label_enc = LabelEncoder()\n",
    "label_enc.fit(train_df[\"Target\"])\n",
    "\n",
    "# kfold = RepeatedStratifiedKFold(n_splits=5, n_repeats=5, random_state=seed)\n",
    "kfold = StratifiedKFold(n_splits=10)\n",
    "clf = xgboost.XGBClassifier(enable_categorical=True, n_jobs=-1)\n",
    "\n",
    "unique_val_thresh = np.arange(10, 31)\n",
    "\n",
    "scores = {}\n",
    "\n",
    "for thresh in unique_val_thresh:\n",
    "    cat_features = []\n",
    "    inp_df = train_df.copy()\n",
    "\n",
    "    for col in test_df.columns:\n",
    "        unique_vals = train_df[col].nunique()\n",
    "\n",
    "        if unique_vals <= thresh:\n",
    "            cat_features.append(col)\n",
    "\n",
    "    for feat in cat_features:\n",
    "        dtype = pd.CategoricalDtype(categories=list(set(train_df[feat]) | set(test_df[feat]) | set(original_df[feat])), ordered=False)\n",
    "        inp_df[feat] = inp_df[feat].astype(dtype)\n",
    "\n",
    "    x = inp_df.drop(columns=[\"Target\"])\n",
    "    y = label_enc.transform(inp_df[\"Target\"])\n",
    "    cv_scores = cross_val_score(clf, x, y, cv=kfold)\n",
    "\n",
    "    print(f\"thresh: {thresh} - {np.mean(cv_scores)}\")\n",
    "    scores[thresh] = cv_scores\n",
    "        "
   ]
  },
  {
   "cell_type": "code",
   "execution_count": 51,
   "metadata": {},
   "outputs": [
    {
     "data": {
      "text/plain": [
       "[(18, 0.831176908498375),\n",
       " (11, 0.8311768675045842),\n",
       " (22, 0.8310723025932056),\n",
       " (13, 0.8309285561583846),\n",
       " (14, 0.8309285561583846),\n",
       " (15, 0.8309285561583846),\n",
       " (16, 0.8309285561583846),\n",
       " (17, 0.8309285561583846),\n",
       " (12, 0.8306279708968682),\n",
       " (10, 0.830575727726895),\n",
       " (24, 0.8304580277217776),\n",
       " (25, 0.8304580277217776),\n",
       " (26, 0.8304580277217776),\n",
       " (27, 0.8304580277217776),\n",
       " (28, 0.8304580277217776),\n",
       " (29, 0.8304580277217776),\n",
       " (30, 0.8304580277217776),\n",
       " (19, 0.8303665774072424),\n",
       " (21, 0.8301966974309123),\n",
       " (20, 0.8299876000615726),\n",
       " (23, 0.8294649172748721)]"
      ]
     },
     "execution_count": 51,
     "metadata": {},
     "output_type": "execute_result"
    }
   ],
   "source": [
    "sorted([(thresh, np.mean(cv_scores)) for thresh, cv_scores in scores.items()], key=lambda x : x[1], reverse=True)"
   ]
  }
 ],
 "metadata": {
  "kernelspec": {
   "display_name": "dgl_torchgeo",
   "language": "python",
   "name": "python3"
  },
  "language_info": {
   "codemirror_mode": {
    "name": "ipython",
    "version": 3
   },
   "file_extension": ".py",
   "mimetype": "text/x-python",
   "name": "python",
   "nbconvert_exporter": "python",
   "pygments_lexer": "ipython3",
   "version": "3.11.1"
  }
 },
 "nbformat": 4,
 "nbformat_minor": 2
}
