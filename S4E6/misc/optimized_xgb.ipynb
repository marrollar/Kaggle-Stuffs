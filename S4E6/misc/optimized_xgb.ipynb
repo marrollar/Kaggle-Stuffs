{
 "cells": [
  {
   "cell_type": "code",
   "execution_count": 27,
   "metadata": {},
   "outputs": [
    {
     "data": {
      "text/plain": [
       "26436"
      ]
     },
     "execution_count": 27,
     "metadata": {},
     "output_type": "execute_result"
    }
   ],
   "source": [
    "import pandas as pd\n",
    "import seaborn as sns\n",
    "import matplotlib.pyplot as plt\n",
    "import numpy as np\n",
    "import umap\n",
    "import datetime\n",
    "import optuna\n",
    "import pprint\n",
    "import joblib\n",
    "\n",
    "from autogluon.tabular import TabularDataset, TabularPredictor\n",
    "\n",
    "import plotly.express as px\n",
    "from plotly.subplots import make_subplots\n",
    "import plotly.graph_objects as go\n",
    "\n",
    "from sklearn.decomposition import PCA\n",
    "from sklearn.cluster import KMeans\n",
    "from sklearn.preprocessing import StandardScaler, OneHotEncoder, LabelEncoder, label_binarize, PolynomialFeatures, RobustScaler\n",
    "from sklearn.model_selection import KFold, StratifiedKFold, train_test_split, GridSearchCV, cross_val_score, RepeatedStratifiedKFold\n",
    "from sklearn.base import clone\n",
    "from sklearn.pipeline import make_pipeline, Pipeline\n",
    "from sklearn.metrics import r2_score, accuracy_score, make_scorer\n",
    "from sklearn.linear_model import LogisticRegression\n",
    "from sklearn.ensemble import RandomForestClassifier, BaggingClassifier\n",
    "from sklearn.svm import SVC\n",
    "from sklearn.feature_selection import RFE, RFECV\n",
    "from sklearn import metrics\n",
    "from sklearn.tree import plot_tree\n",
    "from sklearn.multiclass import OneVsRestClassifier\n",
    "from sklearn.compose import ColumnTransformer, make_column_transformer\n",
    "\n",
    "import statsmodels.api as sm\n",
    "\n",
    "from scipy import stats\n",
    "\n",
    "import xgboost\n",
    "\n",
    "import gc\n",
    "\n",
    "pd.set_option('display.max_columns', None)\n",
    "pd.set_option('display.max_rows', 20)\n",
    "\n",
    "gc.collect()"
   ]
  },
  {
   "cell_type": "code",
   "execution_count": 28,
   "metadata": {},
   "outputs": [],
   "source": [
    "train_df = pd.read_csv(\"data/train.csv\", index_col=0)\n",
    "test_df = pd.read_csv(\"data/test.csv\", index_col=0)\n",
    "original_df = pd.read_csv(\"data/original.csv\",sep=\";\")\n",
    "train_features = test_df.columns\n",
    "\n",
    "cat_features = ['Marital status', 'Application mode', \"Application order\", 'Course', \"Daytime/evening attendance\",\n",
    "                'Previous qualification', 'Nacionality', \"Mother's qualification\", \n",
    "                \"Father's qualification\", \"Mother's occupation\",\n",
    "                \"Father's occupation\", \"Displaced\", \"Educational special needs\", \"Debtor\", \"Tuition fees up to date\",\n",
    "                \"Gender\", \"Scholarship holder\", \"International\"]\n",
    "cont_features = [feature for feature in train_features if feature not in cat_features]"
   ]
  },
  {
   "cell_type": "code",
   "execution_count": 81,
   "metadata": {},
   "outputs": [
    {
     "name": "stdout",
     "output_type": "stream",
     "text": [
      "                          Marital status nunique 6\n",
      "                        Application mode nunique 22\n",
      "                       Application order nunique 8\n",
      "                                  Course nunique 19\n",
      "              Daytime/evening attendance nunique 2\n",
      "                  Previous qualification nunique 21\n",
      "          Previous qualification (grade) nunique 110\n",
      "                             Nacionality nunique 18\n",
      "                  Mother's qualification nunique 35\n",
      "                  Father's qualification nunique 39\n",
      "                     Mother's occupation nunique 40\n",
      "                     Father's occupation nunique 56\n",
      "                         Admission grade nunique 668\n",
      "                               Displaced nunique 2\n",
      "               Educational special needs nunique 2\n",
      "                                  Debtor nunique 2\n",
      "                 Tuition fees up to date nunique 2\n",
      "                                  Gender nunique 2\n",
      "                      Scholarship holder nunique 2\n",
      "                       Age at enrollment nunique 46\n",
      "                           International nunique 2\n",
      "     Curricular units 1st sem (credited) nunique 21\n",
      "     Curricular units 1st sem (enrolled) nunique 24\n",
      "  Curricular units 1st sem (evaluations) nunique 36\n",
      "     Curricular units 1st sem (approved) nunique 23\n",
      "        Curricular units 1st sem (grade) nunique 1206\n",
      "Curricular units 1st sem (without evaluations) nunique 12\n",
      "     Curricular units 2nd sem (credited) nunique 20\n",
      "     Curricular units 2nd sem (enrolled) nunique 22\n",
      "  Curricular units 2nd sem (evaluations) nunique 31\n",
      "     Curricular units 2nd sem (approved) nunique 21\n",
      "        Curricular units 2nd sem (grade) nunique 1234\n",
      "Curricular units 2nd sem (without evaluations) nunique 11\n",
      "                       Unemployment rate nunique 11\n",
      "                          Inflation rate nunique 13\n",
      "                                     GDP nunique 11\n",
      "                                  Target nunique 3\n"
     ]
    }
   ],
   "source": [
    "for col in train_df.columns:\n",
    "    print(f\"{col:>40} nunique {train_df[col].nunique()}\")"
   ]
  },
  {
   "cell_type": "code",
   "execution_count": 29,
   "metadata": {},
   "outputs": [],
   "source": [
    "for feat in cat_features:\n",
    "    dtype = pd.CategoricalDtype(categories=list(set(train_df[feat]) | set(test_df[feat]) | set(original_df[feat])), ordered=False)\n",
    "    for df in [train_df, test_df, original_df]:\n",
    "        df[feat] = df[feat].astype(dtype)\n",
    "\n",
    "combined_df = pd.concat([train_df, original_df], axis=0, ignore_index=True)"
   ]
  },
  {
   "cell_type": "code",
   "execution_count": 30,
   "metadata": {},
   "outputs": [
    {
     "data": {
      "application/vnd.plotly.v1+json": {
       "config": {
        "plotlyServerURL": "https://plot.ly"
       },
       "data": [
        {
         "alignmentgroup": "True",
         "hovertemplate": "x=%{x}<br>y=%{y}<extra></extra>",
         "legendgroup": "",
         "marker": {
          "color": "#636efa",
          "pattern": {
           "shape": ""
          }
         },
         "name": "",
         "offsetgroup": "",
         "orientation": "v",
         "showlegend": false,
         "textposition": "auto",
         "type": "bar",
         "x": [
          "Tuition fees up to date",
          "Course",
          "Scholarship holder",
          "Father's occupation",
          "Application mode",
          "Gender",
          "Mother's occupation",
          "Curricular units 2nd sem (approved) Curricular units 2nd sem (grade)",
          "Debtor",
          "Displaced",
          "Curricular units 1st sem (approved) Curricular units 2nd sem (approved)^2",
          "Curricular units 1st sem (evaluations) Curricular units 2nd sem (evaluations)",
          "Curricular units 1st sem (approved) Curricular units 2nd sem (approved)",
          "Mother's qualification",
          "Father's qualification",
          "Previous qualification (grade) Curricular units 1st sem (grade) Curricular units 2nd sem (approved)",
          "Curricular units 1st sem (evaluations) Curricular units 2nd sem (evaluations)^2",
          "Curricular units 1st sem (approved) Curricular units 2nd sem (approved) Curricular units 2nd sem (grade)",
          "Curricular units 1st sem (grade) Curricular units 2nd sem (approved)^2",
          "Curricular units 2nd sem (approved)^3",
          "Application order",
          "Admission grade Curricular units 1st sem (grade) Curricular units 2nd sem (approved)",
          "Curricular units 1st sem (enrolled) Curricular units 2nd sem (approved)^2",
          "Curricular units 1st sem (evaluations)^2 Curricular units 2nd sem (evaluations)",
          "Age at enrollment Curricular units 2nd sem (enrolled)^2",
          "Curricular units 1st sem (approved) Curricular units 1st sem (grade) Curricular units 2nd sem (approved)",
          "Curricular units 1st sem (grade) Curricular units 2nd sem (approved) Curricular units 2nd sem (grade)",
          "Curricular units 1st sem (approved)^2 Curricular units 2nd sem (approved)",
          "Curricular units 2nd sem (enrolled) Curricular units 2nd sem (approved) Curricular units 2nd sem (grade)",
          "Previous qualification (grade) Curricular units 1st sem (approved) Curricular units 2nd sem (approved)",
          "Curricular units 2nd sem (enrolled)^2 Unemployment rate",
          "Curricular units 2nd sem (grade)^3",
          "Previous qualification (grade) Curricular units 2nd sem (approved)^2",
          "Curricular units 1st sem (grade) Curricular units 2nd sem (grade)",
          "Age at enrollment Curricular units 1st sem (enrolled) Curricular units 2nd sem (enrolled)",
          "Admission grade Curricular units 2nd sem (approved)",
          "Previous qualification (grade) Admission grade^2",
          "Curricular units 1st sem (grade) Curricular units 2nd sem (enrolled) Curricular units 2nd sem (approved)",
          "Age at enrollment Curricular units 2nd sem (approved)^2",
          "Admission grade Age at enrollment Curricular units 2nd sem (approved)",
          "Previous qualification (grade) Curricular units 2nd sem (approved) Curricular units 2nd sem (grade)",
          "Curricular units 2nd sem (approved)^2",
          "Previous qualification (grade) Curricular units 1st sem (enrolled) Curricular units 2nd sem (evaluations)",
          "Previous qualification (grade) Admission grade Curricular units 2nd sem (approved)",
          "Curricular units 1st sem (enrolled) Curricular units 1st sem (approved) Curricular units 2nd sem (approved)",
          "Admission grade Curricular units 2nd sem (approved)^2",
          "Admission grade Curricular units 1st sem (enrolled) Curricular units 2nd sem (approved)",
          "Admission grade Curricular units 2nd sem (enrolled) Curricular units 2nd sem (approved)",
          "Previous qualification (grade) Curricular units 1st sem (evaluations) Curricular units 2nd sem (evaluations)",
          "Age at enrollment Curricular units 1st sem (enrolled) Curricular units 1st sem (grade)",
          "Curricular units 1st sem (grade) Curricular units 2nd sem (approved) Unemployment rate",
          "Admission grade Curricular units 1st sem (grade) Curricular units 2nd sem (grade)",
          "Admission grade Curricular units 2nd sem (enrolled) Curricular units 2nd sem (grade)",
          "Curricular units 2nd sem (enrolled) Curricular units 2nd sem (approved)",
          "Curricular units 2nd sem (evaluations) Curricular units 2nd sem (grade) GDP",
          "Curricular units 1st sem (enrolled) Curricular units 1st sem (evaluations) Curricular units 2nd sem (evaluations)",
          "Curricular units 1st sem (enrolled) Curricular units 1st sem (grade) Curricular units 2nd sem (approved)",
          "Curricular units 1st sem (approved)^2 Curricular units 1st sem (grade)",
          "Admission grade Curricular units 1st sem (evaluations)^2",
          "Previous qualification (grade) Curricular units 1st sem (evaluations)^2",
          "Curricular units 2nd sem (evaluations)",
          "Age at enrollment Curricular units 1st sem (grade) Curricular units 2nd sem (enrolled)",
          "Curricular units 1st sem (evaluations) Curricular units 1st sem (grade) Curricular units 2nd sem (evaluations)",
          "Curricular units 1st sem (enrolled) Curricular units 1st sem (evaluations) Curricular units 1st sem (grade)",
          "Previous qualification (grade) Curricular units 2nd sem (evaluations)^2",
          "Admission grade Age at enrollment Curricular units 1st sem (evaluations)",
          "Previous qualification (grade) Age at enrollment Curricular units 1st sem (evaluations)",
          "Admission grade",
          "Previous qualification (grade) Age at enrollment Curricular units 2nd sem (approved)",
          "Admission grade Age at enrollment",
          "Curricular units 2nd sem (enrolled) Curricular units 2nd sem (grade)",
          "Previous qualification (grade) Age at enrollment Curricular units 2nd sem (enrolled)",
          "Previous qualification (grade)^2 Curricular units 2nd sem (approved)",
          "Curricular units 2nd sem (evaluations) Curricular units 2nd sem (grade) Unemployment rate",
          "Age at enrollment Curricular units 2nd sem (grade)",
          "Curricular units 2nd sem (approved)^2 Curricular units 2nd sem (grade)",
          "Curricular units 2nd sem (enrolled) Curricular units 2nd sem (evaluations) Unemployment rate",
          "Age at enrollment Curricular units 1st sem (grade)",
          "Age at enrollment Curricular units 1st sem (enrolled)^2",
          "Curricular units 1st sem (grade) Curricular units 2nd sem (grade)^2",
          "Curricular units 1st sem (approved) Curricular units 2nd sem (evaluations) Curricular units 2nd sem (approved)",
          "Previous qualification (grade)^2 Admission grade",
          "Previous qualification (grade) Curricular units 2nd sem (enrolled)",
          "Curricular units 1st sem (evaluations) Curricular units 2nd sem (grade)",
          "Age at enrollment Curricular units 1st sem (evaluations) Curricular units 2nd sem (evaluations)",
          "Age at enrollment Curricular units 2nd sem (evaluations) Curricular units 2nd sem (grade)",
          "Admission grade^2 Curricular units 2nd sem (approved)",
          "Age at enrollment Curricular units 1st sem (evaluations) Curricular units 2nd sem (grade)",
          "Admission grade Curricular units 1st sem (enrolled) Curricular units 1st sem (evaluations)",
          "Age at enrollment^2 Curricular units 1st sem (evaluations)",
          "Admission grade Curricular units 1st sem (enrolled) Curricular units 2nd sem (enrolled)",
          "Curricular units 1st sem (evaluations) Curricular units 2nd sem (evaluations) Unemployment rate",
          "Admission grade Curricular units 2nd sem (approved) Unemployment rate",
          "Previous qualification (grade) Curricular units 1st sem (enrolled) Curricular units 2nd sem (approved)",
          "Age at enrollment Curricular units 2nd sem (evaluations)",
          "Curricular units 1st sem (enrolled) Curricular units 2nd sem (approved)",
          "Curricular units 1st sem (enrolled) Curricular units 1st sem (grade) Curricular units 2nd sem (enrolled)",
          "Age at enrollment^2 Curricular units 1st sem (grade)",
          "Curricular units 1st sem (grade) Curricular units 2nd sem (enrolled)^2",
          "Admission grade Curricular units 1st sem (approved)^2",
          "Curricular units 1st sem (grade)^3",
          "Admission grade^2 Curricular units 1st sem (grade)",
          "Curricular units 1st sem (grade)",
          "Previous qualification (grade) Admission grade Curricular units 1st sem (evaluations)",
          "Admission grade Age at enrollment^2",
          "Curricular units 1st sem (enrolled) Curricular units 1st sem (approved) Curricular units 1st sem (grade)",
          "Previous qualification (grade)^2 GDP",
          "Curricular units 2nd sem (grade) Unemployment rate",
          "Curricular units 2nd sem (evaluations) Curricular units 2nd sem (grade)",
          "Admission grade Age at enrollment Curricular units 1st sem (grade)",
          "Curricular units 1st sem (grade) Curricular units 2nd sem (evaluations) Curricular units 2nd sem (approved)",
          "Admission grade Curricular units 1st sem (enrolled) Curricular units 2nd sem (grade)",
          "Admission grade Curricular units 2nd sem (evaluations) Curricular units 2nd sem (approved)",
          "Previous qualification (grade) Curricular units 1st sem (grade) Curricular units 2nd sem (enrolled)",
          "Age at enrollment Curricular units 1st sem (approved) Curricular units 1st sem (grade)",
          "Curricular units 2nd sem (approved) Curricular units 2nd sem (grade)^2",
          "Admission grade Curricular units 1st sem (enrolled)",
          "Previous qualification (grade) Curricular units 2nd sem (evaluations) Curricular units 2nd sem (grade)",
          "Age at enrollment^2 Curricular units 2nd sem (evaluations)",
          "Admission grade Curricular units 1st sem (evaluations)",
          "Age at enrollment Curricular units 1st sem (grade) Curricular units 2nd sem (evaluations)",
          "Previous qualification (grade) Curricular units 1st sem (enrolled) Curricular units 2nd sem (grade)",
          "Curricular units 1st sem (evaluations) Curricular units 2nd sem (approved)^2",
          "Admission grade Curricular units 1st sem (approved) Curricular units 2nd sem (approved)",
          "Curricular units 1st sem (approved) Curricular units 2nd sem (enrolled) Curricular units 2nd sem (approved)",
          "Admission grade Age at enrollment Curricular units 1st sem (approved)",
          "Previous qualification (grade)^2",
          "Curricular units 1st sem (grade) Curricular units 2nd sem (enrolled)",
          "Admission grade Curricular units 1st sem (grade)^2",
          "Curricular units 1st sem (evaluations)^2 GDP",
          "Previous qualification (grade)^2 Curricular units 2nd sem (evaluations)",
          "Curricular units 1st sem (enrolled) Curricular units 1st sem (grade) Unemployment rate",
          "Admission grade^2 Curricular units 2nd sem (grade)",
          "Curricular units 2nd sem (enrolled) Curricular units 2nd sem (approved)^2",
          "Previous qualification (grade) Curricular units 2nd sem (enrolled) Curricular units 2nd sem (approved)",
          "Curricular units 1st sem (grade) Curricular units 2nd sem (evaluations)^2",
          "Admission grade Curricular units 1st sem (evaluations) Curricular units 2nd sem (evaluations)",
          "Previous qualification (grade) Curricular units 2nd sem (evaluations)",
          "Admission grade^2 Unemployment rate",
          "Previous qualification (grade) Admission grade",
          "Previous qualification (grade) Curricular units 1st sem (grade)^2",
          "Previous qualification (grade) Admission grade Curricular units 1st sem (enrolled)",
          "Curricular units 2nd sem (evaluations)^2",
          "Age at enrollment Curricular units 1st sem (evaluations) Unemployment rate",
          "Curricular units 1st sem (evaluations)",
          "Admission grade^2 Curricular units 1st sem (enrolled)",
          "Curricular units 1st sem (enrolled)^2 Curricular units 2nd sem (approved)",
          "Curricular units 2nd sem (enrolled) Curricular units 2nd sem (approved) Unemployment rate",
          "Previous qualification (grade) Curricular units 1st sem (enrolled) Curricular units 2nd sem (enrolled)",
          "Curricular units 1st sem (evaluations) Curricular units 2nd sem (enrolled) Curricular units 2nd sem (evaluations)",
          "Curricular units 1st sem (evaluations) Curricular units 2nd sem (evaluations) Curricular units 2nd sem (approved)",
          "Age at enrollment^2 GDP",
          "Admission grade Curricular units 1st sem (approved) Curricular units 2nd sem (evaluations)",
          "Previous qualification (grade) Age at enrollment Curricular units 2nd sem (grade)",
          "Admission grade Curricular units 2nd sem (evaluations)",
          "Previous qualification (grade) Curricular units 2nd sem (grade) Unemployment rate",
          "Curricular units 1st sem (evaluations) Curricular units 1st sem (grade) Curricular units 2nd sem (enrolled)",
          "Curricular units 1st sem (enrolled) Curricular units 1st sem (evaluations) Curricular units 2nd sem (enrolled)",
          "Curricular units 1st sem (grade) Curricular units 2nd sem (enrolled) Curricular units 2nd sem (evaluations)",
          "Age at enrollment Curricular units 1st sem (approved) Curricular units 2nd sem (approved)",
          "Age at enrollment Curricular units 1st sem (enrolled) Curricular units 1st sem (evaluations)",
          "Curricular units 1st sem (approved) Curricular units 2nd sem (grade)^2",
          "Previous qualification (grade) Curricular units 1st sem (enrolled)",
          "Admission grade^2 Age at enrollment",
          "Curricular units 1st sem (evaluations) Curricular units 2nd sem (enrolled) Curricular units 2nd sem (grade)",
          "Previous qualification (grade) Admission grade Curricular units 2nd sem (grade)",
          "Curricular units 1st sem (enrolled) Curricular units 1st sem (grade)",
          "Admission grade Curricular units 1st sem (approved) Curricular units 2nd sem (enrolled)",
          "Curricular units 1st sem (enrolled) Curricular units 2nd sem (evaluations)^2",
          "Admission grade Age at enrollment Curricular units 2nd sem (evaluations)",
          "Previous qualification (grade) Curricular units 1st sem (grade) Curricular units 2nd sem (evaluations)",
          "Age at enrollment^3",
          "Curricular units 1st sem (grade)^2 Curricular units 2nd sem (grade)",
          "Curricular units 1st sem (approved)^2 Curricular units 2nd sem (grade)",
          "Previous qualification (grade) Admission grade Curricular units 1st sem (grade)",
          "Age at enrollment Curricular units 1st sem (evaluations)",
          "Age at enrollment Curricular units 1st sem (enrolled) Curricular units 2nd sem (approved)",
          "Curricular units 2nd sem (approved) Curricular units 2nd sem (grade) Unemployment rate",
          "Admission grade Curricular units 1st sem (enrolled) Unemployment rate",
          "Previous qualification (grade) Curricular units 1st sem (approved)^2",
          "Previous qualification (grade) Curricular units 2nd sem (evaluations) Curricular units 2nd sem (approved)",
          "Age at enrollment Curricular units 1st sem (grade)^2",
          "Previous qualification (grade) Curricular units 1st sem (enrolled) Curricular units 1st sem (grade)",
          "Age at enrollment^2 Curricular units 2nd sem (enrolled)",
          "Age at enrollment Curricular units 2nd sem (enrolled) Curricular units 2nd sem (approved)",
          "Previous qualification (grade) Age at enrollment GDP",
          "Previous qualification (grade) Admission grade Curricular units 1st sem (approved)",
          "Previous qualification (grade) Admission grade Unemployment rate",
          "Curricular units 1st sem (grade) Curricular units 2nd sem (grade) Unemployment rate",
          "Curricular units 1st sem (evaluations) Curricular units 2nd sem (evaluations) Inflation rate",
          "Age at enrollment Curricular units 2nd sem (approved)",
          "Age at enrollment Curricular units 1st sem (grade) Curricular units 2nd sem (grade)",
          "Admission grade Curricular units 2nd sem (enrolled)",
          "Curricular units 1st sem (enrolled) Curricular units 2nd sem (grade)^2",
          "Curricular units 2nd sem (approved) Unemployment rate",
          "Admission grade Curricular units 1st sem (grade)",
          "Admission grade Curricular units 1st sem (approved)",
          "Curricular units 1st sem (evaluations) Curricular units 1st sem (approved) Curricular units 2nd sem (approved)",
          "Previous qualification (grade) Admission grade Age at enrollment",
          "Age at enrollment Curricular units 1st sem (enrolled) Curricular units 2nd sem (grade)",
          "Curricular units 1st sem (grade) Curricular units 2nd sem (evaluations) Curricular units 2nd sem (grade)",
          "Curricular units 1st sem (evaluations)^2 Curricular units 1st sem (grade)",
          "Previous qualification (grade) Curricular units 2nd sem (grade)",
          "Admission grade Curricular units 1st sem (grade) Curricular units 2nd sem (enrolled)",
          "Admission grade Curricular units 1st sem (grade) Unemployment rate",
          "Curricular units 1st sem (grade) Curricular units 2nd sem (enrolled) Unemployment rate",
          "Age at enrollment Inflation rate",
          "Curricular units 1st sem (enrolled) Curricular units 2nd sem (enrolled)^2",
          "Curricular units 1st sem (enrolled) Curricular units 2nd sem (enrolled) Curricular units 2nd sem (evaluations)",
          "Admission grade^2 Curricular units 1st sem (evaluations)",
          "Age at enrollment Curricular units 1st sem (evaluations)^2",
          "Previous qualification (grade) Curricular units 1st sem (evaluations) Curricular units 2nd sem (grade)",
          "Curricular units 1st sem (enrolled) Curricular units 1st sem (grade)^2",
          "Curricular units 1st sem (evaluations)^2 Curricular units 2nd sem (grade)",
          "Curricular units 1st sem (evaluations) Curricular units 2nd sem (grade) GDP",
          "Curricular units 2nd sem (enrolled)^2 Curricular units 2nd sem (evaluations)",
          "Curricular units 2nd sem (evaluations)^2 GDP",
          "Admission grade Curricular units 1st sem (enrolled) Curricular units 1st sem (grade)",
          "Curricular units 2nd sem (evaluations) Curricular units 2nd sem (grade)^2",
          "Curricular units 1st sem (enrolled) Curricular units 2nd sem (grade)",
          "Curricular units 1st sem (evaluations)^2 Unemployment rate",
          "Previous qualification (grade) Curricular units 1st sem (enrolled)^2",
          "Curricular units 1st sem (grade) Curricular units 2nd sem (enrolled) Curricular units 2nd sem (grade)",
          "Curricular units 2nd sem (grade) Inflation rate GDP",
          "Curricular units 1st sem (evaluations)^2",
          "Previous qualification (grade) Curricular units 1st sem (enrolled) Curricular units 1st sem (evaluations)",
          "Curricular units 1st sem (enrolled) Curricular units 2nd sem (approved) Unemployment rate",
          "Curricular units 2nd sem (enrolled) Curricular units 2nd sem (evaluations) Curricular units 2nd sem (approved)",
          "Curricular units 1st sem (enrolled) Curricular units 2nd sem (approved) Curricular units 2nd sem (grade)",
          "Curricular units 1st sem (approved) Curricular units 2nd sem (approved) Unemployment rate",
          "Previous qualification (grade) Admission grade Curricular units 2nd sem (enrolled)",
          "Admission grade^2 Inflation rate",
          "Age at enrollment Curricular units 1st sem (enrolled)",
          "Previous qualification (grade)^2 Curricular units 1st sem (approved)",
          "Age at enrollment Curricular units 1st sem (enrolled) Curricular units 2nd sem (evaluations)",
          "Age at enrollment Curricular units 1st sem (grade) Curricular units 2nd sem (approved)",
          "Admission grade^2",
          "Previous qualification (grade)^3",
          "Previous qualification (grade)^2 Curricular units 1st sem (enrolled)",
          "Previous qualification (grade) Curricular units 1st sem (approved) Curricular units 2nd sem (enrolled)",
          "Admission grade Age at enrollment Curricular units 2nd sem (grade)",
          "Admission grade^2 GDP",
          "Admission grade^3",
          "Curricular units 2nd sem (approved) Curricular units 2nd sem (grade) Inflation rate",
          "Curricular units 1st sem (enrolled) Curricular units 2nd sem (enrolled) Curricular units 2nd sem (grade)",
          "Curricular units 2nd sem (evaluations)^2 Unemployment rate",
          "Admission grade Curricular units 1st sem (evaluations) Curricular units 1st sem (grade)",
          "Admission grade Curricular units 1st sem (evaluations) Curricular units 2nd sem (enrolled)",
          "Curricular units 1st sem (grade) Inflation rate",
          "Curricular units 2nd sem (approved)^2 Unemployment rate",
          "Curricular units 1st sem (enrolled) Curricular units 1st sem (grade) Curricular units 2nd sem (grade)",
          "Previous qualification (grade) Curricular units 1st sem (approved) Curricular units 1st sem (grade)",
          "Curricular units 1st sem (enrolled) Curricular units 1st sem (grade) Curricular units 2nd sem (evaluations)",
          "Age at enrollment Curricular units 2nd sem (grade) Unemployment rate",
          "Curricular units 1st sem (grade) Curricular units 2nd sem (evaluations) Unemployment rate",
          "Age at enrollment Inflation rate^2",
          "Curricular units 1st sem (enrolled) Curricular units 2nd sem (enrolled) Curricular units 2nd sem (approved)",
          "Curricular units 2nd sem (enrolled)^2 Curricular units 2nd sem (approved)",
          "Previous qualification (grade) Age at enrollment^2",
          "Curricular units 1st sem (grade)^2 Curricular units 2nd sem (enrolled)",
          "Admission grade Curricular units 1st sem (enrolled) Curricular units 2nd sem (evaluations)",
          "Admission grade Curricular units 2nd sem (evaluations) Unemployment rate",
          "Curricular units 1st sem (evaluations)^2 Curricular units 2nd sem (enrolled)",
          "Curricular units 2nd sem (enrolled) Curricular units 2nd sem (grade) Unemployment rate",
          "Age at enrollment Curricular units 1st sem (grade) Unemployment rate",
          "Curricular units 1st sem (evaluations)^3",
          "Curricular units 2nd sem (enrolled) Curricular units 2nd sem (grade)^2",
          "Curricular units 1st sem (enrolled)^2 Curricular units 2nd sem (evaluations)",
          "Curricular units 1st sem (grade) Unemployment rate",
          "Curricular units 1st sem (grade) Curricular units 2nd sem (approved) Inflation rate",
          "Admission grade Curricular units 1st sem (grade) Inflation rate",
          "Curricular units 1st sem (enrolled) Curricular units 2nd sem (evaluations)",
          "Curricular units 1st sem (enrolled) Curricular units 2nd sem (grade) Unemployment rate",
          "Age at enrollment^2 Curricular units 1st sem (enrolled)",
          "Curricular units 1st sem (enrolled)^2 Curricular units 2nd sem (grade)",
          "Admission grade Curricular units 2nd sem (evaluations) Curricular units 2nd sem (grade)",
          "Previous qualification (grade) Inflation rate^2",
          "Previous qualification (grade) Curricular units 2nd sem (grade)^2",
          "Curricular units 2nd sem (grade) Unemployment rate^2",
          "Age at enrollment Unemployment rate Inflation rate",
          "Age at enrollment Curricular units 2nd sem (approved) Unemployment rate",
          "Previous qualification (grade) GDP",
          "Admission grade Unemployment rate",
          "Admission grade Age at enrollment Curricular units 2nd sem (enrolled)",
          "Curricular units 1st sem (enrolled) Curricular units 2nd sem (evaluations) Curricular units 2nd sem (approved)",
          "Curricular units 2nd sem (evaluations) Inflation rate^2",
          "Curricular units 1st sem (evaluations) Curricular units 1st sem (grade) Curricular units 2nd sem (approved)",
          "Curricular units 1st sem (approved) Curricular units 1st sem (grade) Curricular units 2nd sem (enrolled)",
          "Previous qualification (grade)^2 Curricular units 1st sem (grade)",
          "Previous qualification (grade) Curricular units 1st sem (evaluations) Unemployment rate",
          "Age at enrollment Curricular units 2nd sem (enrolled) Curricular units 2nd sem (evaluations)",
          "Previous qualification (grade) Curricular units 1st sem (grade) Curricular units 2nd sem (grade)",
          "Curricular units 1st sem (enrolled) Curricular units 2nd sem (enrolled) Unemployment rate",
          "Previous qualification (grade) Age at enrollment Inflation rate",
          "Admission grade Age at enrollment Curricular units 1st sem (enrolled)",
          "Curricular units 2nd sem (grade)",
          "Curricular units 2nd sem (evaluations) Unemployment rate",
          "Curricular units 1st sem (evaluations) Curricular units 2nd sem (enrolled)",
          "Curricular units 1st sem (enrolled) Curricular units 1st sem (evaluations)",
          "Curricular units 1st sem (credited) Unemployment rate^2",
          "Curricular units 1st sem (approved) Curricular units 1st sem (grade) GDP",
          "Curricular units 1st sem (evaluations) Unemployment rate^2",
          "Age at enrollment Curricular units 1st sem (enrolled) Unemployment rate",
          "Age at enrollment Curricular units 2nd sem (evaluations)^2",
          "Admission grade Curricular units 2nd sem (grade) Unemployment rate",
          "Admission grade Curricular units 2nd sem (evaluations) GDP",
          "Age at enrollment",
          "Admission grade Curricular units 1st sem (grade) Curricular units 2nd sem (evaluations)",
          "Curricular units 2nd sem (evaluations)^2 Curricular units 2nd sem (approved)",
          "Previous qualification (grade) Age at enrollment",
          "Curricular units 2nd sem (approved) Inflation rate^2",
          "Previous qualification (grade) Curricular units 1st sem (evaluations) Curricular units 1st sem (grade)",
          "Curricular units 2nd sem (evaluations) Curricular units 2nd sem (approved)",
          "Age at enrollment Curricular units 1st sem (approved) Curricular units 2nd sem (evaluations)",
          "Previous qualification (grade) Age at enrollment Curricular units 2nd sem (evaluations)",
          "Previous qualification (grade)^2 Curricular units 1st sem (evaluations)",
          "Age at enrollment Curricular units 2nd sem (approved) Curricular units 2nd sem (grade)",
          "Previous qualification (grade) Curricular units 1st sem (evaluations)",
          "Curricular units 1st sem (grade)^2 Curricular units 2nd sem (approved)",
          "Admission grade Curricular units 1st sem (evaluations) GDP",
          "Age at enrollment Unemployment rate GDP",
          "Curricular units 1st sem (approved)^3",
          "Curricular units 2nd sem (evaluations) Curricular units 2nd sem (approved) Curricular units 2nd sem (grade)",
          "Admission grade Curricular units 1st sem (approved) GDP",
          "Curricular units 1st sem (evaluations) Inflation rate",
          "Curricular units 1st sem (evaluations) Curricular units 1st sem (grade) Unemployment rate",
          "Admission grade GDP^2",
          "Previous qualification (grade) Curricular units 1st sem (grade) Inflation rate",
          "Admission grade Curricular units 1st sem (enrolled) Curricular units 1st sem (approved)",
          "Curricular units 1st sem (grade) Curricular units 2nd sem (grade) GDP",
          "Curricular units 1st sem (evaluations) Inflation rate^2",
          "Curricular units 2nd sem (grade)^2",
          "Curricular units 1st sem (enrolled)^2 Curricular units 1st sem (grade)",
          "Admission grade Curricular units 1st sem (approved) Curricular units 1st sem (grade)",
          "Curricular units 1st sem (enrolled) Curricular units 1st sem (evaluations) Curricular units 2nd sem (grade)",
          "Previous qualification (grade) Curricular units 1st sem (approved) Inflation rate",
          "Age at enrollment Curricular units 2nd sem (evaluations) GDP",
          "Curricular units 2nd sem (evaluations)^3",
          "Previous qualification (grade) Curricular units 1st sem (approved) Curricular units 2nd sem (grade)",
          "Curricular units 1st sem (enrolled) Curricular units 1st sem (evaluations)^2",
          "Previous qualification (grade) Curricular units 2nd sem (approved) GDP",
          "Previous qualification (grade) Curricular units 2nd sem (enrolled)^2",
          "Age at enrollment Curricular units 2nd sem (evaluations) Unemployment rate",
          "Curricular units 1st sem (evaluations) Curricular units 1st sem (approved) GDP",
          "Curricular units 1st sem (enrolled)",
          "Curricular units 1st sem (evaluations) Curricular units 1st sem (grade) Curricular units 2nd sem (grade)",
          "Admission grade^2 Curricular units 2nd sem (enrolled)",
          "Previous qualification (grade)",
          "Curricular units 2nd sem (grade) Unemployment rate GDP",
          "Admission grade Unemployment rate Inflation rate",
          "Curricular units 1st sem (evaluations) Curricular units 2nd sem (grade)^2",
          "Previous qualification (grade) Curricular units 2nd sem (approved) Unemployment rate",
          "Admission grade Curricular units 2nd sem (evaluations)^2",
          "Previous qualification (grade) Unemployment rate GDP",
          "Age at enrollment Inflation rate GDP",
          "Curricular units 2nd sem (enrolled)^2 Curricular units 2nd sem (grade)",
          "Curricular units 1st sem (enrolled)^2 Curricular units 1st sem (evaluations)",
          "Curricular units 1st sem (grade)^2",
          "Curricular units 1st sem (enrolled) Curricular units 1st sem (evaluations) Curricular units 1st sem (approved)",
          "Curricular units 1st sem (enrolled) Curricular units 1st sem (approved) Curricular units 2nd sem (evaluations)",
          "Curricular units 1st sem (enrolled)^2 Unemployment rate",
          "Previous qualification (grade) Curricular units 1st sem (approved) Curricular units 2nd sem (evaluations)",
          "Admission grade Curricular units 2nd sem (approved) Inflation rate",
          "Curricular units 1st sem (enrolled) Curricular units 1st sem (evaluations) Curricular units 2nd sem (approved)",
          "Age at enrollment Curricular units 1st sem (approved)",
          "Admission grade Age at enrollment GDP",
          "Curricular units 1st sem (evaluations) Curricular units 1st sem (grade)",
          "Curricular units 1st sem (enrolled) Curricular units 1st sem (approved) Curricular units 2nd sem (grade)",
          "Age at enrollment^2",
          "Admission grade GDP",
          "Admission grade Curricular units 1st sem (approved) Inflation rate",
          "Age at enrollment Curricular units 2nd sem (enrolled) Curricular units 2nd sem (grade)",
          "Previous qualification (grade) Age at enrollment Curricular units 1st sem (grade)",
          "Curricular units 1st sem (approved) Curricular units 2nd sem (grade) GDP",
          "Curricular units 1st sem (evaluations) Curricular units 2nd sem (enrolled) Curricular units 2nd sem (approved)",
          "Previous qualification (grade) Age at enrollment Curricular units 1st sem (enrolled)",
          "Curricular units 2nd sem (grade) Inflation rate",
          "Age at enrollment Curricular units 1st sem (grade) GDP",
          "Age at enrollment Curricular units 1st sem (approved)^2",
          "Previous qualification (grade) Curricular units 1st sem (evaluations) Curricular units 2nd sem (enrolled)",
          "Previous qualification (grade)^2 Age at enrollment",
          "Admission grade Curricular units 1st sem (approved) Unemployment rate",
          "Admission grade Inflation rate^2",
          "Admission grade Curricular units 1st sem (approved) Curricular units 2nd sem (grade)",
          "Curricular units 1st sem (grade) Curricular units 2nd sem (enrolled) Inflation rate",
          "Admission grade Curricular units 1st sem (evaluations) Unemployment rate",
          "Curricular units 1st sem (approved) Curricular units 2nd sem (evaluations) Curricular units 2nd sem (grade)",
          "Curricular units 1st sem (evaluations) Inflation rate GDP",
          "Educational special needs",
          "Curricular units 1st sem (approved) Curricular units 1st sem (grade)",
          "Age at enrollment Curricular units 1st sem (enrolled) GDP",
          "Admission grade Age at enrollment Inflation rate",
          "Age at enrollment^2 Curricular units 1st sem (approved)",
          "Admission grade Curricular units 2nd sem (grade) Inflation rate",
          "GDP^3",
          "Age at enrollment Curricular units 1st sem (evaluations) Curricular units 2nd sem (enrolled)",
          "Curricular units 1st sem (enrolled) Curricular units 1st sem (evaluations) Inflation rate",
          "Curricular units 1st sem (enrolled) Curricular units 1st sem (approved) Curricular units 2nd sem (enrolled)",
          "Curricular units 1st sem (enrolled) Curricular units 1st sem (approved) Inflation rate",
          "Previous qualification (grade) Admission grade Inflation rate",
          "Previous qualification (grade)^2 Unemployment rate",
          "Previous qualification (grade)^2 Curricular units 2nd sem (grade)",
          "Unemployment rate GDP",
          "Curricular units 2nd sem (enrolled) Curricular units 2nd sem (evaluations)",
          "Curricular units 1st sem (approved) Curricular units 2nd sem (evaluations) Inflation rate",
          "Curricular units 1st sem (approved) Curricular units 2nd sem (evaluations) GDP",
          "Curricular units 1st sem (approved) Curricular units 2nd sem (evaluations)",
          "Curricular units 1st sem (grade) Curricular units 1st sem (without evaluations) Inflation rate",
          "Curricular units 1st sem (evaluations) Unemployment rate",
          "Admission grade Inflation rate",
          "Previous qualification (grade) Unemployment rate",
          "Curricular units 2nd sem (evaluations) Unemployment rate^2",
          "Previous qualification (grade) Curricular units 1st sem (approved)",
          "GDP",
          "Curricular units 1st sem (enrolled) Curricular units 1st sem (approved)^2",
          "Curricular units 2nd sem (grade) GDP",
          "Previous qualification (grade) Curricular units 1st sem (grade) GDP",
          "Previous qualification (grade) Unemployment rate Inflation rate",
          "Previous qualification (grade) Curricular units 1st sem (approved) GDP",
          "Age at enrollment Curricular units 1st sem (approved) Curricular units 2nd sem (grade)",
          "Age at enrollment Curricular units 2nd sem (evaluations) Curricular units 2nd sem (approved)",
          "Age at enrollment Curricular units 2nd sem (grade)^2",
          "Previous qualification (grade) Curricular units 2nd sem (enrolled) Unemployment rate",
          "Curricular units 2nd sem (evaluations) Curricular units 2nd sem (approved) GDP",
          "Curricular units 1st sem (evaluations) Curricular units 1st sem (approved) Curricular units 2nd sem (evaluations)",
          "Admission grade Unemployment rate GDP",
          "Age at enrollment^2 Curricular units 2nd sem (approved)",
          "Age at enrollment Curricular units 2nd sem (evaluations) Inflation rate",
          "Curricular units 1st sem (approved) Curricular units 2nd sem (grade)",
          "Curricular units 1st sem (enrolled)^3",
          "Previous qualification (grade) Inflation rate",
          "Curricular units 1st sem (enrolled)^2 Curricular units 2nd sem (enrolled)",
          "Previous qualification (grade) Curricular units 1st sem (grade)",
          "Previous qualification (grade) Curricular units 1st sem (evaluations) Curricular units 2nd sem (approved)",
          "Admission grade Curricular units 1st sem (evaluations) Curricular units 2nd sem (approved)",
          "Age at enrollment GDP^2",
          "Curricular units 1st sem (evaluations) Curricular units 1st sem (approved) Curricular units 2nd sem (grade)",
          "Curricular units 1st sem (evaluations) Curricular units 1st sem (grade) Inflation rate",
          "Previous qualification (grade) Curricular units 2nd sem (evaluations) GDP",
          "Curricular units 2nd sem (enrolled) Curricular units 2nd sem (evaluations)^2",
          "Previous qualification (grade) Curricular units 1st sem (enrolled) Unemployment rate",
          "Curricular units 1st sem (grade) Curricular units 2nd sem (approved) GDP",
          "Age at enrollment Curricular units 1st sem (grade) Inflation rate",
          "Age at enrollment Curricular units 1st sem (evaluations) Curricular units 2nd sem (approved)",
          "Curricular units 1st sem (grade)^2 Curricular units 2nd sem (evaluations)",
          "Previous qualification (grade) Curricular units 2nd sem (enrolled) Curricular units 2nd sem (grade)",
          "Previous qualification (grade)^2 Inflation rate",
          "Admission grade Curricular units 2nd sem (enrolled) Unemployment rate",
          "Age at enrollment Curricular units 1st sem (approved) Unemployment rate",
          "Previous qualification (grade) Curricular units 2nd sem (enrolled) Curricular units 2nd sem (evaluations)",
          "Admission grade Curricular units 1st sem (evaluations) Curricular units 2nd sem (grade)",
          "Curricular units 1st sem (evaluations) Curricular units 1st sem (approved) Curricular units 2nd sem (enrolled)",
          "Inflation rate",
          "Curricular units 2nd sem (approved)^2 GDP",
          "Admission grade Curricular units 2nd sem (approved) Curricular units 2nd sem (grade)",
          "Curricular units 1st sem (approved) Curricular units 2nd sem (enrolled) Curricular units 2nd sem (grade)",
          "Curricular units 2nd sem (approved) Unemployment rate^2",
          "Curricular units 1st sem (evaluations) Curricular units 2nd sem (grade) Inflation rate",
          "Curricular units 1st sem (evaluations) Curricular units 2nd sem (enrolled) Unemployment rate",
          "Curricular units 1st sem (evaluations) Curricular units 2nd sem (enrolled)^2",
          "Previous qualification (grade) Admission grade GDP",
          "Age at enrollment Curricular units 1st sem (evaluations) GDP",
          "Unemployment rate Inflation rate^2",
          "Age at enrollment Curricular units 1st sem (enrolled) Curricular units 1st sem (approved)",
          "Curricular units 2nd sem (evaluations) Unemployment rate GDP",
          "Curricular units 1st sem (enrolled) Curricular units 1st sem (grade) Inflation rate",
          "Admission grade Inflation rate GDP",
          "Admission grade Curricular units 2nd sem (enrolled)^2",
          "Curricular units 2nd sem (enrolled) Inflation rate^2",
          "Curricular units 1st sem (grade) GDP^2",
          "Curricular units 1st sem (grade) Curricular units 2nd sem (grade) Inflation rate",
          "Admission grade Curricular units 2nd sem (evaluations) Inflation rate",
          "Curricular units 1st sem (approved) Curricular units 2nd sem (approved) GDP",
          "Curricular units 1st sem (approved) Curricular units 2nd sem (evaluations) Unemployment rate",
          "Curricular units 1st sem (approved) Curricular units 2nd sem (enrolled) Inflation rate",
          "Curricular units 1st sem (approved) Curricular units 1st sem (grade) Unemployment rate",
          "Curricular units 1st sem (approved) Curricular units 1st sem (grade) Curricular units 2nd sem (grade)",
          "Admission grade Curricular units 2nd sem (enrolled) Curricular units 2nd sem (evaluations)",
          "Marital status",
          "Curricular units 1st sem (enrolled) Curricular units 1st sem (approved)",
          "Curricular units 2nd sem (evaluations) GDP",
          "Previous qualification (grade) Curricular units 1st sem (evaluations) GDP",
          "Admission grade^2 Curricular units 2nd sem (evaluations)",
          "Previous qualification (grade) Inflation rate GDP",
          "Previous qualification (grade)^2 Curricular units 2nd sem (enrolled)",
          "Previous qualification (grade) Curricular units 1st sem (grade) Unemployment rate",
          "Curricular units 1st sem (grade) Curricular units 2nd sem (approved)",
          "Previous qualification (grade) Curricular units 1st sem (enrolled) Curricular units 1st sem (approved)",
          "Curricular units 2nd sem (enrolled)",
          "Curricular units 2nd sem (evaluations) Curricular units 2nd sem (grade) Inflation rate",
          "Previous qualification (grade) Age at enrollment Curricular units 1st sem (approved)",
          "Age at enrollment^2 Inflation rate",
          "Curricular units 1st sem (evaluations) Curricular units 1st sem (approved) Unemployment rate",
          "Curricular units 2nd sem (approved)",
          "Curricular units 2nd sem (grade)^2 Inflation rate",
          "Previous qualification (grade) Admission grade Curricular units 2nd sem (evaluations)",
          "Curricular units 1st sem (grade) Unemployment rate Inflation rate",
          "Previous qualification (grade) Unemployment rate^2",
          "Curricular units 2nd sem (evaluations) Curricular units 2nd sem (approved) Unemployment rate",
          "Curricular units 2nd sem (approved) Inflation rate",
          "Age at enrollment Curricular units 1st sem (approved) GDP",
          "Curricular units 2nd sem (enrolled) Unemployment rate^2",
          "Curricular units 2nd sem (enrolled) Curricular units 2nd sem (grade) Inflation rate",
          "Age at enrollment GDP",
          "Age at enrollment Curricular units 2nd sem (enrolled) Unemployment rate",
          "Curricular units 1st sem (grade)^2 Inflation rate",
          "Previous qualification (grade) Curricular units 1st sem (enrolled) Inflation rate",
          "Age at enrollment Curricular units 2nd sem (approved) Inflation rate",
          "Curricular units 2nd sem (grade)^2 GDP",
          "Curricular units 1st sem (enrolled) Unemployment rate^2",
          "Curricular units 1st sem (evaluations) Curricular units 2nd sem (approved) Curricular units 2nd sem (grade)",
          "International",
          "Curricular units 1st sem (evaluations) Curricular units 2nd sem (approved) Inflation rate",
          "Curricular units 1st sem (approved) Curricular units 2nd sem (enrolled)",
          "Curricular units 1st sem (evaluations)^2 Inflation rate",
          "Admission grade Curricular units 1st sem (grade) GDP",
          "Curricular units 2nd sem (grade) Unemployment rate Inflation rate",
          "Unemployment rate Inflation rate",
          "Curricular units 2nd sem (enrolled) Inflation rate GDP",
          "Curricular units 1st sem (evaluations) Curricular units 2nd sem (evaluations) GDP",
          "Curricular units 1st sem (enrolled) Curricular units 2nd sem (evaluations) Curricular units 2nd sem (grade)",
          "Curricular units 1st sem (evaluations) Curricular units 1st sem (grade) GDP",
          "Curricular units 2nd sem (evaluations) Inflation rate",
          "Admission grade Curricular units 2nd sem (enrolled) Inflation rate",
          "Curricular units 1st sem (enrolled) Curricular units 2nd sem (evaluations) Unemployment rate",
          "Previous qualification (grade) Curricular units 1st sem (evaluations) Inflation rate",
          "Curricular units 2nd sem (evaluations)^2 Inflation rate",
          "Curricular units 1st sem (evaluations) Curricular units 2nd sem (enrolled) Inflation rate",
          "Curricular units 2nd sem (evaluations) Unemployment rate Inflation rate",
          "Age at enrollment Curricular units 2nd sem (grade) GDP",
          "Curricular units 1st sem (approved) Curricular units 1st sem (grade) Inflation rate",
          "Curricular units 1st sem (grade)^2 GDP",
          "Admission grade Curricular units 1st sem (enrolled)^2",
          "Curricular units 1st sem (grade) Curricular units 2nd sem (evaluations) Inflation rate",
          "Curricular units 1st sem (enrolled) Curricular units 2nd sem (grade) Inflation rate",
          "Admission grade Curricular units 2nd sem (grade)^2",
          "Age at enrollment Unemployment rate",
          "Unemployment rate^2 Inflation rate",
          "Admission grade Curricular units 2nd sem (grade) GDP",
          "Age at enrollment Curricular units 2nd sem (grade) Inflation rate",
          "Curricular units 1st sem (grade) Curricular units 2nd sem (evaluations)",
          "Previous qualification (grade) Curricular units 2nd sem (enrolled) GDP",
          "Curricular units 1st sem (grade) Inflation rate GDP",
          "Curricular units 1st sem (approved)^2",
          "Previous qualification (grade) Curricular units 2nd sem (evaluations) Inflation rate",
          "Age at enrollment Curricular units 1st sem (evaluations) Curricular units 1st sem (approved)",
          "Curricular units 2nd sem (enrolled)^3",
          "Curricular units 2nd sem (enrolled) Curricular units 2nd sem (grade) GDP",
          "Curricular units 1st sem (enrolled) Inflation rate^2",
          "Curricular units 1st sem (approved) Unemployment rate^2",
          "Curricular units 2nd sem (approved) Curricular units 2nd sem (grade) GDP",
          "Curricular units 1st sem (approved) Inflation rate GDP",
          "Curricular units 1st sem (evaluations) Curricular units 1st sem (approved) Curricular units 1st sem (grade)",
          "Curricular units 1st sem (approved) Unemployment rate Inflation rate",
          "Curricular units 1st sem (grade) Unemployment rate GDP",
          "Age at enrollment Curricular units 1st sem (evaluations) Curricular units 1st sem (without evaluations)",
          "Curricular units 1st sem (enrolled) Curricular units 2nd sem (approved) Inflation rate",
          "Curricular units 1st sem (enrolled) Curricular units 2nd sem (evaluations) GDP",
          "Curricular units 1st sem (enrolled)^2",
          "Age at enrollment Curricular units 1st sem (evaluations) Inflation rate",
          "Curricular units 2nd sem (enrolled) Curricular units 2nd sem (evaluations) Inflation rate",
          "Admission grade Curricular units 2nd sem (grade)",
          "Curricular units 1st sem (enrolled) Curricular units 2nd sem (enrolled) Inflation rate",
          "Curricular units 1st sem (approved) Curricular units 2nd sem (enrolled) Unemployment rate",
          "Curricular units 2nd sem (enrolled) Unemployment rate Inflation rate",
          "Curricular units 1st sem (evaluations) Curricular units 2nd sem (grade) Unemployment rate",
          "Curricular units 1st sem (evaluations) Curricular units 2nd sem (approved) Unemployment rate",
          "Previous qualification (grade) Curricular units 2nd sem (approved) Inflation rate",
          "Curricular units 1st sem (approved) Curricular units 2nd sem (approved) Inflation rate",
          "Curricular units 1st sem (approved) GDP",
          "Curricular units 1st sem (grade) Curricular units 1st sem (without evaluations) Curricular units 2nd sem (grade)",
          "Previous qualification (grade) Curricular units 2nd sem (enrolled) Inflation rate",
          "Curricular units 1st sem (grade)^2 Curricular units 1st sem (without evaluations)",
          "Curricular units 1st sem (approved) Curricular units 1st sem (grade) Curricular units 2nd sem (evaluations)",
          "Curricular units 1st sem (enrolled) Curricular units 1st sem (approved) Unemployment rate",
          "Curricular units 2nd sem (approved) Unemployment rate Inflation rate",
          "Inflation rate GDP^2",
          "Inflation rate^2",
          "Curricular units 1st sem (evaluations) Unemployment rate Inflation rate",
          "Unemployment rate GDP^2",
          "Admission grade Curricular units 2nd sem (enrolled) GDP",
          "Age at enrollment Curricular units 2nd sem (approved) GDP",
          "Curricular units 1st sem (approved)^2 Inflation rate",
          "Curricular units 1st sem (evaluations) GDP",
          "Curricular units 1st sem (enrolled) Curricular units 1st sem (evaluations) Unemployment rate",
          "Previous qualification (grade) Curricular units 1st sem (enrolled) GDP",
          "Curricular units 2nd sem (credited) Unemployment rate^2",
          "Curricular units 2nd sem (evaluations) Inflation rate GDP",
          "Admission grade Unemployment rate^2",
          "Admission grade Curricular units 1st sem (evaluations) Curricular units 1st sem (approved)",
          "Curricular units 1st sem (evaluations) Curricular units 2nd sem (enrolled) GDP",
          "Unemployment rate Inflation rate GDP",
          "Age at enrollment Curricular units 1st sem (without evaluations) Unemployment rate",
          "Age at enrollment Curricular units 1st sem (enrolled) Curricular units 1st sem (without evaluations)",
          "Curricular units 1st sem (evaluations) Curricular units 1st sem (grade) Curricular units 1st sem (without evaluations)",
          "Curricular units 1st sem (without evaluations) Curricular units 2nd sem (grade) GDP",
          "Curricular units 2nd sem (approved)^2 Inflation rate",
          "Curricular units 2nd sem (approved) GDP^2",
          "Curricular units 2nd sem (evaluations) GDP^2",
          "Curricular units 1st sem (approved) Curricular units 1st sem (grade)^2",
          "Previous qualification (grade) Curricular units 1st sem (approved) Unemployment rate",
          "Curricular units 1st sem (grade) Curricular units 1st sem (without evaluations) Curricular units 2nd sem (evaluations)",
          "Curricular units 1st sem (evaluations) Curricular units 2nd sem (evaluations) Curricular units 2nd sem (grade)",
          "Daytime/evening attendance",
          "Curricular units 1st sem (approved)",
          "Curricular units 2nd sem (enrolled) Curricular units 2nd sem (evaluations) Curricular units 2nd sem (grade)",
          "Curricular units 2nd sem (evaluations) Curricular units 2nd sem (approved)^2",
          "Age at enrollment Curricular units 2nd sem (enrolled)"
         ],
         "xaxis": "x",
         "y": [
          0.02864,
          0.0133999999999999,
          0.0097599999999999,
          0.0036399999999999,
          0.0033599999999999,
          0.00312,
          0.0027599999999999,
          0.00196,
          0.0018799999999999,
          0.0018799999999999,
          0.00176,
          0.0017199999999999,
          0.0016399999999999,
          0.0016399999999999,
          0.0015599999999999,
          0.0015199999999999,
          0.0014799999999999,
          0.00136,
          0.00132,
          0.0013199999999999,
          0.0012799999999999,
          0.00116,
          0.00116,
          0.0011599999999999,
          0.00112,
          0.00112,
          0.00108,
          0.0010399999999999,
          0.001,
          0.001,
          0.001,
          0.00096,
          0.0009599999999999,
          0.00092,
          0.0009199999999999,
          0.0009199999999999,
          0.0008799999999999,
          0.0008799999999999,
          0.0008799999999999,
          0.0008799999999999,
          0.0008799999999999,
          0.0008799999999999,
          0.00084,
          0.0008399999999999,
          0.0008399999999999,
          0.0008,
          0.0008,
          0.0008,
          0.0008,
          0.0008,
          0.00076,
          0.00076,
          0.00076,
          0.0007599999999999,
          0.00072,
          0.00072,
          0.00072,
          0.00072,
          0.0007199999999999,
          0.0007199999999999,
          0.00068,
          0.00068,
          0.0006799999999999,
          0.0006799999999999,
          0.0006799999999999,
          0.00064,
          0.00064,
          0.00064,
          0.00064,
          0.00064,
          0.00064,
          0.0006399999999999,
          0.0006399999999999,
          0.0006399999999999,
          0.0006399999999999,
          0.0006399999999999,
          0.0006399999999999,
          0.0006399999999999,
          0.0006399999999999,
          0.0006,
          0.0006,
          0.0006,
          0.0006,
          0.0006,
          0.0006,
          0.0006,
          0.0006,
          0.0006,
          0.0006,
          0.0006,
          0.0006,
          0.0006,
          0.0006,
          0.0005999999999999,
          0.0005999999999999,
          0.00056,
          0.00056,
          0.00056,
          0.00056,
          0.00056,
          0.00056,
          0.00056,
          0.00056,
          0.00056,
          0.00056,
          0.00056,
          0.00056,
          0.00056,
          0.00056,
          0.00056,
          0.00056,
          0.00056,
          0.00056,
          0.00056,
          0.00056,
          0.00056,
          0.00056,
          0.00056,
          0.00056,
          0.00056,
          0.00056,
          0.00056,
          0.0005599999999999,
          0.0005599999999999,
          0.0005599999999999,
          0.0005599999999999,
          0.00052,
          0.00052,
          0.00052,
          0.00052,
          0.00052,
          0.00052,
          0.00052,
          0.00052,
          0.00052,
          0.00052,
          0.00052,
          0.00052,
          0.00052,
          0.0005199999999999,
          0.0005199999999999,
          0.0005199999999999,
          0.0005199999999999,
          0.0005199999999999,
          0.0005199999999999,
          0.0005199999999999,
          0.0005199999999999,
          0.0005199999999999,
          0.0005199999999999,
          0.0005199999999999,
          0.00048,
          0.00048,
          0.00048,
          0.00048,
          0.00048,
          0.00048,
          0.00048,
          0.00048,
          0.00048,
          0.00048,
          0.00048,
          0.00048,
          0.00048,
          0.00048,
          0.00048,
          0.0004799999999999,
          0.0004799999999999,
          0.0004799999999999,
          0.0004799999999999,
          0.0004799999999999,
          0.0004799999999999,
          0.0004799999999999,
          0.0004799999999999,
          0.0004799999999999,
          0.0004799999999999,
          0.0004799999999999,
          0.0004799999999999,
          0.0004799999999999,
          0.00044,
          0.00044,
          0.00044,
          0.00044,
          0.00044,
          0.00044,
          0.00044,
          0.00044,
          0.00044,
          0.00044,
          0.00044,
          0.00044,
          0.00044,
          0.0004399999999999,
          0.0004399999999999,
          0.0004399999999999,
          0.0004399999999999,
          0.0004399999999999,
          0.0004399999999999,
          0.0004399999999999,
          0.0004399999999999,
          0.0004399999999999,
          0.0004399999999999,
          0.0004399999999999,
          0.0004399999999999,
          0.0004399999999999,
          0.0004399999999999,
          0.0004399999999999,
          0.0004399999999999,
          0.0004399999999999,
          0.0004399999999999,
          0.0004399999999999,
          0.0004399999999999,
          0.0004399999999999,
          0.0004399999999999,
          0.0004399999999999,
          0.0004399999999999,
          0.0004,
          0.0004,
          0.0004,
          0.0004,
          0.0004,
          0.0004,
          0.0004,
          0.0004,
          0.0004,
          0.0004,
          0.0004,
          0.0004,
          0.0004,
          0.0004,
          0.0004,
          0.0004,
          0.0004,
          0.0004,
          0.0004,
          0.0004,
          0.0004,
          0.0004,
          0.0004,
          0.0004,
          0.0004,
          0.0004,
          0.0004,
          0.0004,
          0.0004,
          0.0004,
          0.0004,
          0.0004,
          0.0004,
          0.0004,
          0.0003999999999999,
          0.0003999999999999,
          0.0003999999999999,
          0.0003999999999999,
          0.0003999999999999,
          0.0003999999999999,
          0.0003999999999999,
          0.0003999999999999,
          0.0003999999999999,
          0.0003999999999999,
          0.0003999999999999,
          0.0003999999999999,
          0.0003999999999999,
          0.0003999999999999,
          0.00036,
          0.00036,
          0.00036,
          0.00036,
          0.00036,
          0.00036,
          0.00036,
          0.00036,
          0.00036,
          0.00036,
          0.00036,
          0.00036,
          0.00036,
          0.00036,
          0.00036,
          0.00036,
          0.00036,
          0.00036,
          0.00036,
          0.00036,
          0.00036,
          0.00036,
          0.0003599999999999,
          0.0003599999999999,
          0.0003599999999999,
          0.0003599999999999,
          0.0003599999999999,
          0.0003599999999999,
          0.0003599999999999,
          0.0003599999999999,
          0.0003599999999999,
          0.0003599999999999,
          0.0003599999999999,
          0.0003599999999999,
          0.0003599999999999,
          0.0003599999999999,
          0.00032,
          0.00032,
          0.00032,
          0.00032,
          0.00032,
          0.00032,
          0.00032,
          0.00032,
          0.00032,
          0.00032,
          0.00032,
          0.00032,
          0.00032,
          0.00032,
          0.00032,
          0.0003199999999999,
          0.0003199999999999,
          0.0003199999999999,
          0.0003199999999999,
          0.0003199999999999,
          0.0003199999999999,
          0.0003199999999999,
          0.0003199999999999,
          0.0003199999999999,
          0.0003199999999999,
          0.0003199999999999,
          0.0003199999999999,
          0.0003199999999999,
          0.0003199999999999,
          0.0003199999999999,
          0.0003199999999999,
          0.0003199999999999,
          0.0003199999999999,
          0.0003199999999999,
          0.0003199999999999,
          0.0003199999999999,
          0.0003199999999999,
          0.00028,
          0.00028,
          0.00028,
          0.00028,
          0.00028,
          0.00028,
          0.00028,
          0.0002799999999999,
          0.0002799999999999,
          0.0002799999999999,
          0.0002799999999999,
          0.0002799999999999,
          0.0002799999999999,
          0.0002799999999999,
          0.0002799999999999,
          0.0002799999999999,
          0.0002799999999999,
          0.0002799999999999,
          0.0002799999999999,
          0.0002799999999999,
          0.0002799999999999,
          0.0002799999999999,
          0.0002799999999999,
          0.0002799999999999,
          0.0002799999999999,
          0.0002799999999999,
          0.0002799999999999,
          0.0002799999999999,
          0.0002799999999999,
          0.0002799999999999,
          0.0002799999999999,
          0.0002799999999999,
          0.0002799999999999,
          0.0002799999999999,
          0.0002799999999999,
          0.0002799999999999,
          0.0002799999999999,
          0.0002799999999999,
          0.0002799999999999,
          0.0002799999999999,
          0.0002799999999999,
          0.0002799999999999,
          0.0002799999999999,
          0.0002799999999999,
          0.0002799999999999,
          0.0002799999999999,
          0.0002799999999999,
          0.00024,
          0.00024,
          0.00024,
          0.00024,
          0.00024,
          0.00024,
          0.00024,
          0.0002399999999999,
          0.0002399999999999,
          0.0002399999999999,
          0.0002399999999999,
          0.0002399999999999,
          0.0002399999999999,
          0.0002399999999999,
          0.0002399999999999,
          0.0002399999999999,
          0.0002399999999999,
          0.0002399999999999,
          0.0002399999999999,
          0.0002399999999999,
          0.0002399999999999,
          0.0002399999999999,
          0.0002399999999999,
          0.0002399999999999,
          0.0002399999999999,
          0.0002399999999999,
          0.0002399999999999,
          0.0002399999999999,
          0.0002399999999999,
          0.0002399999999999,
          0.0002399999999999,
          0.0002399999999999,
          0.0002399999999999,
          0.0002399999999999,
          0.0002399999999999,
          0.0002399999999999,
          0.0002399999999999,
          0.0002399999999999,
          0.0002399999999999,
          0.0002399999999999,
          0.0002399999999999,
          0.0002399999999999,
          0.0002399999999999,
          0.0002399999999999,
          0.0002399999999999,
          0.0002399999999999,
          0.0002399999999999,
          0.0002399999999999,
          0.0002399999999999,
          0.0002399999999999,
          0.0002,
          0.0002,
          0.0002,
          0.0002,
          0.0002,
          0.0002,
          0.0002,
          0.0002,
          0.0002,
          0.0002,
          0.0002,
          0.0002,
          0.0002,
          0.0002,
          0.0002,
          0.0002,
          0.0002,
          0.0002,
          0.0002,
          0.0002,
          0.0002,
          0.0002,
          0.0002,
          0.0002,
          0.0002,
          0.0002,
          0.0002,
          0.0002,
          0.0001999999999999,
          0.0001999999999999,
          0.0001999999999999,
          0.0001999999999999,
          0.0001999999999999,
          0.0001999999999999,
          0.0001999999999999,
          0.0001999999999999,
          0.0001999999999999,
          0.0001999999999999,
          0.0001999999999999,
          0.0001999999999999,
          0.0001999999999999,
          0.0001999999999999,
          0.0001999999999999,
          0.0001999999999999,
          0.0001999999999999,
          0.0001999999999999,
          0.0001999999999999,
          0.0001999999999999,
          0.0001999999999999,
          0.0001999999999999,
          0.0001999999999999,
          0.0001999999999999,
          0.0001999999999999,
          0.0001999999999999,
          0.0001999999999999,
          0.0001999999999999,
          0.00016,
          0.00016,
          0.00016,
          0.00016,
          0.00016,
          0.00016,
          0.00016,
          0.00016,
          0.00016,
          0.00016,
          0.00016,
          0.00016,
          0.00016,
          0.00016,
          0.00016,
          0.00016,
          0.00016,
          0.00016,
          0.00016,
          0.00016,
          0.00016,
          0.00016,
          0.00016,
          0.00016,
          0.0001599999999999,
          0.0001599999999999,
          0.0001599999999999,
          0.0001599999999999,
          0.0001599999999999,
          0.0001599999999999,
          0.0001599999999999,
          0.0001599999999999,
          0.0001599999999999,
          0.0001599999999999,
          0.0001599999999999,
          0.0001599999999999,
          0.0001599999999999,
          0.0001599999999999,
          0.0001599999999999,
          0.0001599999999999,
          0.0001599999999999,
          0.0001599999999999,
          0.0001599999999999,
          0.0001599999999999,
          0.0001599999999999,
          0.0001599999999999,
          0.0001599999999999,
          0.0001599999999999,
          0.0001599999999999,
          0.0001599999999999,
          0.0001599999999999,
          0.0001599999999999,
          0.0001599999999999,
          0.0001599999999999,
          0.00012,
          0.00012,
          0.00012,
          0.00012,
          0.00012,
          0.00012,
          0.00012,
          0.00012,
          0.00012,
          0.00012,
          0.00012,
          0.00012,
          0.0001199999999999,
          0.0001199999999999,
          0.0001199999999999,
          0.0001199999999999,
          0.0001199999999999,
          0.0001199999999999,
          0.0001199999999999,
          0.0001199999999999,
          0.0001199999999999,
          0.0001199999999999,
          0.0001199999999999,
          0.0001199999999999,
          0.0001199999999999,
          0.0001199999999999,
          0.0001199999999999,
          0.0001199999999999,
          0.0001199999999999,
          0.0001199999999999,
          0.0001199999999999,
          0.0001199999999999,
          0.0001199999999999,
          0.0001199999999999,
          0.0001199999999999,
          0.0001199999999999,
          0.0001199999999999,
          0.0001199999999999,
          0.0001199999999999,
          0.0001199999999999,
          0.0001199999999999,
          0.0001199999999999,
          0.0001199999999999,
          0.0001199999999999,
          0.0001199999999999,
          0.0001199999999999,
          0.0001199999999999,
          0.0001199999999999,
          0.0001199999999999,
          0.0001199999999999,
          0.0001199999999999,
          0.0001199999999999,
          -0.0001199999999999,
          -0.0001199999999999,
          -0.0001199999999999,
          -0.00012,
          -0.00012,
          -0.0001599999999999,
          -0.0001599999999999,
          -0.00016,
          -0.00024,
          -0.0003599999999999,
          -0.0004799999999999,
          -0.00056,
          -0.0005999999999999
         ],
         "yaxis": "y"
        }
       ],
       "layout": {
        "barmode": "relative",
        "legend": {
         "tracegroupgap": 0
        },
        "margin": {
         "t": 60
        },
        "template": {
         "data": {
          "bar": [
           {
            "error_x": {
             "color": "#2a3f5f"
            },
            "error_y": {
             "color": "#2a3f5f"
            },
            "marker": {
             "line": {
              "color": "#E5ECF6",
              "width": 0.5
             },
             "pattern": {
              "fillmode": "overlay",
              "size": 10,
              "solidity": 0.2
             }
            },
            "type": "bar"
           }
          ],
          "barpolar": [
           {
            "marker": {
             "line": {
              "color": "#E5ECF6",
              "width": 0.5
             },
             "pattern": {
              "fillmode": "overlay",
              "size": 10,
              "solidity": 0.2
             }
            },
            "type": "barpolar"
           }
          ],
          "carpet": [
           {
            "aaxis": {
             "endlinecolor": "#2a3f5f",
             "gridcolor": "white",
             "linecolor": "white",
             "minorgridcolor": "white",
             "startlinecolor": "#2a3f5f"
            },
            "baxis": {
             "endlinecolor": "#2a3f5f",
             "gridcolor": "white",
             "linecolor": "white",
             "minorgridcolor": "white",
             "startlinecolor": "#2a3f5f"
            },
            "type": "carpet"
           }
          ],
          "choropleth": [
           {
            "colorbar": {
             "outlinewidth": 0,
             "ticks": ""
            },
            "type": "choropleth"
           }
          ],
          "contour": [
           {
            "colorbar": {
             "outlinewidth": 0,
             "ticks": ""
            },
            "colorscale": [
             [
              0,
              "#0d0887"
             ],
             [
              0.1111111111111111,
              "#46039f"
             ],
             [
              0.2222222222222222,
              "#7201a8"
             ],
             [
              0.3333333333333333,
              "#9c179e"
             ],
             [
              0.4444444444444444,
              "#bd3786"
             ],
             [
              0.5555555555555556,
              "#d8576b"
             ],
             [
              0.6666666666666666,
              "#ed7953"
             ],
             [
              0.7777777777777778,
              "#fb9f3a"
             ],
             [
              0.8888888888888888,
              "#fdca26"
             ],
             [
              1,
              "#f0f921"
             ]
            ],
            "type": "contour"
           }
          ],
          "contourcarpet": [
           {
            "colorbar": {
             "outlinewidth": 0,
             "ticks": ""
            },
            "type": "contourcarpet"
           }
          ],
          "heatmap": [
           {
            "colorbar": {
             "outlinewidth": 0,
             "ticks": ""
            },
            "colorscale": [
             [
              0,
              "#0d0887"
             ],
             [
              0.1111111111111111,
              "#46039f"
             ],
             [
              0.2222222222222222,
              "#7201a8"
             ],
             [
              0.3333333333333333,
              "#9c179e"
             ],
             [
              0.4444444444444444,
              "#bd3786"
             ],
             [
              0.5555555555555556,
              "#d8576b"
             ],
             [
              0.6666666666666666,
              "#ed7953"
             ],
             [
              0.7777777777777778,
              "#fb9f3a"
             ],
             [
              0.8888888888888888,
              "#fdca26"
             ],
             [
              1,
              "#f0f921"
             ]
            ],
            "type": "heatmap"
           }
          ],
          "heatmapgl": [
           {
            "colorbar": {
             "outlinewidth": 0,
             "ticks": ""
            },
            "colorscale": [
             [
              0,
              "#0d0887"
             ],
             [
              0.1111111111111111,
              "#46039f"
             ],
             [
              0.2222222222222222,
              "#7201a8"
             ],
             [
              0.3333333333333333,
              "#9c179e"
             ],
             [
              0.4444444444444444,
              "#bd3786"
             ],
             [
              0.5555555555555556,
              "#d8576b"
             ],
             [
              0.6666666666666666,
              "#ed7953"
             ],
             [
              0.7777777777777778,
              "#fb9f3a"
             ],
             [
              0.8888888888888888,
              "#fdca26"
             ],
             [
              1,
              "#f0f921"
             ]
            ],
            "type": "heatmapgl"
           }
          ],
          "histogram": [
           {
            "marker": {
             "pattern": {
              "fillmode": "overlay",
              "size": 10,
              "solidity": 0.2
             }
            },
            "type": "histogram"
           }
          ],
          "histogram2d": [
           {
            "colorbar": {
             "outlinewidth": 0,
             "ticks": ""
            },
            "colorscale": [
             [
              0,
              "#0d0887"
             ],
             [
              0.1111111111111111,
              "#46039f"
             ],
             [
              0.2222222222222222,
              "#7201a8"
             ],
             [
              0.3333333333333333,
              "#9c179e"
             ],
             [
              0.4444444444444444,
              "#bd3786"
             ],
             [
              0.5555555555555556,
              "#d8576b"
             ],
             [
              0.6666666666666666,
              "#ed7953"
             ],
             [
              0.7777777777777778,
              "#fb9f3a"
             ],
             [
              0.8888888888888888,
              "#fdca26"
             ],
             [
              1,
              "#f0f921"
             ]
            ],
            "type": "histogram2d"
           }
          ],
          "histogram2dcontour": [
           {
            "colorbar": {
             "outlinewidth": 0,
             "ticks": ""
            },
            "colorscale": [
             [
              0,
              "#0d0887"
             ],
             [
              0.1111111111111111,
              "#46039f"
             ],
             [
              0.2222222222222222,
              "#7201a8"
             ],
             [
              0.3333333333333333,
              "#9c179e"
             ],
             [
              0.4444444444444444,
              "#bd3786"
             ],
             [
              0.5555555555555556,
              "#d8576b"
             ],
             [
              0.6666666666666666,
              "#ed7953"
             ],
             [
              0.7777777777777778,
              "#fb9f3a"
             ],
             [
              0.8888888888888888,
              "#fdca26"
             ],
             [
              1,
              "#f0f921"
             ]
            ],
            "type": "histogram2dcontour"
           }
          ],
          "mesh3d": [
           {
            "colorbar": {
             "outlinewidth": 0,
             "ticks": ""
            },
            "type": "mesh3d"
           }
          ],
          "parcoords": [
           {
            "line": {
             "colorbar": {
              "outlinewidth": 0,
              "ticks": ""
             }
            },
            "type": "parcoords"
           }
          ],
          "pie": [
           {
            "automargin": true,
            "type": "pie"
           }
          ],
          "scatter": [
           {
            "fillpattern": {
             "fillmode": "overlay",
             "size": 10,
             "solidity": 0.2
            },
            "type": "scatter"
           }
          ],
          "scatter3d": [
           {
            "line": {
             "colorbar": {
              "outlinewidth": 0,
              "ticks": ""
             }
            },
            "marker": {
             "colorbar": {
              "outlinewidth": 0,
              "ticks": ""
             }
            },
            "type": "scatter3d"
           }
          ],
          "scattercarpet": [
           {
            "marker": {
             "colorbar": {
              "outlinewidth": 0,
              "ticks": ""
             }
            },
            "type": "scattercarpet"
           }
          ],
          "scattergeo": [
           {
            "marker": {
             "colorbar": {
              "outlinewidth": 0,
              "ticks": ""
             }
            },
            "type": "scattergeo"
           }
          ],
          "scattergl": [
           {
            "marker": {
             "colorbar": {
              "outlinewidth": 0,
              "ticks": ""
             }
            },
            "type": "scattergl"
           }
          ],
          "scattermapbox": [
           {
            "marker": {
             "colorbar": {
              "outlinewidth": 0,
              "ticks": ""
             }
            },
            "type": "scattermapbox"
           }
          ],
          "scatterpolar": [
           {
            "marker": {
             "colorbar": {
              "outlinewidth": 0,
              "ticks": ""
             }
            },
            "type": "scatterpolar"
           }
          ],
          "scatterpolargl": [
           {
            "marker": {
             "colorbar": {
              "outlinewidth": 0,
              "ticks": ""
             }
            },
            "type": "scatterpolargl"
           }
          ],
          "scatterternary": [
           {
            "marker": {
             "colorbar": {
              "outlinewidth": 0,
              "ticks": ""
             }
            },
            "type": "scatterternary"
           }
          ],
          "surface": [
           {
            "colorbar": {
             "outlinewidth": 0,
             "ticks": ""
            },
            "colorscale": [
             [
              0,
              "#0d0887"
             ],
             [
              0.1111111111111111,
              "#46039f"
             ],
             [
              0.2222222222222222,
              "#7201a8"
             ],
             [
              0.3333333333333333,
              "#9c179e"
             ],
             [
              0.4444444444444444,
              "#bd3786"
             ],
             [
              0.5555555555555556,
              "#d8576b"
             ],
             [
              0.6666666666666666,
              "#ed7953"
             ],
             [
              0.7777777777777778,
              "#fb9f3a"
             ],
             [
              0.8888888888888888,
              "#fdca26"
             ],
             [
              1,
              "#f0f921"
             ]
            ],
            "type": "surface"
           }
          ],
          "table": [
           {
            "cells": {
             "fill": {
              "color": "#EBF0F8"
             },
             "line": {
              "color": "white"
             }
            },
            "header": {
             "fill": {
              "color": "#C8D4E3"
             },
             "line": {
              "color": "white"
             }
            },
            "type": "table"
           }
          ]
         },
         "layout": {
          "annotationdefaults": {
           "arrowcolor": "#2a3f5f",
           "arrowhead": 0,
           "arrowwidth": 1
          },
          "autotypenumbers": "strict",
          "coloraxis": {
           "colorbar": {
            "outlinewidth": 0,
            "ticks": ""
           }
          },
          "colorscale": {
           "diverging": [
            [
             0,
             "#8e0152"
            ],
            [
             0.1,
             "#c51b7d"
            ],
            [
             0.2,
             "#de77ae"
            ],
            [
             0.3,
             "#f1b6da"
            ],
            [
             0.4,
             "#fde0ef"
            ],
            [
             0.5,
             "#f7f7f7"
            ],
            [
             0.6,
             "#e6f5d0"
            ],
            [
             0.7,
             "#b8e186"
            ],
            [
             0.8,
             "#7fbc41"
            ],
            [
             0.9,
             "#4d9221"
            ],
            [
             1,
             "#276419"
            ]
           ],
           "sequential": [
            [
             0,
             "#0d0887"
            ],
            [
             0.1111111111111111,
             "#46039f"
            ],
            [
             0.2222222222222222,
             "#7201a8"
            ],
            [
             0.3333333333333333,
             "#9c179e"
            ],
            [
             0.4444444444444444,
             "#bd3786"
            ],
            [
             0.5555555555555556,
             "#d8576b"
            ],
            [
             0.6666666666666666,
             "#ed7953"
            ],
            [
             0.7777777777777778,
             "#fb9f3a"
            ],
            [
             0.8888888888888888,
             "#fdca26"
            ],
            [
             1,
             "#f0f921"
            ]
           ],
           "sequentialminus": [
            [
             0,
             "#0d0887"
            ],
            [
             0.1111111111111111,
             "#46039f"
            ],
            [
             0.2222222222222222,
             "#7201a8"
            ],
            [
             0.3333333333333333,
             "#9c179e"
            ],
            [
             0.4444444444444444,
             "#bd3786"
            ],
            [
             0.5555555555555556,
             "#d8576b"
            ],
            [
             0.6666666666666666,
             "#ed7953"
            ],
            [
             0.7777777777777778,
             "#fb9f3a"
            ],
            [
             0.8888888888888888,
             "#fdca26"
            ],
            [
             1,
             "#f0f921"
            ]
           ]
          },
          "colorway": [
           "#636efa",
           "#EF553B",
           "#00cc96",
           "#ab63fa",
           "#FFA15A",
           "#19d3f3",
           "#FF6692",
           "#B6E880",
           "#FF97FF",
           "#FECB52"
          ],
          "font": {
           "color": "#2a3f5f"
          },
          "geo": {
           "bgcolor": "white",
           "lakecolor": "white",
           "landcolor": "#E5ECF6",
           "showlakes": true,
           "showland": true,
           "subunitcolor": "white"
          },
          "hoverlabel": {
           "align": "left"
          },
          "hovermode": "closest",
          "mapbox": {
           "style": "light"
          },
          "paper_bgcolor": "white",
          "plot_bgcolor": "#E5ECF6",
          "polar": {
           "angularaxis": {
            "gridcolor": "white",
            "linecolor": "white",
            "ticks": ""
           },
           "bgcolor": "#E5ECF6",
           "radialaxis": {
            "gridcolor": "white",
            "linecolor": "white",
            "ticks": ""
           }
          },
          "scene": {
           "xaxis": {
            "backgroundcolor": "#E5ECF6",
            "gridcolor": "white",
            "gridwidth": 2,
            "linecolor": "white",
            "showbackground": true,
            "ticks": "",
            "zerolinecolor": "white"
           },
           "yaxis": {
            "backgroundcolor": "#E5ECF6",
            "gridcolor": "white",
            "gridwidth": 2,
            "linecolor": "white",
            "showbackground": true,
            "ticks": "",
            "zerolinecolor": "white"
           },
           "zaxis": {
            "backgroundcolor": "#E5ECF6",
            "gridcolor": "white",
            "gridwidth": 2,
            "linecolor": "white",
            "showbackground": true,
            "ticks": "",
            "zerolinecolor": "white"
           }
          },
          "shapedefaults": {
           "line": {
            "color": "#2a3f5f"
           }
          },
          "ternary": {
           "aaxis": {
            "gridcolor": "white",
            "linecolor": "white",
            "ticks": ""
           },
           "baxis": {
            "gridcolor": "white",
            "linecolor": "white",
            "ticks": ""
           },
           "bgcolor": "#E5ECF6",
           "caxis": {
            "gridcolor": "white",
            "linecolor": "white",
            "ticks": ""
           }
          },
          "title": {
           "x": 0.05
          },
          "xaxis": {
           "automargin": true,
           "gridcolor": "white",
           "linecolor": "white",
           "ticks": "",
           "title": {
            "standoff": 15
           },
           "zerolinecolor": "white",
           "zerolinewidth": 2
          },
          "yaxis": {
           "automargin": true,
           "gridcolor": "white",
           "linecolor": "white",
           "ticks": "",
           "title": {
            "standoff": 15
           },
           "zerolinecolor": "white",
           "zerolinewidth": 2
          }
         }
        },
        "xaxis": {
         "anchor": "y",
         "domain": [
          0,
          1
         ],
         "showticklabels": false,
         "title": {
          "text": "x"
         }
        },
        "yaxis": {
         "anchor": "x",
         "domain": [
          0,
          1
         ],
         "title": {
          "text": "y"
         }
        }
       }
      }
     },
     "metadata": {},
     "output_type": "display_data"
    }
   ],
   "source": [
    "poly_feats = joblib.load(\"AutogluonModels/ag-misc/poly_feats.pkl\")\n",
    "\n",
    "train_cont = combined_df[cont_features]\n",
    "test_cont = test_df[cont_features]\n",
    "\n",
    "poly_train = poly_feats.transform(train_cont)\n",
    "poly_train = pd.DataFrame(poly_train, index=train_cont.index, columns=poly_feats.get_feature_names_out())\n",
    "\n",
    "poly_test = poly_feats.transform(test_cont)\n",
    "poly_test = pd.DataFrame(poly_test, index=test_cont.index, columns=poly_feats.get_feature_names_out())\n",
    "\n",
    "train_data = combined_df.drop(columns=cont_features)\n",
    "train_data = pd.concat([train_data, poly_train], axis=1)\n",
    "test_data = test_df.drop(columns=cont_features)\n",
    "test_data = pd.concat([test_data, poly_test], axis=1)\n",
    "\n",
    "train_data = TabularDataset(train_data)\n",
    "test_data = TabularDataset(test_data)\n",
    "\n",
    "# ag_poly_orig = TabularPredictor.load(\"AutogluonModels/ag-20240619_194852\")\n",
    "# ag_poly_orig.feature_importance(train_data)\n",
    "fi = pd.read_csv(\"ag_feature_importances.csv\", index_col=0)\n",
    "\n",
    "filtered_importances = fi[abs(fi[\"importance\"]) - 1e-4 > 0]\n",
    "\n",
    "fig = px.bar(x=filtered_importances.index, y=filtered_importances[\"importance\"])\n",
    "fig.update_layout(\n",
    "    xaxis=dict(\n",
    "        showticklabels=False\n",
    "    )\n",
    ")"
   ]
  },
  {
   "cell_type": "code",
   "execution_count": 31,
   "metadata": {},
   "outputs": [],
   "source": [
    "study = optuna.load_study(\n",
    "    storage=\"sqlite:///optuna.sqlite3\",\n",
    "    study_name=\"aug_xgb_v1\",\n",
    ")"
   ]
  },
  {
   "cell_type": "code",
   "execution_count": 32,
   "metadata": {},
   "outputs": [
    {
     "data": {
      "text/html": [
       "<div>\n",
       "<style scoped>\n",
       "    .dataframe tbody tr th:only-of-type {\n",
       "        vertical-align: middle;\n",
       "    }\n",
       "\n",
       "    .dataframe tbody tr th {\n",
       "        vertical-align: top;\n",
       "    }\n",
       "\n",
       "    .dataframe thead th {\n",
       "        text-align: right;\n",
       "    }\n",
       "</style>\n",
       "<table border=\"1\" class=\"dataframe\">\n",
       "  <thead>\n",
       "    <tr style=\"text-align: right;\">\n",
       "      <th></th>\n",
       "      <th>value</th>\n",
       "      <th>include_orig</th>\n",
       "      <th>prune_low_freq</th>\n",
       "      <th>prune_low_importance</th>\n",
       "      <th>poly_feats</th>\n",
       "      <th>use_standardscaler</th>\n",
       "      <th>use_robustscaler</th>\n",
       "      <th>classifier</th>\n",
       "      <th>n_estimators</th>\n",
       "      <th>eta</th>\n",
       "      <th>gamma</th>\n",
       "      <th>max_depth</th>\n",
       "      <th>max_leaves</th>\n",
       "      <th>colsample_bytree</th>\n",
       "      <th>colsample_bylevel</th>\n",
       "      <th>colsample_bynode</th>\n",
       "      <th>reg_lambda</th>\n",
       "      <th>reg_alpha</th>\n",
       "      <th>grow_policy</th>\n",
       "      <th>min_child_weight</th>\n",
       "      <th>max_delta_step</th>\n",
       "      <th>poly_feats_degrees</th>\n",
       "      <th>with_centering</th>\n",
       "      <th>with_scaling</th>\n",
       "    </tr>\n",
       "  </thead>\n",
       "  <tbody>\n",
       "    <tr>\n",
       "      <th>0</th>\n",
       "      <td>0.831608</td>\n",
       "      <td>False</td>\n",
       "      <td>True</td>\n",
       "      <td>False</td>\n",
       "      <td>False</td>\n",
       "      <td>False</td>\n",
       "      <td>False</td>\n",
       "      <td>xgboost</td>\n",
       "      <td>1883</td>\n",
       "      <td>0.112997</td>\n",
       "      <td>0.963429</td>\n",
       "      <td>3</td>\n",
       "      <td>1346</td>\n",
       "      <td>0.838586</td>\n",
       "      <td>0.807475</td>\n",
       "      <td>0.706470</td>\n",
       "      <td>3</td>\n",
       "      <td>8</td>\n",
       "      <td>lossguide</td>\n",
       "      <td>70.279520</td>\n",
       "      <td>94.634380</td>\n",
       "      <td>NaN</td>\n",
       "      <td>NaN</td>\n",
       "      <td>NaN</td>\n",
       "    </tr>\n",
       "    <tr>\n",
       "      <th>1</th>\n",
       "      <td>0.830680</td>\n",
       "      <td>False</td>\n",
       "      <td>False</td>\n",
       "      <td>False</td>\n",
       "      <td>True</td>\n",
       "      <td>True</td>\n",
       "      <td>True</td>\n",
       "      <td>xgboost</td>\n",
       "      <td>282</td>\n",
       "      <td>0.411170</td>\n",
       "      <td>0.033985</td>\n",
       "      <td>3</td>\n",
       "      <td>3611</td>\n",
       "      <td>0.626130</td>\n",
       "      <td>0.993347</td>\n",
       "      <td>0.103194</td>\n",
       "      <td>7</td>\n",
       "      <td>7</td>\n",
       "      <td>depthwise</td>\n",
       "      <td>628.253770</td>\n",
       "      <td>98.792080</td>\n",
       "      <td>2.0</td>\n",
       "      <td>True</td>\n",
       "      <td>False</td>\n",
       "    </tr>\n",
       "    <tr>\n",
       "      <th>2</th>\n",
       "      <td>0.830197</td>\n",
       "      <td>False</td>\n",
       "      <td>True</td>\n",
       "      <td>False</td>\n",
       "      <td>False</td>\n",
       "      <td>False</td>\n",
       "      <td>True</td>\n",
       "      <td>xgboost</td>\n",
       "      <td>648</td>\n",
       "      <td>0.295632</td>\n",
       "      <td>1.409754</td>\n",
       "      <td>3</td>\n",
       "      <td>778</td>\n",
       "      <td>0.916791</td>\n",
       "      <td>0.923863</td>\n",
       "      <td>0.680886</td>\n",
       "      <td>1</td>\n",
       "      <td>8</td>\n",
       "      <td>depthwise</td>\n",
       "      <td>50.156449</td>\n",
       "      <td>64.305984</td>\n",
       "      <td>NaN</td>\n",
       "      <td>False</td>\n",
       "      <td>False</td>\n",
       "    </tr>\n",
       "    <tr>\n",
       "      <th>3</th>\n",
       "      <td>0.829962</td>\n",
       "      <td>False</td>\n",
       "      <td>False</td>\n",
       "      <td>False</td>\n",
       "      <td>True</td>\n",
       "      <td>True</td>\n",
       "      <td>True</td>\n",
       "      <td>xgboost</td>\n",
       "      <td>2564</td>\n",
       "      <td>0.364086</td>\n",
       "      <td>1.832124</td>\n",
       "      <td>3</td>\n",
       "      <td>2982</td>\n",
       "      <td>0.528489</td>\n",
       "      <td>0.826780</td>\n",
       "      <td>0.246813</td>\n",
       "      <td>4</td>\n",
       "      <td>6</td>\n",
       "      <td>depthwise</td>\n",
       "      <td>14.623085</td>\n",
       "      <td>40.438325</td>\n",
       "      <td>2.0</td>\n",
       "      <td>True</td>\n",
       "      <td>False</td>\n",
       "    </tr>\n",
       "    <tr>\n",
       "      <th>4</th>\n",
       "      <td>0.829609</td>\n",
       "      <td>False</td>\n",
       "      <td>False</td>\n",
       "      <td>False</td>\n",
       "      <td>True</td>\n",
       "      <td>True</td>\n",
       "      <td>True</td>\n",
       "      <td>xgboost</td>\n",
       "      <td>968</td>\n",
       "      <td>0.499941</td>\n",
       "      <td>0.293968</td>\n",
       "      <td>3</td>\n",
       "      <td>4280</td>\n",
       "      <td>0.809267</td>\n",
       "      <td>0.930800</td>\n",
       "      <td>0.154274</td>\n",
       "      <td>6</td>\n",
       "      <td>4</td>\n",
       "      <td>depthwise</td>\n",
       "      <td>702.534889</td>\n",
       "      <td>87.735757</td>\n",
       "      <td>2.0</td>\n",
       "      <td>True</td>\n",
       "      <td>False</td>\n",
       "    </tr>\n",
       "    <tr>\n",
       "      <th>5</th>\n",
       "      <td>0.829164</td>\n",
       "      <td>False</td>\n",
       "      <td>True</td>\n",
       "      <td>False</td>\n",
       "      <td>False</td>\n",
       "      <td>False</td>\n",
       "      <td>True</td>\n",
       "      <td>xgboost</td>\n",
       "      <td>101</td>\n",
       "      <td>0.427706</td>\n",
       "      <td>1.321473</td>\n",
       "      <td>3</td>\n",
       "      <td>2039</td>\n",
       "      <td>0.938425</td>\n",
       "      <td>0.610336</td>\n",
       "      <td>0.475127</td>\n",
       "      <td>0</td>\n",
       "      <td>19</td>\n",
       "      <td>depthwise</td>\n",
       "      <td>42.303674</td>\n",
       "      <td>63.856475</td>\n",
       "      <td>NaN</td>\n",
       "      <td>False</td>\n",
       "      <td>False</td>\n",
       "    </tr>\n",
       "    <tr>\n",
       "      <th>6</th>\n",
       "      <td>0.829151</td>\n",
       "      <td>False</td>\n",
       "      <td>False</td>\n",
       "      <td>False</td>\n",
       "      <td>True</td>\n",
       "      <td>True</td>\n",
       "      <td>True</td>\n",
       "      <td>xgboost</td>\n",
       "      <td>3618</td>\n",
       "      <td>0.551059</td>\n",
       "      <td>0.297905</td>\n",
       "      <td>4</td>\n",
       "      <td>4569</td>\n",
       "      <td>0.942594</td>\n",
       "      <td>0.990392</td>\n",
       "      <td>0.176987</td>\n",
       "      <td>5</td>\n",
       "      <td>9</td>\n",
       "      <td>depthwise</td>\n",
       "      <td>507.267807</td>\n",
       "      <td>71.320731</td>\n",
       "      <td>2.0</td>\n",
       "      <td>True</td>\n",
       "      <td>False</td>\n",
       "    </tr>\n",
       "    <tr>\n",
       "      <th>7</th>\n",
       "      <td>0.828864</td>\n",
       "      <td>False</td>\n",
       "      <td>True</td>\n",
       "      <td>False</td>\n",
       "      <td>False</td>\n",
       "      <td>False</td>\n",
       "      <td>True</td>\n",
       "      <td>xgboost</td>\n",
       "      <td>530</td>\n",
       "      <td>0.294177</td>\n",
       "      <td>1.284759</td>\n",
       "      <td>3</td>\n",
       "      <td>962</td>\n",
       "      <td>0.897616</td>\n",
       "      <td>0.610439</td>\n",
       "      <td>0.704990</td>\n",
       "      <td>1</td>\n",
       "      <td>20</td>\n",
       "      <td>depthwise</td>\n",
       "      <td>76.918538</td>\n",
       "      <td>65.417646</td>\n",
       "      <td>NaN</td>\n",
       "      <td>False</td>\n",
       "      <td>False</td>\n",
       "    </tr>\n",
       "    <tr>\n",
       "      <th>8</th>\n",
       "      <td>0.828838</td>\n",
       "      <td>False</td>\n",
       "      <td>False</td>\n",
       "      <td>False</td>\n",
       "      <td>True</td>\n",
       "      <td>True</td>\n",
       "      <td>True</td>\n",
       "      <td>xgboost</td>\n",
       "      <td>2252</td>\n",
       "      <td>0.481060</td>\n",
       "      <td>0.208399</td>\n",
       "      <td>3</td>\n",
       "      <td>3864</td>\n",
       "      <td>0.692294</td>\n",
       "      <td>0.994614</td>\n",
       "      <td>0.140059</td>\n",
       "      <td>7</td>\n",
       "      <td>5</td>\n",
       "      <td>depthwise</td>\n",
       "      <td>646.097970</td>\n",
       "      <td>86.958329</td>\n",
       "      <td>2.0</td>\n",
       "      <td>True</td>\n",
       "      <td>False</td>\n",
       "    </tr>\n",
       "    <tr>\n",
       "      <th>9</th>\n",
       "      <td>0.828707</td>\n",
       "      <td>False</td>\n",
       "      <td>False</td>\n",
       "      <td>False</td>\n",
       "      <td>True</td>\n",
       "      <td>True</td>\n",
       "      <td>True</td>\n",
       "      <td>xgboost</td>\n",
       "      <td>2536</td>\n",
       "      <td>0.441049</td>\n",
       "      <td>0.152439</td>\n",
       "      <td>3</td>\n",
       "      <td>28</td>\n",
       "      <td>0.706814</td>\n",
       "      <td>0.998392</td>\n",
       "      <td>0.160563</td>\n",
       "      <td>6</td>\n",
       "      <td>4</td>\n",
       "      <td>depthwise</td>\n",
       "      <td>672.756739</td>\n",
       "      <td>82.725194</td>\n",
       "      <td>2.0</td>\n",
       "      <td>True</td>\n",
       "      <td>False</td>\n",
       "    </tr>\n",
       "    <tr>\n",
       "      <th>10</th>\n",
       "      <td>0.828694</td>\n",
       "      <td>False</td>\n",
       "      <td>False</td>\n",
       "      <td>False</td>\n",
       "      <td>True</td>\n",
       "      <td>True</td>\n",
       "      <td>True</td>\n",
       "      <td>xgboost</td>\n",
       "      <td>1940</td>\n",
       "      <td>0.471147</td>\n",
       "      <td>1.093059</td>\n",
       "      <td>3</td>\n",
       "      <td>3796</td>\n",
       "      <td>0.655302</td>\n",
       "      <td>0.936549</td>\n",
       "      <td>0.107329</td>\n",
       "      <td>7</td>\n",
       "      <td>5</td>\n",
       "      <td>depthwise</td>\n",
       "      <td>613.548677</td>\n",
       "      <td>99.656769</td>\n",
       "      <td>2.0</td>\n",
       "      <td>True</td>\n",
       "      <td>False</td>\n",
       "    </tr>\n",
       "    <tr>\n",
       "      <th>11</th>\n",
       "      <td>0.828692</td>\n",
       "      <td>True</td>\n",
       "      <td>True</td>\n",
       "      <td>False</td>\n",
       "      <td>False</td>\n",
       "      <td>False</td>\n",
       "      <td>False</td>\n",
       "      <td>xgboost</td>\n",
       "      <td>2342</td>\n",
       "      <td>0.337877</td>\n",
       "      <td>0.973399</td>\n",
       "      <td>4</td>\n",
       "      <td>641</td>\n",
       "      <td>0.822638</td>\n",
       "      <td>0.877843</td>\n",
       "      <td>0.841169</td>\n",
       "      <td>4</td>\n",
       "      <td>5</td>\n",
       "      <td>lossguide</td>\n",
       "      <td>125.590686</td>\n",
       "      <td>94.424531</td>\n",
       "      <td>NaN</td>\n",
       "      <td>NaN</td>\n",
       "      <td>NaN</td>\n",
       "    </tr>\n",
       "    <tr>\n",
       "      <th>12</th>\n",
       "      <td>0.828210</td>\n",
       "      <td>False</td>\n",
       "      <td>True</td>\n",
       "      <td>False</td>\n",
       "      <td>False</td>\n",
       "      <td>False</td>\n",
       "      <td>True</td>\n",
       "      <td>xgboost</td>\n",
       "      <td>804</td>\n",
       "      <td>0.278594</td>\n",
       "      <td>1.915797</td>\n",
       "      <td>3</td>\n",
       "      <td>327</td>\n",
       "      <td>0.996772</td>\n",
       "      <td>0.485217</td>\n",
       "      <td>0.775539</td>\n",
       "      <td>1</td>\n",
       "      <td>16</td>\n",
       "      <td>depthwise</td>\n",
       "      <td>95.352327</td>\n",
       "      <td>63.945555</td>\n",
       "      <td>NaN</td>\n",
       "      <td>False</td>\n",
       "      <td>False</td>\n",
       "    </tr>\n",
       "    <tr>\n",
       "      <th>13</th>\n",
       "      <td>0.828106</td>\n",
       "      <td>False</td>\n",
       "      <td>False</td>\n",
       "      <td>False</td>\n",
       "      <td>True</td>\n",
       "      <td>True</td>\n",
       "      <td>True</td>\n",
       "      <td>xgboost</td>\n",
       "      <td>3559</td>\n",
       "      <td>0.154522</td>\n",
       "      <td>0.099499</td>\n",
       "      <td>6</td>\n",
       "      <td>3218</td>\n",
       "      <td>0.839586</td>\n",
       "      <td>0.855967</td>\n",
       "      <td>0.166844</td>\n",
       "      <td>9</td>\n",
       "      <td>8</td>\n",
       "      <td>depthwise</td>\n",
       "      <td>374.431613</td>\n",
       "      <td>91.631089</td>\n",
       "      <td>2.0</td>\n",
       "      <td>True</td>\n",
       "      <td>True</td>\n",
       "    </tr>\n",
       "    <tr>\n",
       "      <th>14</th>\n",
       "      <td>0.827923</td>\n",
       "      <td>False</td>\n",
       "      <td>False</td>\n",
       "      <td>False</td>\n",
       "      <td>True</td>\n",
       "      <td>True</td>\n",
       "      <td>True</td>\n",
       "      <td>xgboost</td>\n",
       "      <td>2224</td>\n",
       "      <td>0.477139</td>\n",
       "      <td>0.137645</td>\n",
       "      <td>3</td>\n",
       "      <td>3790</td>\n",
       "      <td>0.702480</td>\n",
       "      <td>0.984037</td>\n",
       "      <td>0.080532</td>\n",
       "      <td>7</td>\n",
       "      <td>5</td>\n",
       "      <td>depthwise</td>\n",
       "      <td>621.466684</td>\n",
       "      <td>90.103695</td>\n",
       "      <td>2.0</td>\n",
       "      <td>True</td>\n",
       "      <td>False</td>\n",
       "    </tr>\n",
       "    <tr>\n",
       "      <th>15</th>\n",
       "      <td>0.827858</td>\n",
       "      <td>False</td>\n",
       "      <td>False</td>\n",
       "      <td>False</td>\n",
       "      <td>True</td>\n",
       "      <td>False</td>\n",
       "      <td>False</td>\n",
       "      <td>xgboost</td>\n",
       "      <td>3411</td>\n",
       "      <td>0.372867</td>\n",
       "      <td>2.166213</td>\n",
       "      <td>4</td>\n",
       "      <td>2375</td>\n",
       "      <td>0.435058</td>\n",
       "      <td>0.822853</td>\n",
       "      <td>0.229092</td>\n",
       "      <td>4</td>\n",
       "      <td>7</td>\n",
       "      <td>depthwise</td>\n",
       "      <td>406.156707</td>\n",
       "      <td>33.218135</td>\n",
       "      <td>2.0</td>\n",
       "      <td>NaN</td>\n",
       "      <td>NaN</td>\n",
       "    </tr>\n",
       "    <tr>\n",
       "      <th>16</th>\n",
       "      <td>0.827805</td>\n",
       "      <td>False</td>\n",
       "      <td>True</td>\n",
       "      <td>False</td>\n",
       "      <td>False</td>\n",
       "      <td>False</td>\n",
       "      <td>False</td>\n",
       "      <td>xgboost</td>\n",
       "      <td>1867</td>\n",
       "      <td>0.093648</td>\n",
       "      <td>9.437513</td>\n",
       "      <td>7</td>\n",
       "      <td>1239</td>\n",
       "      <td>0.656587</td>\n",
       "      <td>0.802748</td>\n",
       "      <td>0.691638</td>\n",
       "      <td>3</td>\n",
       "      <td>8</td>\n",
       "      <td>lossguide</td>\n",
       "      <td>83.042960</td>\n",
       "      <td>92.759647</td>\n",
       "      <td>NaN</td>\n",
       "      <td>NaN</td>\n",
       "      <td>NaN</td>\n",
       "    </tr>\n",
       "    <tr>\n",
       "      <th>17</th>\n",
       "      <td>0.827596</td>\n",
       "      <td>False</td>\n",
       "      <td>True</td>\n",
       "      <td>False</td>\n",
       "      <td>False</td>\n",
       "      <td>False</td>\n",
       "      <td>False</td>\n",
       "      <td>xgboost</td>\n",
       "      <td>7645</td>\n",
       "      <td>0.132149</td>\n",
       "      <td>3.393102</td>\n",
       "      <td>3</td>\n",
       "      <td>1534</td>\n",
       "      <td>0.771791</td>\n",
       "      <td>0.913610</td>\n",
       "      <td>0.742124</td>\n",
       "      <td>5</td>\n",
       "      <td>10</td>\n",
       "      <td>lossguide</td>\n",
       "      <td>312.267649</td>\n",
       "      <td>95.150907</td>\n",
       "      <td>NaN</td>\n",
       "      <td>NaN</td>\n",
       "      <td>NaN</td>\n",
       "    </tr>\n",
       "    <tr>\n",
       "      <th>18</th>\n",
       "      <td>0.827557</td>\n",
       "      <td>False</td>\n",
       "      <td>False</td>\n",
       "      <td>False</td>\n",
       "      <td>True</td>\n",
       "      <td>True</td>\n",
       "      <td>True</td>\n",
       "      <td>xgboost</td>\n",
       "      <td>1179</td>\n",
       "      <td>0.522267</td>\n",
       "      <td>1.511243</td>\n",
       "      <td>4</td>\n",
       "      <td>5465</td>\n",
       "      <td>0.811709</td>\n",
       "      <td>0.937839</td>\n",
       "      <td>0.139776</td>\n",
       "      <td>8</td>\n",
       "      <td>1</td>\n",
       "      <td>depthwise</td>\n",
       "      <td>808.267837</td>\n",
       "      <td>92.436591</td>\n",
       "      <td>2.0</td>\n",
       "      <td>True</td>\n",
       "      <td>False</td>\n",
       "    </tr>\n",
       "    <tr>\n",
       "      <th>19</th>\n",
       "      <td>0.827126</td>\n",
       "      <td>False</td>\n",
       "      <td>False</td>\n",
       "      <td>False</td>\n",
       "      <td>True</td>\n",
       "      <td>True</td>\n",
       "      <td>True</td>\n",
       "      <td>xgboost</td>\n",
       "      <td>943</td>\n",
       "      <td>0.337794</td>\n",
       "      <td>2.387451</td>\n",
       "      <td>3</td>\n",
       "      <td>5872</td>\n",
       "      <td>0.855699</td>\n",
       "      <td>0.798500</td>\n",
       "      <td>0.327570</td>\n",
       "      <td>10</td>\n",
       "      <td>3</td>\n",
       "      <td>depthwise</td>\n",
       "      <td>716.579005</td>\n",
       "      <td>86.533775</td>\n",
       "      <td>2.0</td>\n",
       "      <td>True</td>\n",
       "      <td>False</td>\n",
       "    </tr>\n",
       "  </tbody>\n",
       "</table>\n",
       "</div>"
      ],
      "text/plain": [
       "       value  include_orig  prune_low_freq  prune_low_importance  poly_feats  \\\n",
       "0   0.831608         False            True                 False       False   \n",
       "1   0.830680         False           False                 False        True   \n",
       "2   0.830197         False            True                 False       False   \n",
       "3   0.829962         False           False                 False        True   \n",
       "4   0.829609         False           False                 False        True   \n",
       "5   0.829164         False            True                 False       False   \n",
       "6   0.829151         False           False                 False        True   \n",
       "7   0.828864         False            True                 False       False   \n",
       "8   0.828838         False           False                 False        True   \n",
       "9   0.828707         False           False                 False        True   \n",
       "10  0.828694         False           False                 False        True   \n",
       "11  0.828692          True            True                 False       False   \n",
       "12  0.828210         False            True                 False       False   \n",
       "13  0.828106         False           False                 False        True   \n",
       "14  0.827923         False           False                 False        True   \n",
       "15  0.827858         False           False                 False        True   \n",
       "16  0.827805         False            True                 False       False   \n",
       "17  0.827596         False            True                 False       False   \n",
       "18  0.827557         False           False                 False        True   \n",
       "19  0.827126         False           False                 False        True   \n",
       "\n",
       "    use_standardscaler  use_robustscaler classifier  n_estimators       eta  \\\n",
       "0                False             False    xgboost          1883  0.112997   \n",
       "1                 True              True    xgboost           282  0.411170   \n",
       "2                False              True    xgboost           648  0.295632   \n",
       "3                 True              True    xgboost          2564  0.364086   \n",
       "4                 True              True    xgboost           968  0.499941   \n",
       "5                False              True    xgboost           101  0.427706   \n",
       "6                 True              True    xgboost          3618  0.551059   \n",
       "7                False              True    xgboost           530  0.294177   \n",
       "8                 True              True    xgboost          2252  0.481060   \n",
       "9                 True              True    xgboost          2536  0.441049   \n",
       "10                True              True    xgboost          1940  0.471147   \n",
       "11               False             False    xgboost          2342  0.337877   \n",
       "12               False              True    xgboost           804  0.278594   \n",
       "13                True              True    xgboost          3559  0.154522   \n",
       "14                True              True    xgboost          2224  0.477139   \n",
       "15               False             False    xgboost          3411  0.372867   \n",
       "16               False             False    xgboost          1867  0.093648   \n",
       "17               False             False    xgboost          7645  0.132149   \n",
       "18                True              True    xgboost          1179  0.522267   \n",
       "19                True              True    xgboost           943  0.337794   \n",
       "\n",
       "       gamma  max_depth  max_leaves  colsample_bytree  colsample_bylevel  \\\n",
       "0   0.963429          3        1346          0.838586           0.807475   \n",
       "1   0.033985          3        3611          0.626130           0.993347   \n",
       "2   1.409754          3         778          0.916791           0.923863   \n",
       "3   1.832124          3        2982          0.528489           0.826780   \n",
       "4   0.293968          3        4280          0.809267           0.930800   \n",
       "5   1.321473          3        2039          0.938425           0.610336   \n",
       "6   0.297905          4        4569          0.942594           0.990392   \n",
       "7   1.284759          3         962          0.897616           0.610439   \n",
       "8   0.208399          3        3864          0.692294           0.994614   \n",
       "9   0.152439          3          28          0.706814           0.998392   \n",
       "10  1.093059          3        3796          0.655302           0.936549   \n",
       "11  0.973399          4         641          0.822638           0.877843   \n",
       "12  1.915797          3         327          0.996772           0.485217   \n",
       "13  0.099499          6        3218          0.839586           0.855967   \n",
       "14  0.137645          3        3790          0.702480           0.984037   \n",
       "15  2.166213          4        2375          0.435058           0.822853   \n",
       "16  9.437513          7        1239          0.656587           0.802748   \n",
       "17  3.393102          3        1534          0.771791           0.913610   \n",
       "18  1.511243          4        5465          0.811709           0.937839   \n",
       "19  2.387451          3        5872          0.855699           0.798500   \n",
       "\n",
       "    colsample_bynode  reg_lambda  reg_alpha grow_policy  min_child_weight  \\\n",
       "0           0.706470           3          8   lossguide         70.279520   \n",
       "1           0.103194           7          7   depthwise        628.253770   \n",
       "2           0.680886           1          8   depthwise         50.156449   \n",
       "3           0.246813           4          6   depthwise         14.623085   \n",
       "4           0.154274           6          4   depthwise        702.534889   \n",
       "5           0.475127           0         19   depthwise         42.303674   \n",
       "6           0.176987           5          9   depthwise        507.267807   \n",
       "7           0.704990           1         20   depthwise         76.918538   \n",
       "8           0.140059           7          5   depthwise        646.097970   \n",
       "9           0.160563           6          4   depthwise        672.756739   \n",
       "10          0.107329           7          5   depthwise        613.548677   \n",
       "11          0.841169           4          5   lossguide        125.590686   \n",
       "12          0.775539           1         16   depthwise         95.352327   \n",
       "13          0.166844           9          8   depthwise        374.431613   \n",
       "14          0.080532           7          5   depthwise        621.466684   \n",
       "15          0.229092           4          7   depthwise        406.156707   \n",
       "16          0.691638           3          8   lossguide         83.042960   \n",
       "17          0.742124           5         10   lossguide        312.267649   \n",
       "18          0.139776           8          1   depthwise        808.267837   \n",
       "19          0.327570          10          3   depthwise        716.579005   \n",
       "\n",
       "    max_delta_step  poly_feats_degrees with_centering with_scaling  \n",
       "0        94.634380                 NaN            NaN          NaN  \n",
       "1        98.792080                 2.0           True        False  \n",
       "2        64.305984                 NaN          False        False  \n",
       "3        40.438325                 2.0           True        False  \n",
       "4        87.735757                 2.0           True        False  \n",
       "5        63.856475                 NaN          False        False  \n",
       "6        71.320731                 2.0           True        False  \n",
       "7        65.417646                 NaN          False        False  \n",
       "8        86.958329                 2.0           True        False  \n",
       "9        82.725194                 2.0           True        False  \n",
       "10       99.656769                 2.0           True        False  \n",
       "11       94.424531                 NaN            NaN          NaN  \n",
       "12       63.945555                 NaN          False        False  \n",
       "13       91.631089                 2.0           True         True  \n",
       "14       90.103695                 2.0           True        False  \n",
       "15       33.218135                 2.0            NaN          NaN  \n",
       "16       92.759647                 NaN            NaN          NaN  \n",
       "17       95.150907                 NaN            NaN          NaN  \n",
       "18       92.436591                 2.0           True        False  \n",
       "19       86.533775                 2.0           True        False  "
      ]
     },
     "execution_count": 32,
     "metadata": {},
     "output_type": "execute_result"
    }
   ],
   "source": [
    "sorted_trials = sorted(study.trials, key=lambda x: x.value if x.value else 0)\n",
    "top_params = [(t.value, t.params) for t in sorted_trials[:-21:-1]]\n",
    "for value, param_dict in top_params:\n",
    "    param_dict[\"value\"] = value\n",
    "\n",
    "top_params = pd.DataFrame([t[1] for t  in top_params])\n",
    "top_params.insert(0, \"value\", top_params.pop(\"value\"))\n",
    "top_params"
   ]
  },
  {
   "cell_type": "code",
   "execution_count": 33,
   "metadata": {},
   "outputs": [
    {
     "name": "stdout",
     "output_type": "stream",
     "text": [
      "                      statistic        pvalue\n",
      "value                  0.795917  4.373034e-14\n",
      "include_orig           0.500000  3.787595e-05\n",
      "prune_low_freq         0.500000  3.787595e-05\n",
      "prune_low_importance   0.500000  3.787595e-05\n",
      "poly_feats             0.500000  3.787595e-05\n",
      "use_standardscaler     0.500000  3.787595e-05\n",
      "use_robustscaler       0.591345  3.397160e-07\n",
      "n_estimators           1.000000  0.000000e+00\n",
      "eta                    0.537306  6.297666e-06\n",
      "gamma                  0.513555  2.012841e-05\n",
      "max_depth              0.998650  8.073266e-58\n",
      "max_leaves             1.000000  0.000000e+00\n",
      "colsample_bytree       0.668240  2.489991e-09\n",
      "colsample_bylevel      0.686239  6.770519e-10\n",
      "colsample_bynode       0.532093  8.176501e-06\n",
      "reg_lambda             0.798650  3.273501e-14\n",
      "reg_alpha              0.948650  3.249539e-26\n",
      "min_child_weight       1.000000  0.000000e+00\n",
      "max_delta_step         1.000000  0.000000e+00\n",
      "poly_feats_degrees          NaN           NaN\n"
     ]
    },
    {
     "data": {
      "application/vnd.plotly.v1+json": {
       "config": {
        "plotlyServerURL": "https://plot.ly"
       },
       "data": [
        {
         "histfunc": "count",
         "name": "value",
         "type": "histogram",
         "x": [
          0.8316082676544705,
          0.83068039028594,
          0.8301968061843563,
          0.8299615932070076,
          0.829608747694549,
          0.8291643972108418,
          0.8291513184842347,
          0.828863805972125,
          0.8288376570587259,
          0.828707006429695,
          0.8286939422207734,
          0.8286921960252597,
          0.8282103709289123,
          0.8281058222442983,
          0.8279228584168024,
          0.8278575271244165,
          0.8278052566250261,
          0.8275961293664459,
          0.8275569512573666,
          0.8271256504648956
         ],
         "xaxis": "x",
         "yaxis": "y"
        },
        {
         "histfunc": "count",
         "name": "include_orig",
         "type": "histogram",
         "x": [
          false,
          false,
          false,
          false,
          false,
          false,
          false,
          false,
          false,
          false,
          false,
          true,
          false,
          false,
          false,
          false,
          false,
          false,
          false,
          false
         ],
         "xaxis": "x2",
         "yaxis": "y2"
        },
        {
         "histfunc": "count",
         "name": "prune_low_freq",
         "type": "histogram",
         "x": [
          true,
          false,
          true,
          false,
          false,
          true,
          false,
          true,
          false,
          false,
          false,
          true,
          true,
          false,
          false,
          false,
          true,
          true,
          false,
          false
         ],
         "xaxis": "x3",
         "yaxis": "y3"
        },
        {
         "histfunc": "count",
         "name": "prune_low_importance",
         "type": "histogram",
         "x": [
          false,
          false,
          false,
          false,
          false,
          false,
          false,
          false,
          false,
          false,
          false,
          false,
          false,
          false,
          false,
          false,
          false,
          false,
          false,
          false
         ],
         "xaxis": "x4",
         "yaxis": "y4"
        },
        {
         "histfunc": "count",
         "name": "poly_feats",
         "type": "histogram",
         "x": [
          false,
          true,
          false,
          true,
          true,
          false,
          true,
          false,
          true,
          true,
          true,
          false,
          false,
          true,
          true,
          true,
          false,
          false,
          true,
          true
         ],
         "xaxis": "x5",
         "yaxis": "y5"
        },
        {
         "histfunc": "count",
         "name": "use_standardscaler",
         "type": "histogram",
         "x": [
          false,
          true,
          false,
          true,
          true,
          false,
          true,
          false,
          true,
          true,
          true,
          false,
          false,
          true,
          true,
          false,
          false,
          false,
          true,
          true
         ],
         "xaxis": "x6",
         "yaxis": "y6"
        },
        {
         "histfunc": "count",
         "name": "use_robustscaler",
         "type": "histogram",
         "x": [
          false,
          true,
          true,
          true,
          true,
          true,
          true,
          true,
          true,
          true,
          true,
          false,
          true,
          true,
          true,
          false,
          false,
          false,
          true,
          true
         ],
         "xaxis": "x7",
         "yaxis": "y7"
        },
        {
         "histfunc": "count",
         "name": "classifier",
         "type": "histogram",
         "x": [
          "xgboost",
          "xgboost",
          "xgboost",
          "xgboost",
          "xgboost",
          "xgboost",
          "xgboost",
          "xgboost",
          "xgboost",
          "xgboost",
          "xgboost",
          "xgboost",
          "xgboost",
          "xgboost",
          "xgboost",
          "xgboost",
          "xgboost",
          "xgboost",
          "xgboost",
          "xgboost"
         ],
         "xaxis": "x8",
         "yaxis": "y8"
        },
        {
         "histfunc": "count",
         "name": "n_estimators",
         "type": "histogram",
         "x": [
          1883,
          282,
          648,
          2564,
          968,
          101,
          3618,
          530,
          2252,
          2536,
          1940,
          2342,
          804,
          3559,
          2224,
          3411,
          1867,
          7645,
          1179,
          943
         ],
         "xaxis": "x9",
         "yaxis": "y9"
        },
        {
         "histfunc": "count",
         "name": "eta",
         "type": "histogram",
         "x": [
          0.11299665616020274,
          0.4111696064756622,
          0.2956323511203821,
          0.36408601760097237,
          0.49994080363778,
          0.4277063470525144,
          0.5510594773341596,
          0.2941770451283896,
          0.48105967387910326,
          0.4410492457411483,
          0.47114657153834233,
          0.33787709535510635,
          0.2785938251201412,
          0.15452163793180018,
          0.47713878234019735,
          0.372867170791416,
          0.09364790585077201,
          0.13214884496096246,
          0.5222665172114286,
          0.337793577541328
         ],
         "xaxis": "x10",
         "yaxis": "y10"
        },
        {
         "histfunc": "count",
         "name": "gamma",
         "type": "histogram",
         "x": [
          0.9634286209401426,
          0.0339845642054904,
          1.4097540807412763,
          1.832123913006336,
          0.29396835711923885,
          1.3214726571678033,
          0.2979047722301668,
          1.2847591440050725,
          0.2083985653391647,
          0.1524393933139136,
          1.093058690720643,
          0.973398855111689,
          1.9157968273654822,
          0.09949896774064937,
          0.13764517300223034,
          2.166212509842465,
          9.437512996579033,
          3.393102473703452,
          1.5112430938602786,
          2.3874508197774196
         ],
         "xaxis": "x11",
         "yaxis": "y11"
        },
        {
         "histfunc": "count",
         "name": "max_depth",
         "type": "histogram",
         "x": [
          3,
          3,
          3,
          3,
          3,
          3,
          4,
          3,
          3,
          3,
          3,
          4,
          3,
          6,
          3,
          4,
          7,
          3,
          4,
          3
         ],
         "xaxis": "x12",
         "yaxis": "y12"
        },
        {
         "histfunc": "count",
         "name": "max_leaves",
         "type": "histogram",
         "x": [
          1346,
          3611,
          778,
          2982,
          4280,
          2039,
          4569,
          962,
          3864,
          28,
          3796,
          641,
          327,
          3218,
          3790,
          2375,
          1239,
          1534,
          5465,
          5872
         ],
         "xaxis": "x13",
         "yaxis": "y13"
        },
        {
         "histfunc": "count",
         "name": "colsample_bytree",
         "type": "histogram",
         "x": [
          0.8385856672697529,
          0.6261297064677078,
          0.9167912892497527,
          0.528489412543575,
          0.8092668995351922,
          0.9384249254928866,
          0.9425936712003209,
          0.8976158463198967,
          0.6922939940804674,
          0.7068141194709967,
          0.6553021188518181,
          0.8226383413560744,
          0.9967715819207424,
          0.839586447503377,
          0.7024801123882355,
          0.43505768745387946,
          0.6565869716171093,
          0.7717913190373438,
          0.8117089564036148,
          0.8556988565732673
         ],
         "xaxis": "x14",
         "yaxis": "y14"
        },
        {
         "histfunc": "count",
         "name": "colsample_bylevel",
         "type": "histogram",
         "x": [
          0.8074747607390849,
          0.9933468119470668,
          0.9238634213739294,
          0.8267795798412146,
          0.9308002355393812,
          0.6103356321611778,
          0.990391677427177,
          0.6104388702585563,
          0.9946136179118661,
          0.9983918038379223,
          0.9365492394449548,
          0.8778430008826458,
          0.48521712026283825,
          0.8559673183663981,
          0.9840371292497158,
          0.8228529836726518,
          0.8027481384346831,
          0.9136099400491061,
          0.9378386366829136,
          0.7984999394805967
         ],
         "xaxis": "x15",
         "yaxis": "y15"
        },
        {
         "histfunc": "count",
         "name": "colsample_bynode",
         "type": "histogram",
         "x": [
          0.7064701846488642,
          0.10319443715634002,
          0.6808859110995468,
          0.2468127054772692,
          0.15427399066278302,
          0.4751268546288283,
          0.1769869473842831,
          0.704989957031054,
          0.14005946919638868,
          0.1605632482036753,
          0.10732871859959342,
          0.8411688787981908,
          0.7755390688582526,
          0.16684414937388614,
          0.08053168356114254,
          0.22909178882599432,
          0.6916383670553302,
          0.7421244720907392,
          0.1397756204582911,
          0.32756954806000554
         ],
         "xaxis": "x16",
         "yaxis": "y16"
        },
        {
         "histfunc": "count",
         "name": "reg_lambda",
         "type": "histogram",
         "x": [
          3,
          7,
          1,
          4,
          6,
          0,
          5,
          1,
          7,
          6,
          7,
          4,
          1,
          9,
          7,
          4,
          3,
          5,
          8,
          10
         ],
         "xaxis": "x17",
         "yaxis": "y17"
        },
        {
         "histfunc": "count",
         "name": "reg_alpha",
         "type": "histogram",
         "x": [
          8,
          7,
          8,
          6,
          4,
          19,
          9,
          20,
          5,
          4,
          5,
          5,
          16,
          8,
          5,
          7,
          8,
          10,
          1,
          3
         ],
         "xaxis": "x18",
         "yaxis": "y18"
        },
        {
         "histfunc": "count",
         "name": "grow_policy",
         "type": "histogram",
         "x": [
          "lossguide",
          "depthwise",
          "depthwise",
          "depthwise",
          "depthwise",
          "depthwise",
          "depthwise",
          "depthwise",
          "depthwise",
          "depthwise",
          "depthwise",
          "lossguide",
          "depthwise",
          "depthwise",
          "depthwise",
          "depthwise",
          "lossguide",
          "lossguide",
          "depthwise",
          "depthwise"
         ],
         "xaxis": "x19",
         "yaxis": "y19"
        },
        {
         "histfunc": "count",
         "name": "min_child_weight",
         "type": "histogram",
         "x": [
          70.27952002620962,
          628.2537702232949,
          50.156448929728555,
          14.623085030353252,
          702.5348890232576,
          42.30367434132731,
          507.26780678434466,
          76.91853848041814,
          646.0979703181198,
          672.7567393959872,
          613.5486765997623,
          125.59068600534373,
          95.35232720628268,
          374.43161259221813,
          621.4666835372693,
          406.15670747639865,
          83.04296017119798,
          312.2676489741002,
          808.2678368727162,
          716.5790053880186
         ],
         "xaxis": "x20",
         "yaxis": "y20"
        },
        {
         "histfunc": "count",
         "name": "max_delta_step",
         "type": "histogram",
         "x": [
          94.63438008721305,
          98.7920795463209,
          64.30598447832875,
          40.43832533658065,
          87.73575745383474,
          63.856475155219655,
          71.32073081319545,
          65.41764616557455,
          86.95832857335574,
          82.72519388259198,
          99.65676887923728,
          94.42453121001682,
          63.945555348812,
          91.63108919350721,
          90.1036953951336,
          33.21813499595991,
          92.75964746001182,
          95.15090721541584,
          92.43659101470782,
          86.53377450159599
         ],
         "xaxis": "x21",
         "yaxis": "y21"
        },
        {
         "histfunc": "count",
         "name": "poly_feats_degrees",
         "type": "histogram",
         "x": [
          null,
          2,
          null,
          2,
          2,
          null,
          2,
          null,
          2,
          2,
          2,
          null,
          null,
          2,
          2,
          2,
          null,
          null,
          2,
          2
         ],
         "xaxis": "x22",
         "yaxis": "y22"
        },
        {
         "histfunc": "count",
         "name": "with_centering",
         "type": "histogram",
         "x": [
          null,
          true,
          false,
          true,
          true,
          false,
          true,
          false,
          true,
          true,
          true,
          null,
          false,
          true,
          true,
          null,
          null,
          null,
          true,
          true
         ],
         "xaxis": "x23",
         "yaxis": "y23"
        },
        {
         "histfunc": "count",
         "name": "with_scaling",
         "type": "histogram",
         "x": [
          null,
          false,
          false,
          false,
          false,
          false,
          false,
          false,
          false,
          false,
          false,
          null,
          false,
          true,
          false,
          null,
          null,
          null,
          false,
          false
         ],
         "xaxis": "x24",
         "yaxis": "y24"
        }
       ],
       "layout": {
        "annotations": [
         {
          "font": {
           "size": 16
          },
          "showarrow": false,
          "text": "value",
          "x": 0.08399999999999999,
          "xanchor": "center",
          "xref": "paper",
          "y": 1,
          "yanchor": "bottom",
          "yref": "paper"
         },
         {
          "font": {
           "size": 16
          },
          "showarrow": false,
          "text": "include_orig",
          "x": 0.292,
          "xanchor": "center",
          "xref": "paper",
          "y": 1,
          "yanchor": "bottom",
          "yref": "paper"
         },
         {
          "font": {
           "size": 16
          },
          "showarrow": false,
          "text": "prune_low_freq",
          "x": 0.5,
          "xanchor": "center",
          "xref": "paper",
          "y": 1,
          "yanchor": "bottom",
          "yref": "paper"
         },
         {
          "font": {
           "size": 16
          },
          "showarrow": false,
          "text": "prune_low_importance",
          "x": 0.708,
          "xanchor": "center",
          "xref": "paper",
          "y": 1,
          "yanchor": "bottom",
          "yref": "paper"
         },
         {
          "font": {
           "size": 16
          },
          "showarrow": false,
          "text": "poly_feats",
          "x": 0.9159999999999999,
          "xanchor": "center",
          "xref": "paper",
          "y": 1,
          "yanchor": "bottom",
          "yref": "paper"
         },
         {
          "font": {
           "size": 16
          },
          "showarrow": false,
          "text": "use_standardscaler",
          "x": 0.08399999999999999,
          "xanchor": "center",
          "xref": "paper",
          "y": 0.78,
          "yanchor": "bottom",
          "yref": "paper"
         },
         {
          "font": {
           "size": 16
          },
          "showarrow": false,
          "text": "use_robustscaler",
          "x": 0.292,
          "xanchor": "center",
          "xref": "paper",
          "y": 0.78,
          "yanchor": "bottom",
          "yref": "paper"
         },
         {
          "font": {
           "size": 16
          },
          "showarrow": false,
          "text": "classifier",
          "x": 0.5,
          "xanchor": "center",
          "xref": "paper",
          "y": 0.78,
          "yanchor": "bottom",
          "yref": "paper"
         },
         {
          "font": {
           "size": 16
          },
          "showarrow": false,
          "text": "n_estimators",
          "x": 0.708,
          "xanchor": "center",
          "xref": "paper",
          "y": 0.78,
          "yanchor": "bottom",
          "yref": "paper"
         },
         {
          "font": {
           "size": 16
          },
          "showarrow": false,
          "text": "eta",
          "x": 0.9159999999999999,
          "xanchor": "center",
          "xref": "paper",
          "y": 0.78,
          "yanchor": "bottom",
          "yref": "paper"
         },
         {
          "font": {
           "size": 16
          },
          "showarrow": false,
          "text": "gamma",
          "x": 0.08399999999999999,
          "xanchor": "center",
          "xref": "paper",
          "y": 0.56,
          "yanchor": "bottom",
          "yref": "paper"
         },
         {
          "font": {
           "size": 16
          },
          "showarrow": false,
          "text": "max_depth",
          "x": 0.292,
          "xanchor": "center",
          "xref": "paper",
          "y": 0.56,
          "yanchor": "bottom",
          "yref": "paper"
         },
         {
          "font": {
           "size": 16
          },
          "showarrow": false,
          "text": "max_leaves",
          "x": 0.5,
          "xanchor": "center",
          "xref": "paper",
          "y": 0.56,
          "yanchor": "bottom",
          "yref": "paper"
         },
         {
          "font": {
           "size": 16
          },
          "showarrow": false,
          "text": "colsample_bytree",
          "x": 0.708,
          "xanchor": "center",
          "xref": "paper",
          "y": 0.56,
          "yanchor": "bottom",
          "yref": "paper"
         },
         {
          "font": {
           "size": 16
          },
          "showarrow": false,
          "text": "colsample_bylevel",
          "x": 0.9159999999999999,
          "xanchor": "center",
          "xref": "paper",
          "y": 0.56,
          "yanchor": "bottom",
          "yref": "paper"
         },
         {
          "font": {
           "size": 16
          },
          "showarrow": false,
          "text": "colsample_bynode",
          "x": 0.08399999999999999,
          "xanchor": "center",
          "xref": "paper",
          "y": 0.33999999999999997,
          "yanchor": "bottom",
          "yref": "paper"
         },
         {
          "font": {
           "size": 16
          },
          "showarrow": false,
          "text": "reg_lambda",
          "x": 0.292,
          "xanchor": "center",
          "xref": "paper",
          "y": 0.33999999999999997,
          "yanchor": "bottom",
          "yref": "paper"
         },
         {
          "font": {
           "size": 16
          },
          "showarrow": false,
          "text": "reg_alpha",
          "x": 0.5,
          "xanchor": "center",
          "xref": "paper",
          "y": 0.33999999999999997,
          "yanchor": "bottom",
          "yref": "paper"
         },
         {
          "font": {
           "size": 16
          },
          "showarrow": false,
          "text": "grow_policy",
          "x": 0.708,
          "xanchor": "center",
          "xref": "paper",
          "y": 0.33999999999999997,
          "yanchor": "bottom",
          "yref": "paper"
         },
         {
          "font": {
           "size": 16
          },
          "showarrow": false,
          "text": "min_child_weight",
          "x": 0.9159999999999999,
          "xanchor": "center",
          "xref": "paper",
          "y": 0.33999999999999997,
          "yanchor": "bottom",
          "yref": "paper"
         },
         {
          "font": {
           "size": 16
          },
          "showarrow": false,
          "text": "max_delta_step",
          "x": 0.08399999999999999,
          "xanchor": "center",
          "xref": "paper",
          "y": 0.12,
          "yanchor": "bottom",
          "yref": "paper"
         },
         {
          "font": {
           "size": 16
          },
          "showarrow": false,
          "text": "poly_feats_degrees",
          "x": 0.292,
          "xanchor": "center",
          "xref": "paper",
          "y": 0.12,
          "yanchor": "bottom",
          "yref": "paper"
         },
         {
          "font": {
           "size": 16
          },
          "showarrow": false,
          "text": "with_centering",
          "x": 0.5,
          "xanchor": "center",
          "xref": "paper",
          "y": 0.12,
          "yanchor": "bottom",
          "yref": "paper"
         },
         {
          "font": {
           "size": 16
          },
          "showarrow": false,
          "text": "with_scaling",
          "x": 0.708,
          "xanchor": "center",
          "xref": "paper",
          "y": 0.12,
          "yanchor": "bottom",
          "yref": "paper"
         }
        ],
        "height": 1000,
        "template": {
         "data": {
          "bar": [
           {
            "error_x": {
             "color": "#2a3f5f"
            },
            "error_y": {
             "color": "#2a3f5f"
            },
            "marker": {
             "line": {
              "color": "#E5ECF6",
              "width": 0.5
             },
             "pattern": {
              "fillmode": "overlay",
              "size": 10,
              "solidity": 0.2
             }
            },
            "type": "bar"
           }
          ],
          "barpolar": [
           {
            "marker": {
             "line": {
              "color": "#E5ECF6",
              "width": 0.5
             },
             "pattern": {
              "fillmode": "overlay",
              "size": 10,
              "solidity": 0.2
             }
            },
            "type": "barpolar"
           }
          ],
          "carpet": [
           {
            "aaxis": {
             "endlinecolor": "#2a3f5f",
             "gridcolor": "white",
             "linecolor": "white",
             "minorgridcolor": "white",
             "startlinecolor": "#2a3f5f"
            },
            "baxis": {
             "endlinecolor": "#2a3f5f",
             "gridcolor": "white",
             "linecolor": "white",
             "minorgridcolor": "white",
             "startlinecolor": "#2a3f5f"
            },
            "type": "carpet"
           }
          ],
          "choropleth": [
           {
            "colorbar": {
             "outlinewidth": 0,
             "ticks": ""
            },
            "type": "choropleth"
           }
          ],
          "contour": [
           {
            "colorbar": {
             "outlinewidth": 0,
             "ticks": ""
            },
            "colorscale": [
             [
              0,
              "#0d0887"
             ],
             [
              0.1111111111111111,
              "#46039f"
             ],
             [
              0.2222222222222222,
              "#7201a8"
             ],
             [
              0.3333333333333333,
              "#9c179e"
             ],
             [
              0.4444444444444444,
              "#bd3786"
             ],
             [
              0.5555555555555556,
              "#d8576b"
             ],
             [
              0.6666666666666666,
              "#ed7953"
             ],
             [
              0.7777777777777778,
              "#fb9f3a"
             ],
             [
              0.8888888888888888,
              "#fdca26"
             ],
             [
              1,
              "#f0f921"
             ]
            ],
            "type": "contour"
           }
          ],
          "contourcarpet": [
           {
            "colorbar": {
             "outlinewidth": 0,
             "ticks": ""
            },
            "type": "contourcarpet"
           }
          ],
          "heatmap": [
           {
            "colorbar": {
             "outlinewidth": 0,
             "ticks": ""
            },
            "colorscale": [
             [
              0,
              "#0d0887"
             ],
             [
              0.1111111111111111,
              "#46039f"
             ],
             [
              0.2222222222222222,
              "#7201a8"
             ],
             [
              0.3333333333333333,
              "#9c179e"
             ],
             [
              0.4444444444444444,
              "#bd3786"
             ],
             [
              0.5555555555555556,
              "#d8576b"
             ],
             [
              0.6666666666666666,
              "#ed7953"
             ],
             [
              0.7777777777777778,
              "#fb9f3a"
             ],
             [
              0.8888888888888888,
              "#fdca26"
             ],
             [
              1,
              "#f0f921"
             ]
            ],
            "type": "heatmap"
           }
          ],
          "heatmapgl": [
           {
            "colorbar": {
             "outlinewidth": 0,
             "ticks": ""
            },
            "colorscale": [
             [
              0,
              "#0d0887"
             ],
             [
              0.1111111111111111,
              "#46039f"
             ],
             [
              0.2222222222222222,
              "#7201a8"
             ],
             [
              0.3333333333333333,
              "#9c179e"
             ],
             [
              0.4444444444444444,
              "#bd3786"
             ],
             [
              0.5555555555555556,
              "#d8576b"
             ],
             [
              0.6666666666666666,
              "#ed7953"
             ],
             [
              0.7777777777777778,
              "#fb9f3a"
             ],
             [
              0.8888888888888888,
              "#fdca26"
             ],
             [
              1,
              "#f0f921"
             ]
            ],
            "type": "heatmapgl"
           }
          ],
          "histogram": [
           {
            "marker": {
             "pattern": {
              "fillmode": "overlay",
              "size": 10,
              "solidity": 0.2
             }
            },
            "type": "histogram"
           }
          ],
          "histogram2d": [
           {
            "colorbar": {
             "outlinewidth": 0,
             "ticks": ""
            },
            "colorscale": [
             [
              0,
              "#0d0887"
             ],
             [
              0.1111111111111111,
              "#46039f"
             ],
             [
              0.2222222222222222,
              "#7201a8"
             ],
             [
              0.3333333333333333,
              "#9c179e"
             ],
             [
              0.4444444444444444,
              "#bd3786"
             ],
             [
              0.5555555555555556,
              "#d8576b"
             ],
             [
              0.6666666666666666,
              "#ed7953"
             ],
             [
              0.7777777777777778,
              "#fb9f3a"
             ],
             [
              0.8888888888888888,
              "#fdca26"
             ],
             [
              1,
              "#f0f921"
             ]
            ],
            "type": "histogram2d"
           }
          ],
          "histogram2dcontour": [
           {
            "colorbar": {
             "outlinewidth": 0,
             "ticks": ""
            },
            "colorscale": [
             [
              0,
              "#0d0887"
             ],
             [
              0.1111111111111111,
              "#46039f"
             ],
             [
              0.2222222222222222,
              "#7201a8"
             ],
             [
              0.3333333333333333,
              "#9c179e"
             ],
             [
              0.4444444444444444,
              "#bd3786"
             ],
             [
              0.5555555555555556,
              "#d8576b"
             ],
             [
              0.6666666666666666,
              "#ed7953"
             ],
             [
              0.7777777777777778,
              "#fb9f3a"
             ],
             [
              0.8888888888888888,
              "#fdca26"
             ],
             [
              1,
              "#f0f921"
             ]
            ],
            "type": "histogram2dcontour"
           }
          ],
          "mesh3d": [
           {
            "colorbar": {
             "outlinewidth": 0,
             "ticks": ""
            },
            "type": "mesh3d"
           }
          ],
          "parcoords": [
           {
            "line": {
             "colorbar": {
              "outlinewidth": 0,
              "ticks": ""
             }
            },
            "type": "parcoords"
           }
          ],
          "pie": [
           {
            "automargin": true,
            "type": "pie"
           }
          ],
          "scatter": [
           {
            "fillpattern": {
             "fillmode": "overlay",
             "size": 10,
             "solidity": 0.2
            },
            "type": "scatter"
           }
          ],
          "scatter3d": [
           {
            "line": {
             "colorbar": {
              "outlinewidth": 0,
              "ticks": ""
             }
            },
            "marker": {
             "colorbar": {
              "outlinewidth": 0,
              "ticks": ""
             }
            },
            "type": "scatter3d"
           }
          ],
          "scattercarpet": [
           {
            "marker": {
             "colorbar": {
              "outlinewidth": 0,
              "ticks": ""
             }
            },
            "type": "scattercarpet"
           }
          ],
          "scattergeo": [
           {
            "marker": {
             "colorbar": {
              "outlinewidth": 0,
              "ticks": ""
             }
            },
            "type": "scattergeo"
           }
          ],
          "scattergl": [
           {
            "marker": {
             "colorbar": {
              "outlinewidth": 0,
              "ticks": ""
             }
            },
            "type": "scattergl"
           }
          ],
          "scattermapbox": [
           {
            "marker": {
             "colorbar": {
              "outlinewidth": 0,
              "ticks": ""
             }
            },
            "type": "scattermapbox"
           }
          ],
          "scatterpolar": [
           {
            "marker": {
             "colorbar": {
              "outlinewidth": 0,
              "ticks": ""
             }
            },
            "type": "scatterpolar"
           }
          ],
          "scatterpolargl": [
           {
            "marker": {
             "colorbar": {
              "outlinewidth": 0,
              "ticks": ""
             }
            },
            "type": "scatterpolargl"
           }
          ],
          "scatterternary": [
           {
            "marker": {
             "colorbar": {
              "outlinewidth": 0,
              "ticks": ""
             }
            },
            "type": "scatterternary"
           }
          ],
          "surface": [
           {
            "colorbar": {
             "outlinewidth": 0,
             "ticks": ""
            },
            "colorscale": [
             [
              0,
              "#0d0887"
             ],
             [
              0.1111111111111111,
              "#46039f"
             ],
             [
              0.2222222222222222,
              "#7201a8"
             ],
             [
              0.3333333333333333,
              "#9c179e"
             ],
             [
              0.4444444444444444,
              "#bd3786"
             ],
             [
              0.5555555555555556,
              "#d8576b"
             ],
             [
              0.6666666666666666,
              "#ed7953"
             ],
             [
              0.7777777777777778,
              "#fb9f3a"
             ],
             [
              0.8888888888888888,
              "#fdca26"
             ],
             [
              1,
              "#f0f921"
             ]
            ],
            "type": "surface"
           }
          ],
          "table": [
           {
            "cells": {
             "fill": {
              "color": "#EBF0F8"
             },
             "line": {
              "color": "white"
             }
            },
            "header": {
             "fill": {
              "color": "#C8D4E3"
             },
             "line": {
              "color": "white"
             }
            },
            "type": "table"
           }
          ]
         },
         "layout": {
          "annotationdefaults": {
           "arrowcolor": "#2a3f5f",
           "arrowhead": 0,
           "arrowwidth": 1
          },
          "autotypenumbers": "strict",
          "coloraxis": {
           "colorbar": {
            "outlinewidth": 0,
            "ticks": ""
           }
          },
          "colorscale": {
           "diverging": [
            [
             0,
             "#8e0152"
            ],
            [
             0.1,
             "#c51b7d"
            ],
            [
             0.2,
             "#de77ae"
            ],
            [
             0.3,
             "#f1b6da"
            ],
            [
             0.4,
             "#fde0ef"
            ],
            [
             0.5,
             "#f7f7f7"
            ],
            [
             0.6,
             "#e6f5d0"
            ],
            [
             0.7,
             "#b8e186"
            ],
            [
             0.8,
             "#7fbc41"
            ],
            [
             0.9,
             "#4d9221"
            ],
            [
             1,
             "#276419"
            ]
           ],
           "sequential": [
            [
             0,
             "#0d0887"
            ],
            [
             0.1111111111111111,
             "#46039f"
            ],
            [
             0.2222222222222222,
             "#7201a8"
            ],
            [
             0.3333333333333333,
             "#9c179e"
            ],
            [
             0.4444444444444444,
             "#bd3786"
            ],
            [
             0.5555555555555556,
             "#d8576b"
            ],
            [
             0.6666666666666666,
             "#ed7953"
            ],
            [
             0.7777777777777778,
             "#fb9f3a"
            ],
            [
             0.8888888888888888,
             "#fdca26"
            ],
            [
             1,
             "#f0f921"
            ]
           ],
           "sequentialminus": [
            [
             0,
             "#0d0887"
            ],
            [
             0.1111111111111111,
             "#46039f"
            ],
            [
             0.2222222222222222,
             "#7201a8"
            ],
            [
             0.3333333333333333,
             "#9c179e"
            ],
            [
             0.4444444444444444,
             "#bd3786"
            ],
            [
             0.5555555555555556,
             "#d8576b"
            ],
            [
             0.6666666666666666,
             "#ed7953"
            ],
            [
             0.7777777777777778,
             "#fb9f3a"
            ],
            [
             0.8888888888888888,
             "#fdca26"
            ],
            [
             1,
             "#f0f921"
            ]
           ]
          },
          "colorway": [
           "#636efa",
           "#EF553B",
           "#00cc96",
           "#ab63fa",
           "#FFA15A",
           "#19d3f3",
           "#FF6692",
           "#B6E880",
           "#FF97FF",
           "#FECB52"
          ],
          "font": {
           "color": "#2a3f5f"
          },
          "geo": {
           "bgcolor": "white",
           "lakecolor": "white",
           "landcolor": "#E5ECF6",
           "showlakes": true,
           "showland": true,
           "subunitcolor": "white"
          },
          "hoverlabel": {
           "align": "left"
          },
          "hovermode": "closest",
          "mapbox": {
           "style": "light"
          },
          "paper_bgcolor": "white",
          "plot_bgcolor": "#E5ECF6",
          "polar": {
           "angularaxis": {
            "gridcolor": "white",
            "linecolor": "white",
            "ticks": ""
           },
           "bgcolor": "#E5ECF6",
           "radialaxis": {
            "gridcolor": "white",
            "linecolor": "white",
            "ticks": ""
           }
          },
          "scene": {
           "xaxis": {
            "backgroundcolor": "#E5ECF6",
            "gridcolor": "white",
            "gridwidth": 2,
            "linecolor": "white",
            "showbackground": true,
            "ticks": "",
            "zerolinecolor": "white"
           },
           "yaxis": {
            "backgroundcolor": "#E5ECF6",
            "gridcolor": "white",
            "gridwidth": 2,
            "linecolor": "white",
            "showbackground": true,
            "ticks": "",
            "zerolinecolor": "white"
           },
           "zaxis": {
            "backgroundcolor": "#E5ECF6",
            "gridcolor": "white",
            "gridwidth": 2,
            "linecolor": "white",
            "showbackground": true,
            "ticks": "",
            "zerolinecolor": "white"
           }
          },
          "shapedefaults": {
           "line": {
            "color": "#2a3f5f"
           }
          },
          "ternary": {
           "aaxis": {
            "gridcolor": "white",
            "linecolor": "white",
            "ticks": ""
           },
           "baxis": {
            "gridcolor": "white",
            "linecolor": "white",
            "ticks": ""
           },
           "bgcolor": "#E5ECF6",
           "caxis": {
            "gridcolor": "white",
            "linecolor": "white",
            "ticks": ""
           }
          },
          "title": {
           "x": 0.05
          },
          "xaxis": {
           "automargin": true,
           "gridcolor": "white",
           "linecolor": "white",
           "ticks": "",
           "title": {
            "standoff": 15
           },
           "zerolinecolor": "white",
           "zerolinewidth": 2
          },
          "yaxis": {
           "automargin": true,
           "gridcolor": "white",
           "linecolor": "white",
           "ticks": "",
           "title": {
            "standoff": 15
           },
           "zerolinecolor": "white",
           "zerolinewidth": 2
          }
         }
        },
        "title": {
         "text": "Histograms of all columns"
        },
        "width": 1800,
        "xaxis": {
         "anchor": "y",
         "domain": [
          0,
          0.16799999999999998
         ]
        },
        "xaxis10": {
         "anchor": "y10",
         "domain": [
          0.832,
          1
         ]
        },
        "xaxis11": {
         "anchor": "y11",
         "domain": [
          0,
          0.16799999999999998
         ]
        },
        "xaxis12": {
         "anchor": "y12",
         "domain": [
          0.208,
          0.376
         ]
        },
        "xaxis13": {
         "anchor": "y13",
         "domain": [
          0.416,
          0.584
         ]
        },
        "xaxis14": {
         "anchor": "y14",
         "domain": [
          0.624,
          0.792
         ]
        },
        "xaxis15": {
         "anchor": "y15",
         "domain": [
          0.832,
          1
         ]
        },
        "xaxis16": {
         "anchor": "y16",
         "domain": [
          0,
          0.16799999999999998
         ]
        },
        "xaxis17": {
         "anchor": "y17",
         "domain": [
          0.208,
          0.376
         ]
        },
        "xaxis18": {
         "anchor": "y18",
         "domain": [
          0.416,
          0.584
         ]
        },
        "xaxis19": {
         "anchor": "y19",
         "domain": [
          0.624,
          0.792
         ]
        },
        "xaxis2": {
         "anchor": "y2",
         "domain": [
          0.208,
          0.376
         ]
        },
        "xaxis20": {
         "anchor": "y20",
         "domain": [
          0.832,
          1
         ]
        },
        "xaxis21": {
         "anchor": "y21",
         "domain": [
          0,
          0.16799999999999998
         ]
        },
        "xaxis22": {
         "anchor": "y22",
         "domain": [
          0.208,
          0.376
         ]
        },
        "xaxis23": {
         "anchor": "y23",
         "domain": [
          0.416,
          0.584
         ]
        },
        "xaxis24": {
         "anchor": "y24",
         "domain": [
          0.624,
          0.792
         ]
        },
        "xaxis25": {
         "anchor": "y25",
         "domain": [
          0.832,
          1
         ]
        },
        "xaxis3": {
         "anchor": "y3",
         "domain": [
          0.416,
          0.584
         ]
        },
        "xaxis4": {
         "anchor": "y4",
         "domain": [
          0.624,
          0.792
         ]
        },
        "xaxis5": {
         "anchor": "y5",
         "domain": [
          0.832,
          1
         ]
        },
        "xaxis6": {
         "anchor": "y6",
         "domain": [
          0,
          0.16799999999999998
         ]
        },
        "xaxis7": {
         "anchor": "y7",
         "domain": [
          0.208,
          0.376
         ]
        },
        "xaxis8": {
         "anchor": "y8",
         "domain": [
          0.416,
          0.584
         ]
        },
        "xaxis9": {
         "anchor": "y9",
         "domain": [
          0.624,
          0.792
         ]
        },
        "yaxis": {
         "anchor": "x",
         "domain": [
          0.88,
          1
         ]
        },
        "yaxis10": {
         "anchor": "x10",
         "domain": [
          0.66,
          0.78
         ]
        },
        "yaxis11": {
         "anchor": "x11",
         "domain": [
          0.44,
          0.56
         ]
        },
        "yaxis12": {
         "anchor": "x12",
         "domain": [
          0.44,
          0.56
         ]
        },
        "yaxis13": {
         "anchor": "x13",
         "domain": [
          0.44,
          0.56
         ]
        },
        "yaxis14": {
         "anchor": "x14",
         "domain": [
          0.44,
          0.56
         ]
        },
        "yaxis15": {
         "anchor": "x15",
         "domain": [
          0.44,
          0.56
         ]
        },
        "yaxis16": {
         "anchor": "x16",
         "domain": [
          0.22,
          0.33999999999999997
         ]
        },
        "yaxis17": {
         "anchor": "x17",
         "domain": [
          0.22,
          0.33999999999999997
         ]
        },
        "yaxis18": {
         "anchor": "x18",
         "domain": [
          0.22,
          0.33999999999999997
         ]
        },
        "yaxis19": {
         "anchor": "x19",
         "domain": [
          0.22,
          0.33999999999999997
         ]
        },
        "yaxis2": {
         "anchor": "x2",
         "domain": [
          0.88,
          1
         ]
        },
        "yaxis20": {
         "anchor": "x20",
         "domain": [
          0.22,
          0.33999999999999997
         ]
        },
        "yaxis21": {
         "anchor": "x21",
         "domain": [
          0,
          0.12
         ]
        },
        "yaxis22": {
         "anchor": "x22",
         "domain": [
          0,
          0.12
         ]
        },
        "yaxis23": {
         "anchor": "x23",
         "domain": [
          0,
          0.12
         ]
        },
        "yaxis24": {
         "anchor": "x24",
         "domain": [
          0,
          0.12
         ]
        },
        "yaxis25": {
         "anchor": "x25",
         "domain": [
          0,
          0.12
         ]
        },
        "yaxis3": {
         "anchor": "x3",
         "domain": [
          0.88,
          1
         ]
        },
        "yaxis4": {
         "anchor": "x4",
         "domain": [
          0.88,
          1
         ]
        },
        "yaxis5": {
         "anchor": "x5",
         "domain": [
          0.88,
          1
         ]
        },
        "yaxis6": {
         "anchor": "x6",
         "domain": [
          0.66,
          0.78
         ]
        },
        "yaxis7": {
         "anchor": "x7",
         "domain": [
          0.66,
          0.78
         ]
        },
        "yaxis8": {
         "anchor": "x8",
         "domain": [
          0.66,
          0.78
         ]
        },
        "yaxis9": {
         "anchor": "x9",
         "domain": [
          0.66,
          0.78
         ]
        }
       }
      }
     },
     "metadata": {},
     "output_type": "display_data"
    },
    {
     "data": {
      "text/plain": [
       "4000"
      ]
     },
     "execution_count": 33,
     "metadata": {},
     "output_type": "execute_result"
    }
   ],
   "source": [
    "sp_rows = 5\n",
    "sp_cols = 5\n",
    "sp_ids = [(r, c) for r in range(1, sp_rows+1) for c in range(1, sp_cols+1)]\n",
    "fig = make_subplots(rows=sp_rows, cols=sp_cols, subplot_titles=top_params.columns)\n",
    "\n",
    "for sp, column in zip(sp_ids, top_params.columns):\n",
    "    if column not in [\"id\"]:\n",
    "        fig.append_trace(\n",
    "            go.Histogram(\n",
    "                histfunc=\"count\",\n",
    "                x=top_params[column],\n",
    "                name=column,\n",
    "            ),\n",
    "            row=sp[0],\n",
    "            col=sp[1],\n",
    "        )\n",
    "\n",
    "variable_kstests = pd.DataFrame()\n",
    "for column in top_params.columns:\n",
    "    if top_params[column].dtype not in [\"object\"]:\n",
    "        ks_test = stats.kstest(top_params[column], stats.norm.cdf)\n",
    "        kd_pd = pd.DataFrame({\n",
    "            \"statistic\":ks_test.statistic,\n",
    "            \"pvalue\":ks_test.pvalue\n",
    "        },index=[column])   \n",
    "\n",
    "        variable_kstests = pd.concat([variable_kstests, kd_pd], axis=0)\n",
    "        \n",
    "print(variable_kstests)\n",
    "\n",
    "fig.update_layout(height=1000, width=1800, title_text=\"Histograms of all columns\")\n",
    "fig.show()\n",
    "#fig.write_image(\"var_hists.png\")\n",
    "gc.collect()\n"
   ]
  },
  {
   "cell_type": "code",
   "execution_count": 77,
   "metadata": {},
   "outputs": [
    {
     "data": {
      "text/html": [
       "<div>\n",
       "<style scoped>\n",
       "    .dataframe tbody tr th:only-of-type {\n",
       "        vertical-align: middle;\n",
       "    }\n",
       "\n",
       "    .dataframe tbody tr th {\n",
       "        vertical-align: top;\n",
       "    }\n",
       "\n",
       "    .dataframe thead th {\n",
       "        text-align: right;\n",
       "    }\n",
       "</style>\n",
       "<table border=\"1\" class=\"dataframe\">\n",
       "  <thead>\n",
       "    <tr style=\"text-align: right;\">\n",
       "      <th></th>\n",
       "      <th>importance</th>\n",
       "      <th>stddev</th>\n",
       "      <th>p_value</th>\n",
       "      <th>n</th>\n",
       "      <th>p99_high</th>\n",
       "      <th>p99_low</th>\n",
       "    </tr>\n",
       "  </thead>\n",
       "  <tbody>\n",
       "    <tr>\n",
       "      <th>Tuition fees up to date</th>\n",
       "      <td>0.02864</td>\n",
       "      <td>0.001352</td>\n",
       "      <td>5.942267e-07</td>\n",
       "      <td>5</td>\n",
       "      <td>0.031424</td>\n",
       "      <td>0.025856</td>\n",
       "    </tr>\n",
       "    <tr>\n",
       "      <th>Course</th>\n",
       "      <td>0.01340</td>\n",
       "      <td>0.003338</td>\n",
       "      <td>4.260248e-04</td>\n",
       "      <td>5</td>\n",
       "      <td>0.020272</td>\n",
       "      <td>0.006528</td>\n",
       "    </tr>\n",
       "    <tr>\n",
       "      <th>Scholarship holder</th>\n",
       "      <td>0.00976</td>\n",
       "      <td>0.001152</td>\n",
       "      <td>2.289540e-05</td>\n",
       "      <td>5</td>\n",
       "      <td>0.012133</td>\n",
       "      <td>0.007387</td>\n",
       "    </tr>\n",
       "    <tr>\n",
       "      <th>Father's occupation</th>\n",
       "      <td>0.00364</td>\n",
       "      <td>0.002032</td>\n",
       "      <td>8.024572e-03</td>\n",
       "      <td>5</td>\n",
       "      <td>0.007823</td>\n",
       "      <td>-0.000543</td>\n",
       "    </tr>\n",
       "    <tr>\n",
       "      <th>Application mode</th>\n",
       "      <td>0.00336</td>\n",
       "      <td>0.000654</td>\n",
       "      <td>1.640861e-04</td>\n",
       "      <td>5</td>\n",
       "      <td>0.004707</td>\n",
       "      <td>0.002013</td>\n",
       "    </tr>\n",
       "    <tr>\n",
       "      <th>...</th>\n",
       "      <td>...</td>\n",
       "      <td>...</td>\n",
       "      <td>...</td>\n",
       "      <td>...</td>\n",
       "      <td>...</td>\n",
       "      <td>...</td>\n",
       "    </tr>\n",
       "    <tr>\n",
       "      <th>Curricular units 1st sem (evaluations)^2 Curricular units 2nd sem (evaluations)</th>\n",
       "      <td>0.00116</td>\n",
       "      <td>0.000410</td>\n",
       "      <td>1.595589e-03</td>\n",
       "      <td>5</td>\n",
       "      <td>0.002004</td>\n",
       "      <td>0.000316</td>\n",
       "    </tr>\n",
       "    <tr>\n",
       "      <th>Age at enrollment Curricular units 2nd sem (enrolled)^2</th>\n",
       "      <td>0.00112</td>\n",
       "      <td>0.000335</td>\n",
       "      <td>8.525787e-04</td>\n",
       "      <td>5</td>\n",
       "      <td>0.001809</td>\n",
       "      <td>0.000431</td>\n",
       "    </tr>\n",
       "    <tr>\n",
       "      <th>Curricular units 1st sem (approved) Curricular units 1st sem (grade) Curricular units 2nd sem (approved)</th>\n",
       "      <td>0.00112</td>\n",
       "      <td>0.000867</td>\n",
       "      <td>2.232672e-02</td>\n",
       "      <td>5</td>\n",
       "      <td>0.002906</td>\n",
       "      <td>-0.000666</td>\n",
       "    </tr>\n",
       "    <tr>\n",
       "      <th>Curricular units 1st sem (grade) Curricular units 2nd sem (approved) Curricular units 2nd sem (grade)</th>\n",
       "      <td>0.00108</td>\n",
       "      <td>0.000657</td>\n",
       "      <td>1.065582e-02</td>\n",
       "      <td>5</td>\n",
       "      <td>0.002433</td>\n",
       "      <td>-0.000273</td>\n",
       "    </tr>\n",
       "    <tr>\n",
       "      <th>Curricular units 1st sem (approved)^2 Curricular units 2nd sem (approved)</th>\n",
       "      <td>0.00104</td>\n",
       "      <td>0.000669</td>\n",
       "      <td>1.274074e-02</td>\n",
       "      <td>5</td>\n",
       "      <td>0.002418</td>\n",
       "      <td>-0.000338</td>\n",
       "    </tr>\n",
       "  </tbody>\n",
       "</table>\n",
       "<p>28 rows × 6 columns</p>\n",
       "</div>"
      ],
      "text/plain": [
       "                                                    importance    stddev  \\\n",
       "Tuition fees up to date                                0.02864  0.001352   \n",
       "Course                                                 0.01340  0.003338   \n",
       "Scholarship holder                                     0.00976  0.001152   \n",
       "Father's occupation                                    0.00364  0.002032   \n",
       "Application mode                                       0.00336  0.000654   \n",
       "...                                                        ...       ...   \n",
       "Curricular units 1st sem (evaluations)^2 Curric...     0.00116  0.000410   \n",
       "Age at enrollment Curricular units 2nd sem (enr...     0.00112  0.000335   \n",
       "Curricular units 1st sem (approved) Curricular ...     0.00112  0.000867   \n",
       "Curricular units 1st sem (grade) Curricular uni...     0.00108  0.000657   \n",
       "Curricular units 1st sem (approved)^2 Curricula...     0.00104  0.000669   \n",
       "\n",
       "                                                         p_value  n  p99_high  \\\n",
       "Tuition fees up to date                             5.942267e-07  5  0.031424   \n",
       "Course                                              4.260248e-04  5  0.020272   \n",
       "Scholarship holder                                  2.289540e-05  5  0.012133   \n",
       "Father's occupation                                 8.024572e-03  5  0.007823   \n",
       "Application mode                                    1.640861e-04  5  0.004707   \n",
       "...                                                          ... ..       ...   \n",
       "Curricular units 1st sem (evaluations)^2 Curric...  1.595589e-03  5  0.002004   \n",
       "Age at enrollment Curricular units 2nd sem (enr...  8.525787e-04  5  0.001809   \n",
       "Curricular units 1st sem (approved) Curricular ...  2.232672e-02  5  0.002906   \n",
       "Curricular units 1st sem (grade) Curricular uni...  1.065582e-02  5  0.002433   \n",
       "Curricular units 1st sem (approved)^2 Curricula...  1.274074e-02  5  0.002418   \n",
       "\n",
       "                                                     p99_low  \n",
       "Tuition fees up to date                             0.025856  \n",
       "Course                                              0.006528  \n",
       "Scholarship holder                                  0.007387  \n",
       "Father's occupation                                -0.000543  \n",
       "Application mode                                    0.002013  \n",
       "...                                                      ...  \n",
       "Curricular units 1st sem (evaluations)^2 Curric...  0.000316  \n",
       "Age at enrollment Curricular units 2nd sem (enr...  0.000431  \n",
       "Curricular units 1st sem (approved) Curricular ... -0.000666  \n",
       "Curricular units 1st sem (grade) Curricular uni... -0.000273  \n",
       "Curricular units 1st sem (approved)^2 Curricula... -0.000338  \n",
       "\n",
       "[28 rows x 6 columns]"
      ]
     },
     "execution_count": 77,
     "metadata": {},
     "output_type": "execute_result"
    }
   ],
   "source": [
    "more_important_features = fi[fi[\"importance\"] > 1e-3]\n",
    "more_important_features"
   ]
  },
  {
   "cell_type": "code",
   "execution_count": 68,
   "metadata": {},
   "outputs": [],
   "source": [
    "def objective(trial):\n",
    "    xgb_model = xgboost.XGBClassifier(\n",
    "        enable_categorical=True,\n",
    "        n_jobs=-1,\n",
    "\n",
    "        n_estimators=trial.suggest_int(\"n_estimators\", 1000, 5000),\n",
    "        gamma=trial.suggest_float(\"gamma\", 0, 2),\n",
    "        max_depth=trial.suggest_int(\"max_depth\", 2, 5),\n",
    "        max_leaves=trial.suggest_int(\"max_leaves\", 1000, 6000),\n",
    "        colsample_bytree=trial.suggest_float(\"colsample_bytree\", 0.5, 1),\n",
    "        colsample_bylevel=trial.suggest_float(\"colsample_bylevel\", 0.5, 1),\n",
    "        colsample_bynode=trial.suggest_float(\"colsample_bynode\", 0.05, 1),\n",
    "        reg_lambda=trial.suggest_float(\"reg_lambda\", 0, 10),\n",
    "        reg_alpha=trial.suggest_float(\"reg_alpha\", 0, 10),\n",
    "        grow_policy=trial.suggest_categorical(\n",
    "                \"grow_policy\", [\"depthwise\", \"lossguide\"]\n",
    "        ),\n",
    "        min_child_weight=trial.suggest_float(\"min_child_weight\", 0, 1000),\n",
    "        max_delta_step=trial.suggest_float(\"max_delta_step\", 50, 1000)\n",
    "    )\n",
    "    \n",
    "    # poly_feats = PolynomialFeatures(trial.suggest_int(\"poly_feats_high_degree\", 1, 3))\n",
    "\n",
    "    # robust_scaler = None\n",
    "    # if trial.suggest_categorical(\"use_robustscaler\", [True, False]):\n",
    "    #     robust_scaler = RobustScaler(\n",
    "    #         with_centering=trial.suggest_categorical(\"with_centering\", [True, False]),\n",
    "    #         with_scaling=trial.suggest_categorical(\"with_scaling\", [True, False]),\n",
    "    #     )\n",
    "\n",
    "    label_enc = LabelEncoder()\n",
    "    x = train_data[more_important_features.index]\n",
    "    y = label_enc.fit_transform(train_data[\"Target\"])\n",
    "    # x = train_df.drop(columns=[\"Target\"])\n",
    "    # y = label_enc.fit_transform(train_df[\"Target\"])\n",
    "    # kfold = RepeatedStratifiedKFold(n_splits=5, n_repeats=5)\n",
    "    kfold = StratifiedKFold(n_splits=5)\n",
    "\n",
    "    rfecv = RFECV(\n",
    "        estimator=xgb_model,\n",
    "        step=5,\n",
    "        cv=kfold,\n",
    "        scoring=\"accuracy\",\n",
    "        min_features_to_select=1,\n",
    "        n_jobs=-1\n",
    "    )\n",
    "    rfecv.fit(x,y)\n",
    "    cv_results = rfecv.cv_results_\n",
    "\n",
    "    trial.set_user_attr(\"best_features_count\", int(rfecv.n_features_))\n",
    "    trial.set_user_attr(\"mean_test_score\", [float(i) for i in cv_results[\"mean_test_score\"]])\n",
    "    trial.set_user_attr(\"std_test_score\", [float(i) for i in cv_results[\"std_test_score\"]])\n",
    "\n",
    "    y_preds = rfecv.predict(x)\n",
    "    # xgb_model.fit(x, y)\n",
    "    # y_preds = xgb_model.predict(x)\n",
    "    return accuracy_score(y, y_preds)"
   ]
  },
  {
   "cell_type": "code",
   "execution_count": 70,
   "metadata": {},
   "outputs": [
    {
     "name": "stderr",
     "output_type": "stream",
     "text": [
      "[I 2024-06-21 00:22:28,073] Using an existing study with name 'optimized_xgb_v2' instead of creating a new one.\n"
     ]
    },
    {
     "name": "stderr",
     "output_type": "stream",
     "text": [
      "[I 2024-06-21 00:24:54,377] Trial 10 finished with value: 0.8276173062192681 and parameters: {'n_estimators': 1778, 'gamma': 1.4050802075420419, 'max_depth': 3, 'max_leaves': 3012, 'colsample_bytree': 0.5099105080567855, 'colsample_bylevel': 0.8214587008484072, 'colsample_bynode': 0.12235140242755654, 'reg_lambda': 0.6560699703436619, 'reg_alpha': 7.890292375901586, 'grow_policy': 'depthwise', 'min_child_weight': 35.96416965551831, 'max_delta_step': 968.8106311587065}. Best is trial 2 with value: 0.8384275159991105.\n",
      "[I 2024-06-21 00:29:17,604] Trial 11 finished with value: 0.8439499888809271 and parameters: {'n_estimators': 3160, 'gamma': 0.15563127404979826, 'max_depth': 5, 'max_leaves': 1056, 'colsample_bytree': 0.8603376837333011, 'colsample_bylevel': 0.8410853752141421, 'colsample_bynode': 0.6754096761398442, 'reg_lambda': 2.8778005526731456, 'reg_alpha': 9.040655843252802, 'grow_policy': 'lossguide', 'min_child_weight': 8.636579454882735, 'max_delta_step': 941.9576381343791}. Best is trial 11 with value: 0.8439499888809271.\n",
      "[I 2024-06-21 00:33:29,648] Trial 12 finished with value: 0.8439252798300018 and parameters: {'n_estimators': 2895, 'gamma': 0.09342577415734354, 'max_depth': 5, 'max_leaves': 1022, 'colsample_bytree': 0.9795890032195954, 'colsample_bylevel': 0.8553471311463228, 'colsample_bynode': 0.7052750550928929, 'reg_lambda': 1.6038203515014744, 'reg_alpha': 9.844177968243176, 'grow_policy': 'lossguide', 'min_child_weight': 4.936960971336448, 'max_delta_step': 992.3633382595342}. Best is trial 11 with value: 0.8439499888809271.\n",
      "[I 2024-06-21 00:36:46,800] Trial 13 finished with value: 0.8299523115317141 and parameters: {'n_estimators': 2381, 'gamma': 1.174412951473148, 'max_depth': 5, 'max_leaves': 1064, 'colsample_bytree': 0.9910263704703255, 'colsample_bylevel': 0.8481775939344092, 'colsample_bynode': 0.6859991931971934, 'reg_lambda': 0.6731683860509006, 'reg_alpha': 9.962748456036977, 'grow_policy': 'lossguide', 'min_child_weight': 178.40267325830976, 'max_delta_step': 963.2361150330343}. Best is trial 11 with value: 0.8439499888809271.\n",
      "[I 2024-06-21 00:40:11,941] Trial 14 finished with value: 0.8369449729435893 and parameters: {'n_estimators': 2475, 'gamma': 0.32511271115343043, 'max_depth': 5, 'max_leaves': 1007, 'colsample_bytree': 0.8704187697225683, 'colsample_bylevel': 0.8600173659199604, 'colsample_bynode': 0.9760422859519005, 'reg_lambda': 2.334768816706001, 'reg_alpha': 9.94281458283202, 'grow_policy': 'lossguide', 'min_child_weight': 113.78856652611363, 'max_delta_step': 873.9587166535996}. Best is trial 11 with value: 0.8439499888809271.\n",
      "[I 2024-06-21 00:44:54,657] Trial 15 finished with value: 0.8309283190432656 and parameters: {'n_estimators': 3478, 'gamma': 0.8520693824010476, 'max_depth': 4, 'max_leaves': 1939, 'colsample_bytree': 0.9892597466920275, 'colsample_bylevel': 0.7623896827346244, 'colsample_bynode': 0.6914920667098003, 'reg_lambda': 2.3495880290942335, 'reg_alpha': 8.060133579158466, 'grow_policy': 'lossguide', 'min_child_weight': 182.25500675514488, 'max_delta_step': 462.7429445615119}. Best is trial 11 with value: 0.8439499888809271.\n",
      "[I 2024-06-21 00:49:28,858] Trial 16 finished with value: 0.8600849991351832 and parameters: {'n_estimators': 2535, 'gamma': 0.0012377483582468596, 'max_depth': 5, 'max_leaves': 2311, 'colsample_bytree': 0.9191252594387602, 'colsample_bylevel': 0.8955635814007454, 'colsample_bynode': 0.31982543067369296, 'reg_lambda': 0.03732133554924433, 'reg_alpha': 8.93661080412445, 'grow_policy': 'lossguide', 'min_child_weight': 427.70827185267615, 'max_delta_step': 979.8935330346085}. Best is trial 16 with value: 0.8600849991351832.\n",
      "[I 2024-06-21 00:52:29,544] Trial 17 finished with value: 0.8313854364853845 and parameters: {'n_estimators': 2126, 'gamma': 0.4025639462947548, 'max_depth': 4, 'max_leaves': 2231, 'colsample_bytree': 0.8278690712911785, 'colsample_bylevel': 0.9920037167075496, 'colsample_bynode': 0.2595076016624734, 'reg_lambda': 0.3336914320439599, 'reg_alpha': 7.089739479057882, 'grow_policy': 'lossguide', 'min_child_weight': 460.81061429279583, 'max_delta_step': 105.02457306591293}. Best is trial 16 with value: 0.8600849991351832.\n",
      "[I 2024-06-21 00:54:42,351] Trial 18 finished with value: 0.8258135455017173 and parameters: {'n_estimators': 1527, 'gamma': 1.0969237513797163, 'max_depth': 5, 'max_leaves': 1530, 'colsample_bytree': 0.912541880591234, 'colsample_bylevel': 0.9002397177984813, 'colsample_bynode': 0.057077585114649554, 'reg_lambda': 3.40228206799579, 'reg_alpha': 8.809154573803545, 'grow_policy': 'lossguide', 'min_child_weight': 501.70564921724576, 'max_delta_step': 847.062765868425}. Best is trial 16 with value: 0.8600849991351832.\n",
      "[I 2024-06-21 00:58:27,122] Trial 19 finished with value: 0.8315213362654741 and parameters: {'n_estimators': 2686, 'gamma': 0.3064629109116782, 'max_depth': 5, 'max_leaves': 3089, 'colsample_bytree': 0.8223150500059524, 'colsample_bylevel': 0.7875793055074837, 'colsample_bynode': 0.3233583191384835, 'reg_lambda': 4.886795119786855, 'reg_alpha': 6.954243860483845, 'grow_policy': 'lossguide', 'min_child_weight': 666.175048318205, 'max_delta_step': 399.47617717771055}. Best is trial 16 with value: 0.8600849991351832.\n",
      "[I 2024-06-21 01:04:02,203] Trial 20 finished with value: 0.841083738973586 and parameters: {'n_estimators': 3506, 'gamma': 0.019997712448573332, 'max_depth': 4, 'max_leaves': 2300, 'colsample_bytree': 0.919049264631048, 'colsample_bylevel': 0.7037608052630854, 'colsample_bynode': 0.2462412071575951, 'reg_lambda': 1.3838234016263922, 'reg_alpha': 9.115304683742607, 'grow_policy': 'lossguide', 'min_child_weight': 807.7925994790364, 'max_delta_step': 751.9700351504894}. Best is trial 16 with value: 0.8600849991351832.\n",
      "[I 2024-06-21 01:08:08,299] Trial 21 finished with value: 0.8507820414617875 and parameters: {'n_estimators': 2817, 'gamma': 0.02942853955406284, 'max_depth': 5, 'max_leaves': 1318, 'colsample_bytree': 0.9524530372269613, 'colsample_bylevel': 0.8860948204427306, 'colsample_bynode': 0.6061571067631905, 'reg_lambda': 1.5924275677484734, 'reg_alpha': 9.125855725401102, 'grow_policy': 'lossguide', 'min_child_weight': 112.77005461732502, 'max_delta_step': 998.4212853579905}. Best is trial 16 with value: 0.8600849991351832.\n",
      "[I 2024-06-21 01:11:00,742] Trial 22 finished with value: 0.8321390625386079 and parameters: {'n_estimators': 2113, 'gamma': 0.7037424433243451, 'max_depth': 5, 'max_leaves': 1430, 'colsample_bytree': 0.9357005407369332, 'colsample_bylevel': 0.900122297441097, 'colsample_bynode': 0.5944874777769174, 'reg_lambda': 0.1452360352217115, 'reg_alpha': 8.876934074499957, 'grow_policy': 'lossguide', 'min_child_weight': 137.32644434712847, 'max_delta_step': 899.7307140837333}. Best is trial 16 with value: 0.8600849991351832.\n",
      "[I 2024-06-21 01:15:48,204] Trial 23 finished with value: 0.8551678980010378 and parameters: {'n_estimators': 2825, 'gamma': 0.006114505672003008, 'max_depth': 5, 'max_leaves': 2166, 'colsample_bytree': 0.8684683658357991, 'colsample_bylevel': 0.8004522974608627, 'colsample_bynode': 0.6108431051926932, 'reg_lambda': 2.9164573014681214, 'reg_alpha': 6.6225818681539, 'grow_policy': 'lossguide', 'min_child_weight': 239.06321240739015, 'max_delta_step': 915.075170189785}. Best is trial 16 with value: 0.8600849991351832.\n",
      "[I 2024-06-21 01:19:29,434] Trial 24 finished with value: 0.8327938523881298 and parameters: {'n_estimators': 2700, 'gamma': 0.28888850732395593, 'max_depth': 4, 'max_leaves': 2644, 'colsample_bytree': 0.8772058242674443, 'colsample_bylevel': 0.899838618196748, 'colsample_bynode': 0.4237067724260959, 'reg_lambda': 1.2298997005864627, 'reg_alpha': 6.50340318873053, 'grow_policy': 'lossguide', 'min_child_weight': 401.1339029118155, 'max_delta_step': 884.1403120299276}. Best is trial 16 with value: 0.8600849991351832.\n",
      "[I 2024-06-21 01:23:07,015] Trial 25 finished with value: 0.8630747942971511 and parameters: {'n_estimators': 2157, 'gamma': 0.006252158249428007, 'max_depth': 5, 'max_leaves': 2001, 'colsample_bytree': 0.9492903718787332, 'colsample_bylevel': 0.8030169059938119, 'colsample_bynode': 0.3696029439392706, 'reg_lambda': 1.0819082868484293, 'reg_alpha': 8.111300991263777, 'grow_policy': 'lossguide', 'min_child_weight': 264.90623838902513, 'max_delta_step': 742.7952645023429}. Best is trial 25 with value: 0.8630747942971511.\n",
      "[I 2024-06-21 01:25:36,190] Trial 26 finished with value: 0.831978453707593 and parameters: {'n_estimators': 1812, 'gamma': 0.46835341748750126, 'max_depth': 5, 'max_leaves': 2010, 'colsample_bytree': 0.789839586937093, 'colsample_bylevel': 0.8066155386603999, 'colsample_bynode': 0.19145574558250822, 'reg_lambda': 0.028612204163575745, 'reg_alpha': 8.223743480116479, 'grow_policy': 'lossguide', 'min_child_weight': 365.8215192479607, 'max_delta_step': 752.858306925246}. Best is trial 25 with value: 0.8630747942971511.\n",
      "[I 2024-06-21 01:28:52,703] Trial 27 finished with value: 0.8336833782214426 and parameters: {'n_estimators': 2384, 'gamma': 0.26690482712655017, 'max_depth': 4, 'max_leaves': 3568, 'colsample_bytree': 0.9513618220137144, 'colsample_bylevel': 0.7229765143422421, 'colsample_bynode': 0.3999829223197476, 'reg_lambda': 1.1194100014574424, 'reg_alpha': 6.41179542961433, 'grow_policy': 'lossguide', 'min_child_weight': 237.95701270046033, 'max_delta_step': 603.0486865651058}. Best is trial 25 with value: 0.8630747942971511.\n",
      "[I 2024-06-21 01:30:45,014] Trial 28 finished with value: 0.8299399570062513 and parameters: {'n_estimators': 1336, 'gamma': 0.7757793019432873, 'max_depth': 5, 'max_leaves': 2970, 'colsample_bytree': 0.8868137223143397, 'colsample_bylevel': 0.7781711088756736, 'colsample_bynode': 0.3173107108952568, 'reg_lambda': 3.0400644048840904, 'reg_alpha': 7.554009908666374, 'grow_policy': 'lossguide', 'min_child_weight': 433.5038174030376, 'max_delta_step': 829.0371137340587}. Best is trial 25 with value: 0.8630747942971511.\n",
      "[I 2024-06-21 01:34:22,276] Trial 29 finished with value: 0.8427886634874354 and parameters: {'n_estimators': 2018, 'gamma': 0.008879663596668648, 'max_depth': 4, 'max_leaves': 2373, 'colsample_bytree': 0.799884359504028, 'colsample_bylevel': 0.6717485566594794, 'colsample_bynode': 0.2029713903920417, 'reg_lambda': 2.234001985736076, 'reg_alpha': 6.837837336026461, 'grow_policy': 'depthwise', 'min_child_weight': 606.3685448568453, 'max_delta_step': 558.3796539248212}. Best is trial 25 with value: 0.8630747942971511.\n",
      "[I 2024-06-21 01:38:27,641] Trial 30 finished with value: 0.825900027179956 and parameters: {'n_estimators': 3049, 'gamma': 1.2832126232421806, 'max_depth': 5, 'max_leaves': 2029, 'colsample_bytree': 0.7805399829629005, 'colsample_bylevel': 0.8080609237308936, 'colsample_bynode': 0.3808347836529963, 'reg_lambda': 4.35458830124115, 'reg_alpha': 4.83696155014681, 'grow_policy': 'lossguide', 'min_child_weight': 587.9320193214161, 'max_delta_step': 726.9858485439281}. Best is trial 25 with value: 0.8630747942971511.\n",
      "[I 2024-06-21 01:42:45,364] Trial 31 finished with value: 0.8459637765313435 and parameters: {'n_estimators': 2728, 'gamma': 0.014871905618600856, 'max_depth': 5, 'max_leaves': 1468, 'colsample_bytree': 0.9452948619087455, 'colsample_bylevel': 0.8839001026163449, 'colsample_bynode': 0.5684817431628435, 'reg_lambda': 1.6579514922097363, 'reg_alpha': 8.427060175576836, 'grow_policy': 'lossguide', 'min_child_weight': 239.3200508106709, 'max_delta_step': 999.4540140591464}. Best is trial 25 with value: 0.8630747942971511.\n",
      "[I 2024-06-21 01:46:22,826] Trial 32 finished with value: 0.8397123866472289 and parameters: {'n_estimators': 2512, 'gamma': 0.20172296949219093, 'max_depth': 5, 'max_leaves': 2577, 'colsample_bytree': 0.9619663971017408, 'colsample_bylevel': 0.9236297701178233, 'colsample_bynode': 0.47159262740459207, 'reg_lambda': 0.9329444433915581, 'reg_alpha': 9.287952209866841, 'grow_policy': 'lossguide', 'min_child_weight': 99.17160868815235, 'max_delta_step': 906.5003870357888}. Best is trial 25 with value: 0.8630747942971511.\n",
      "[I 2024-06-21 01:50:48,989] Trial 33 finished with value: 0.832707370709891 and parameters: {'n_estimators': 3266, 'gamma': 0.41191642411980023, 'max_depth': 5, 'max_leaves': 1752, 'colsample_bytree': 0.9010114390994735, 'colsample_bylevel': 0.9839668403454312, 'colsample_bynode': 0.7681214955032247, 'reg_lambda': 2.734538331002606, 'reg_alpha': 7.37469475361441, 'grow_policy': 'lossguide', 'min_child_weight': 344.5562164002898, 'max_delta_step': 930.9234384227291}. Best is trial 25 with value: 0.8630747942971511.\n",
      "[I 2024-06-21 01:54:58,561] Trial 34 finished with value: 0.8321267080131453 and parameters: {'n_estimators': 2959, 'gamma': 0.21788703650924418, 'max_depth': 3, 'max_leaves': 1354, 'colsample_bytree': 0.8497071854924444, 'colsample_bylevel': 0.9394828903605423, 'colsample_bynode': 0.5575814119305051, 'reg_lambda': 1.894163515874582, 'reg_alpha': 8.472063566948703, 'grow_policy': 'lossguide', 'min_child_weight': 260.926591940767, 'max_delta_step': 804.2960585674763}. Best is trial 25 with value: 0.8630747942971511.\n",
      "[I 2024-06-21 01:59:52,515] Trial 35 finished with value: 0.8341775592399496 and parameters: {'n_estimators': 3558, 'gamma': 0.5471992789780235, 'max_depth': 5, 'max_leaves': 1848, 'colsample_bytree': 0.9991051593850951, 'colsample_bylevel': 0.8751629139296093, 'colsample_bynode': 0.6304747328543552, 'reg_lambda': 3.7949210591921623, 'reg_alpha': 6.251747321882465, 'grow_policy': 'depthwise', 'min_child_weight': 168.10134940986956, 'max_delta_step': 693.9607910536536}. Best is trial 25 with value: 0.8630747942971511.\n",
      "[I 2024-06-21 02:03:10,838] Trial 36 finished with value: 0.854130117862173 and parameters: {'n_estimators': 2245, 'gamma': 0.021284817898126168, 'max_depth': 5, 'max_leaves': 3350, 'colsample_bytree': 0.9300338398783399, 'colsample_bylevel': 0.8226651694832506, 'colsample_bynode': 0.4647023178961933, 'reg_lambda': 5.731518254963321, 'reg_alpha': 9.55524545191773, 'grow_policy': 'lossguide', 'min_child_weight': 88.69662924490098, 'max_delta_step': 840.3519016440712}. Best is trial 25 with value: 0.8630747942971511.\n",
      "[I 2024-06-21 02:05:44,386] Trial 37 finished with value: 0.8318796175038917 and parameters: {'n_estimators': 1826, 'gamma': 0.3749811314029461, 'max_depth': 4, 'max_leaves': 3465, 'colsample_bytree': 0.9245488786413186, 'colsample_bylevel': 0.8233663306186835, 'colsample_bynode': 0.4427928013862378, 'reg_lambda': 5.562131542105462, 'reg_alpha': 9.487902423435697, 'grow_policy': 'lossguide', 'min_child_weight': 553.3214233828072, 'max_delta_step': 786.8924224663776}. Best is trial 25 with value: 0.8630747942971511.\n",
      "[I 2024-06-21 02:08:41,867] Trial 38 finished with value: 0.841849719552272 and parameters: {'n_estimators': 2147, 'gamma': 0.18409490508085963, 'max_depth': 5, 'max_leaves': 4282, 'colsample_bytree': 0.8895838098779901, 'colsample_bylevel': 0.740773861353581, 'colsample_bynode': 0.28734613990218, 'reg_lambda': 6.301401633664387, 'reg_alpha': 5.886982618670027, 'grow_policy': 'depthwise', 'min_child_weight': 75.99596798713564, 'max_delta_step': 838.5278156577765}. Best is trial 25 with value: 0.8630747942971511.\n",
      "[I 2024-06-21 02:15:17,345] Trial 39 finished with value: 0.8321267080131453 and parameters: {'n_estimators': 4854, 'gamma': 0.6046247840539176, 'max_depth': 5, 'max_leaves': 3242, 'colsample_bytree': 0.6710341283674088, 'colsample_bylevel': 0.7846907250367573, 'colsample_bynode': 0.4777664551472017, 'reg_lambda': 6.934764422754361, 'reg_alpha': 3.642640639176644, 'grow_policy': 'lossguide', 'min_child_weight': 222.18689573493148, 'max_delta_step': 662.0232842165078}. Best is trial 25 with value: 0.8630747942971511.\n",
      "[I 2024-06-21 02:18:29,747] Trial 40 finished with value: 0.837797435200514 and parameters: {'n_estimators': 2304, 'gamma': 0.1467535424136296, 'max_depth': 4, 'max_leaves': 4711, 'colsample_bytree': 0.8437012448649133, 'colsample_bylevel': 0.6202937202995557, 'colsample_bynode': 0.5338527599178813, 'reg_lambda': 5.022262565695167, 'reg_alpha': 0.7944584898664964, 'grow_policy': 'lossguide', 'min_child_weight': 316.5560057691357, 'max_delta_step': 851.6743398466679}. Best is trial 25 with value: 0.8630747942971511.\n",
      "[I 2024-06-21 02:23:07,729] Trial 41 finished with value: 0.8515480220404734 and parameters: {'n_estimators': 2812, 'gamma': 0.04938401195471475, 'max_depth': 5, 'max_leaves': 2154, 'colsample_bytree': 0.9640261347526059, 'colsample_bylevel': 0.9235669433281114, 'colsample_bynode': 0.34867258827958597, 'reg_lambda': 0.6605607167347111, 'reg_alpha': 8.572402025712313, 'grow_policy': 'lossguide', 'min_child_weight': 61.72256838205113, 'max_delta_step': 926.9739465793086}. Best is trial 25 with value: 0.8630747942971511.\n",
      "[I 2024-06-21 02:27:42,904] Trial 42 finished with value: 0.8439994069827778 and parameters: {'n_estimators': 2625, 'gamma': 0.0836873865084197, 'max_depth': 5, 'max_leaves': 2681, 'colsample_bytree': 0.9690008239943267, 'colsample_bylevel': 0.9691938118248447, 'colsample_bynode': 0.3473059170657362, 'reg_lambda': 0.5662410271779962, 'reg_alpha': 8.544258214383257, 'grow_policy': 'lossguide', 'min_child_weight': 76.21735732540404, 'max_delta_step': 926.0023640843759}. Best is trial 25 with value: 0.8630747942971511.\n",
      "[I 2024-06-21 02:30:21,271] Trial 43 finished with value: 0.8364013738232314 and parameters: {'n_estimators': 1640, 'gamma': 0.205889643485343, 'max_depth': 5, 'max_leaves': 2177, 'colsample_bytree': 0.9306455940972328, 'colsample_bylevel': 0.8266342941777891, 'colsample_bynode': 0.38512246080017143, 'reg_lambda': 0.014291397901292927, 'reg_alpha': 7.887759782651974, 'grow_policy': 'lossguide', 'min_child_weight': 274.89112569880405, 'max_delta_step': 785.7859881440277}. Best is trial 25 with value: 0.8630747942971511.\n",
      "[I 2024-06-21 02:35:22,865] Trial 44 finished with value: 0.828655086358133 and parameters: {'n_estimators': 3268, 'gamma': 1.603158121631853, 'max_depth': 5, 'max_leaves': 2436, 'colsample_bytree': 0.899759412999734, 'colsample_bylevel': 0.9256428982721033, 'colsample_bynode': 0.43003686601772106, 'reg_lambda': 5.850814297376342, 'reg_alpha': 9.506162281574573, 'grow_policy': 'lossguide', 'min_child_weight': 196.59236869730432, 'max_delta_step': 946.3567835846941}. Best is trial 25 with value: 0.8630747942971511.\n",
      "[I 2024-06-21 02:39:52,273] Trial 45 finished with value: 0.8488917990659979 and parameters: {'n_estimators': 2556, 'gamma': 0.07019747104231092, 'max_depth': 5, 'max_leaves': 2878, 'colsample_bytree': 0.960098954443908, 'colsample_bylevel': 0.7612126380014632, 'colsample_bynode': 0.2063982371933487, 'reg_lambda': 0.94511748242465, 'reg_alpha': 1.942621260075541, 'grow_policy': 'depthwise', 'min_child_weight': 149.51695508645065, 'max_delta_step': 884.3593494884467}. Best is trial 25 with value: 0.8630747942971511.\n",
      "[I 2024-06-21 02:43:21,278] Trial 46 finished with value: 0.842306836994391 and parameters: {'n_estimators': 2246, 'gamma': 0.1159460190734245, 'max_depth': 3, 'max_leaves': 1768, 'colsample_bytree': 0.9784334237230436, 'colsample_bylevel': 0.8601503908435623, 'colsample_bynode': 0.5036333250685306, 'reg_lambda': 8.071173667389235, 'reg_alpha': 0.07714042315245084, 'grow_policy': 'lossguide', 'min_child_weight': 33.98675434902859, 'max_delta_step': 708.8182656119136}. Best is trial 25 with value: 0.8630747942971511.\n",
      "[I 2024-06-21 02:46:30,554] Trial 47 finished with value: 0.8240097847841664 and parameters: {'n_estimators': 2032, 'gamma': 1.9396593466635794, 'max_depth': 2, 'max_leaves': 3827, 'colsample_bytree': 0.866233387063799, 'colsample_bylevel': 0.9543102372456947, 'colsample_bynode': 0.30110955289481006, 'reg_lambda': 9.89559313855774, 'reg_alpha': 5.255392184388989, 'grow_policy': 'lossguide', 'min_child_weight': 375.48380839315996, 'max_delta_step': 950.2842078968326}. Best is trial 25 with value: 0.8630747942971511.\n",
      "[I 2024-06-21 02:51:25,097] Trial 48 finished with value: 0.835919547330187 and parameters: {'n_estimators': 3051, 'gamma': 0.24423935332156427, 'max_depth': 5, 'max_leaves': 3276, 'colsample_bytree': 0.9342047528814418, 'colsample_bylevel': 0.8412046129039245, 'colsample_bynode': 0.34315662974919514, 'reg_lambda': 4.201593081003588, 'reg_alpha': 7.355282145789145, 'grow_policy': 'lossguide', 'min_child_weight': 459.8756371743942, 'max_delta_step': 767.3267186047707}. Best is trial 25 with value: 0.8630747942971511.\n",
      "[I 2024-06-21 02:54:32,230] Trial 49 finished with value: 0.8366731733834103 and parameters: {'n_estimators': 1937, 'gamma': 0.49706370528031046, 'max_depth': 5, 'max_leaves': 5152, 'colsample_bytree': 0.9067022518678203, 'colsample_bylevel': 0.9195586464971811, 'colsample_bynode': 0.24450358975019298, 'reg_lambda': 0.5549334795938731, 'reg_alpha': 7.825594296443024, 'grow_policy': 'lossguide', 'min_child_weight': 61.13800917879382, 'max_delta_step': 817.0067276294616}. Best is trial 25 with value: 0.8630747942971511.\n",
      "[I 2024-06-21 02:59:07,449] Trial 50 finished with value: 0.8332139062538608 and parameters: {'n_estimators': 2810, 'gamma': 0.34494183237831266, 'max_depth': 4, 'max_leaves': 2151, 'colsample_bytree': 0.9997655823781465, 'colsample_bylevel': 0.8025170973230377, 'colsample_bynode': 0.13188449165457627, 'reg_lambda': 7.165327463493744, 'reg_alpha': 9.648543950664742, 'grow_policy': 'depthwise', 'min_child_weight': 212.59400176602463, 'max_delta_step': 860.3742392318209}. Best is trial 25 with value: 0.8630747942971511.\n",
      "[I 2024-06-21 03:03:23,140] Trial 51 finished with value: 0.8535741642163525 and parameters: {'n_estimators': 2878, 'gamma': 0.00739120194969798, 'max_depth': 5, 'max_leaves': 1243, 'colsample_bytree': 0.9503299344654051, 'colsample_bylevel': 0.8778737646079973, 'colsample_bynode': 0.6502348158513501, 'reg_lambda': 1.9041430492589309, 'reg_alpha': 8.746231029163761, 'grow_policy': 'lossguide', 'min_child_weight': 117.8561824167716, 'max_delta_step': 994.27838063607}. Best is trial 25 with value: 0.8630747942971511.\n",
      "[I 2024-06-21 03:06:33,122] Trial 52 finished with value: 0.8397247411726916 and parameters: {'n_estimators': 2401, 'gamma': 0.10682597591315274, 'max_depth': 5, 'max_leaves': 1687, 'colsample_bytree': 0.9763660916706933, 'colsample_bylevel': 0.8685614640515713, 'colsample_bynode': 0.7583505240604718, 'reg_lambda': 2.59348051123668, 'reg_alpha': 8.634329907044185, 'grow_policy': 'lossguide', 'min_child_weight': 146.8209674795406, 'max_delta_step': 966.25773775948}. Best is trial 25 with value: 0.8630747942971511.\n",
      "[I 2024-06-21 03:11:22,371] Trial 53 finished with value: 0.8560327147834251 and parameters: {'n_estimators': 3682, 'gamma': 0.019737258405408853, 'max_depth': 5, 'max_leaves': 2478, 'colsample_bytree': 0.5175870042881949, 'colsample_bylevel': 0.8330480445758224, 'colsample_bynode': 0.632170854137113, 'reg_lambda': 1.8730917532375664, 'reg_alpha': 8.98352220105721, 'grow_policy': 'lossguide', 'min_child_weight': 45.48091847057684, 'max_delta_step': 904.3979245523591}. Best is trial 25 with value: 0.8630747942971511.\n",
      "[I 2024-06-21 03:16:04,429] Trial 54 finished with value: 0.8297546391243112 and parameters: {'n_estimators': 3746, 'gamma': 0.9623966396176441, 'max_depth': 5, 'max_leaves': 2510, 'colsample_bytree': 0.5446693278243733, 'colsample_bylevel': 0.8361457671193888, 'colsample_bynode': 0.6462672351177725, 'reg_lambda': 1.9190736672746675, 'reg_alpha': 8.166599932607948, 'grow_policy': 'lossguide', 'min_child_weight': 294.0746803982135, 'max_delta_step': 883.6568239464177}. Best is trial 25 with value: 0.8630747942971511.\n",
      "[I 2024-06-21 03:22:39,528] Trial 55 finished with value: 0.851943366855279 and parameters: {'n_estimators': 3978, 'gamma': 0.006909189976441028, 'max_depth': 5, 'max_leaves': 2765, 'colsample_bytree': 0.6463777318271983, 'colsample_bylevel': 0.7959650301892316, 'colsample_bynode': 0.739744680578845, 'reg_lambda': 3.526477625692033, 'reg_alpha': 9.357103814398606, 'grow_policy': 'lossguide', 'min_child_weight': 23.305075208305084, 'max_delta_step': 964.6193984829563}. Best is trial 25 with value: 0.8630747942971511.\n",
      "[I 2024-06-21 03:28:17,550] Trial 56 finished with value: 0.8420844555360628 and parameters: {'n_estimators': 3732, 'gamma': 0.12204631286775133, 'max_depth': 5, 'max_leaves': 5927, 'colsample_bytree': 0.7141809218554089, 'colsample_bylevel': 0.7731303435905659, 'colsample_bynode': 0.722974989510694, 'reg_lambda': 3.129812259187164, 'reg_alpha': 8.918004458423573, 'grow_policy': 'lossguide', 'min_child_weight': 118.36089559091384, 'max_delta_step': 63.18254728256909}. Best is trial 25 with value: 0.8630747942971511.\n",
      "[I 2024-06-21 03:34:25,524] Trial 57 finished with value: 0.8324726347261002 and parameters: {'n_estimators': 4332, 'gamma': 0.1969313440050894, 'max_depth': 5, 'max_leaves': 1925, 'colsample_bytree': 0.5993660038260928, 'colsample_bylevel': 0.7317108277388277, 'colsample_bynode': 0.811469277767513, 'reg_lambda': 1.4506801342690687, 'reg_alpha': 9.831891215509595, 'grow_policy': 'lossguide', 'min_child_weight': 832.7203650731527, 'max_delta_step': 998.2813332733792}. Best is trial 25 with value: 0.8630747942971511.\n",
      "[I 2024-06-21 03:39:09,909] Trial 58 finished with value: 0.8342763954436511 and parameters: {'n_estimators': 3378, 'gamma': 0.2726812865537718, 'max_depth': 4, 'max_leaves': 1211, 'colsample_bytree': 0.5485568479744503, 'colsample_bylevel': 0.818479140266341, 'colsample_bynode': 0.6498624310371868, 'reg_lambda': 9.10926159666915, 'reg_alpha': 9.00755008260235, 'grow_policy': 'lossguide', 'min_child_weight': 186.67130105342153, 'max_delta_step': 463.4252826312812}. Best is trial 25 with value: 0.8630747942971511.\n",
      "[I 2024-06-21 03:43:33,653] Trial 59 finished with value: 0.8468409478391935 and parameters: {'n_estimators': 3104, 'gamma': 0.14406390846649303, 'max_depth': 5, 'max_leaves': 1220, 'colsample_bytree': 0.7577246997203066, 'colsample_bylevel': 0.8484550518628371, 'colsample_bynode': 0.538967043684386, 'reg_lambda': 2.1079921533123906, 'reg_alpha': 6.889690963335067, 'grow_policy': 'lossguide', 'min_child_weight': 5.775524365650313, 'max_delta_step': 905.285988409225}. Best is trial 25 with value: 0.8630747942971511.\n"
     ]
    }
   ],
   "source": [
    "# optuna.delete_study(study_name=\"optimized_xgb_v2\", storage=\"sqlite:///optuna.sqlite3\")\n",
    "\n",
    "study = optuna.create_study(\n",
    "    direction=\"maximize\",\n",
    "    storage=\"sqlite:///optuna.sqlite3\",\n",
    "    study_name=\"optimized_xgb_v2\",\n",
    "    load_if_exists=True\n",
    ")\n",
    "\n",
    "study.optimize(objective, n_trials=50)"
   ]
  },
  {
   "cell_type": "code",
   "execution_count": 76,
   "metadata": {},
   "outputs": [
    {
     "name": "stdout",
     "output_type": "stream",
     "text": [
      "{'n_estimators': 2157, 'gamma': 0.006252158249428007, 'max_depth': 5, 'max_leaves': 2001, 'colsample_bytree': 0.9492903718787332, 'colsample_bylevel': 0.8030169059938119, 'colsample_bynode': 0.3696029439392706, 'reg_lambda': 1.0819082868484293, 'reg_alpha': 8.111300991263777, 'grow_policy': 'lossguide', 'min_child_weight': 264.90623838902513, 'max_delta_step': 742.7952645023429}\n"
     ]
    }
   ],
   "source": [
    "print(study.best_params)\n",
    "best_model = xgboost.XGBClassifier(\n",
    "        enable_categorical=True,\n",
    "        n_jobs=-1,\n",
    "        **study.best_params\n",
    "    )\n",
    "\n",
    "label_enc = LabelEncoder()\n",
    "x = train_data[more_important_features.index]\n",
    "y = label_enc.fit_transform(train_data[\"Target\"])\n",
    "\n",
    "best_model.fit(x, y)\n",
    "test_preds = best_model.predict(test_data[more_important_features.index])\n",
    "test_preds = label_enc.inverse_transform(test_preds)\n",
    "\n",
    "out_pd = pd.DataFrame(index=test_data.index)\n",
    "out_pd[\"Target\"] = list(test_preds)\n",
    "out_pd.to_csv(\"optimized_xgb_v2.csv\", columns=[\"Target\"], index=True)"
   ]
  }
 ],
 "metadata": {
  "kernelspec": {
   "display_name": "dgl_torchgeo",
   "language": "python",
   "name": "python3"
  },
  "language_info": {
   "codemirror_mode": {
    "name": "ipython",
    "version": 3
   },
   "file_extension": ".py",
   "mimetype": "text/x-python",
   "name": "python",
   "nbconvert_exporter": "python",
   "pygments_lexer": "ipython3",
   "version": "3.11.1"
  }
 },
 "nbformat": 4,
 "nbformat_minor": 2
}
