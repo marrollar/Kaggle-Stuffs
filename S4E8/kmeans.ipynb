{
 "cells": [
  {
   "cell_type": "code",
   "execution_count": 2,
   "metadata": {},
   "outputs": [],
   "source": [
    "import pandas as pd\n",
    "import seaborn as sns\n",
    "\n",
    "from sklearn.neighbors import KNeighborsClassifier\n",
    "from sklearn.cluster import KMeans\n",
    "import sklearn.linear_model as sklm\n",
    "import sklearn.model_selection as skms\n",
    "import sklearn.metrics as metrics\n",
    "import sklearn.pipeline as skpl\n",
    "import sklearn.preprocessing as skpp\n",
    "import sklearn.compose as skcmp\n",
    "import sklearn.impute as skim\n",
    "import category_encoders as ce\n",
    "\n",
    "from helpers.preprocessing import *"
   ]
  },
  {
   "cell_type": "code",
   "execution_count": 3,
   "metadata": {},
   "outputs": [],
   "source": [
    "train_df = pd.read_csv(\"data/train.csv\", index_col=\"id\")\n",
    "test_df = pd.read_csv(\"data/test.csv\", index_col=\"id\")\n",
    "orig_df = pd.read_csv(\"data/orig.csv\", index_col=\"id\")\n",
    "\n",
    "CONT_FEATS = [\n",
    "    \"cap-diameter\",\n",
    "    \"stem-height\",\n",
    "    \"stem-width\"\n",
    "]\n",
    "CAT_FEATS = [c for c in train_df.columns if c not in CONT_FEATS]\n",
    "RESPONSE_COL = \"class\""
   ]
  },
  {
   "cell_type": "code",
   "execution_count": 4,
   "metadata": {},
   "outputs": [
    {
     "name": "stderr",
     "output_type": "stream",
     "text": [
      "d:\\Programming\\Workspaces\\Python3 Workspace\\Misc Data Analysis\\Kaggle Playground Competition\\S4E8\\helpers\\preprocessing.py:54: UserWarning: 'class' not found in dataframe. Probably the response column in the test dataframe.\n",
      "  warnings.warn(\n"
     ]
    }
   ],
   "source": [
    "fix_categories(orig_df, train_df, test_df, CAT_FEATS, nan_as_cat=True)\n",
    "fix_that_one_mushroom_in_test(test_df)\n",
    "\n",
    "\n",
    "pipeline = skpl.make_pipeline(\n",
    "    skcmp.ColumnTransformer([\n",
    "        (\n",
    "            \"float\", \n",
    "            skpl.make_pipeline\n",
    "            (\n",
    "                skim.SimpleImputer(add_indicator=True, strategy=\"median\"),\n",
    "            ),\n",
    "            CONT_FEATS\n",
    "        ),\n",
    "        (\n",
    "            \"cat\", \n",
    "            skpp.OneHotEncoder(\n",
    "                sparse_output=False,\n",
    "                dtype=np.int8,\n",
    "                handle_unknown='infrequent_if_exist'),\n",
    "            [c for c in CAT_FEATS if c != RESPONSE_COL]\n",
    "        ),\n",
    "    ]).set_output(transform=\"pandas\"),\n",
    "    skpp.StandardScaler().set_output(transform=\"pandas\")\n",
    ")"
   ]
  },
  {
   "cell_type": "code",
   "execution_count": 5,
   "metadata": {},
   "outputs": [],
   "source": [
    "x_tr = pipeline.fit_transform(train_df)\n",
    "y_tr = train_df[RESPONSE_COL]\n",
    "y_tr = y_tr.replace({\"e\":0, \"p\":1})\n",
    "\n",
    "x_test = pipeline.transform(test_df)"
   ]
  },
  {
   "cell_type": "markdown",
   "metadata": {},
   "source": [
    "### KMeans"
   ]
  },
  {
   "cell_type": "code",
   "execution_count": 6,
   "metadata": {},
   "outputs": [
    {
     "name": "stderr",
     "output_type": "stream",
     "text": [
      "d:\\Programming\\Languages\\Python Venvs\\dgl_torchgeo\\Lib\\site-packages\\sklearn\\cluster\\_kmeans.py:1416: FutureWarning: The default value of `n_init` will change from 10 to 'auto' in 1.4. Set the value of `n_init` explicitly to suppress the warning\n",
      "  super()._check_params_vs_input(X, default_n_init=10)\n"
     ]
    }
   ],
   "source": [
    "kmeans = KMeans(n_clusters=2)\n",
    "train_preds = kmeans.fit_predict(x_tr, y_tr)"
   ]
  },
  {
   "cell_type": "code",
   "execution_count": 9,
   "metadata": {},
   "outputs": [
    {
     "data": {
      "text/plain": [
       "0.01393712596412315"
      ]
     },
     "execution_count": 9,
     "metadata": {},
     "output_type": "execute_result"
    }
   ],
   "source": [
    "metrics.matthews_corrcoef(y_tr, train_preds)"
   ]
  },
  {
   "cell_type": "code",
   "execution_count": 8,
   "metadata": {},
   "outputs": [],
   "source": [
    "test_preds = kmeans.predict(x_test)\n",
    "out_df = pd.DataFrame({\"class\":test_preds}, index=test_df.index)\n",
    "out_df[\"class\"] = out_df[\"class\"].replace({0:\"e\", 1:\"p\"})\n",
    "out_df.to_csv(\"predictions/v2/kmeans.csv\")"
   ]
  }
 ],
 "metadata": {
  "kernelspec": {
   "display_name": "dgl_torchgeo",
   "language": "python",
   "name": "python3"
  },
  "language_info": {
   "codemirror_mode": {
    "name": "ipython",
    "version": 3
   },
   "file_extension": ".py",
   "mimetype": "text/x-python",
   "name": "python",
   "nbconvert_exporter": "python",
   "pygments_lexer": "ipython3",
   "version": "3.11.1"
  }
 },
 "nbformat": 4,
 "nbformat_minor": 2
}
