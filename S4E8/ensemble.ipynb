{
 "cells": [
  {
   "cell_type": "code",
   "execution_count": 60,
   "metadata": {},
   "outputs": [],
   "source": [
    "import pandas as pd\n",
    "import numpy as np\n",
    "\n",
    "import sklearn.linear_model as sklm\n",
    "import sklearn.model_selection as skms\n",
    "import sklearn.metrics as metrics\n",
    "import sklearn.pipeline as skpl\n",
    "import sklearn.preprocessing as skpp\n",
    "import sklearn.compose as skcmp\n",
    "import scipy\n",
    "import optuna\n",
    "\n",
    "import os\n",
    "import gc"
   ]
  },
  {
   "cell_type": "code",
   "execution_count": 117,
   "metadata": {},
   "outputs": [
    {
     "data": {
      "text/plain": [
       "48"
      ]
     },
     "execution_count": 117,
     "metadata": {},
     "output_type": "execute_result"
    }
   ],
   "source": [
    "def bulk_read(paths):\n",
    "    ret_df = pd.DataFrame()\n",
    "\n",
    "    for p in paths:\n",
    "        df = pd.read_csv(p, index_col=\"id\")\n",
    "        df[\"class\"] = df[\"class\"].rename({\"e\":0, \"p\":1})\n",
    "        df[\"class\"] = df[\"class\"].astype(\"category\")\n",
    "        df = df.rename(columns={\n",
    "            \"class\":f\"{p}_pred\",\n",
    "            \"pred_proba_0\":f\"{p}_p0\",\n",
    "            \"pred_proba_1\":f\"{p}_p1\"\n",
    "        })\n",
    "        \n",
    "        ret_df = pd.concat([ret_df, df], axis=1)\n",
    "\n",
    "    return ret_df\n",
    "\n",
    "train_paths = [os.path.join(\"ensemble_data\", p) for p in os.listdir(\"ensemble_data\") if p.endswith(\".csv\")]\n",
    "test_paths = [os.path.join(\"test_preds\", p) for p in os.listdir(\"test_preds\") if p.endswith(\".csv\")]\n",
    "pred_df = bulk_read(train_paths)\n",
    "true_df = pd.read_csv(\"data/train.csv\")[\"class\"]\n",
    "test_df = bulk_read(test_paths)\n",
    "gc.collect()"
   ]
  },
  {
   "cell_type": "code",
   "execution_count": 50,
   "metadata": {},
   "outputs": [],
   "source": [
    "true_df = true_df.astype(\"category\")\n",
    "true_df = true_df.cat.rename_categories({\"e\":0, \"p\":1})\n",
    "\n",
    "for c in pred_df.columns:\n",
    "    if c.endswith(\"pred\"):\n",
    "        pred_df[c] = pred_df[c].astype(\"category\")\n",
    "        pred_df[c] = pred_df[c].cat.rename_categories({\"e\":0, \"p\":1})"
   ]
  },
  {
   "cell_type": "code",
   "execution_count": 111,
   "metadata": {},
   "outputs": [],
   "source": [
    "def objective(trial):\n",
    "    skm = skms.StratifiedKFold(n_splits=10, shuffle=True, random_state=0)\n",
    "    model = sklm.LogisticRegression(\n",
    "        n_jobs=-1, \n",
    "        random_state=0,\n",
    "        penalty=\"elasticnet\",\n",
    "        solver=\"saga\",\n",
    "        max_iter=500,\n",
    "\n",
    "        C=trial.suggest_float(\"C\", 1, 30),\n",
    "        l1_ratio=trial.suggest_float(\"l1_ratio\", 0, 1)\n",
    "    )\n",
    "\n",
    "    model = skpl.make_pipeline(skpp.FunctionTransformer(scipy.special.logit), model)\n",
    "    pred_probas = pred_df[[c for c in pred_df.columns if not c.endswith(\"pred\")]].clip(1e-15, 1-1e-15)\n",
    "\n",
    "    score = skms.cross_val_score(\n",
    "        model,\n",
    "        pred_probas,\n",
    "        true_df,\n",
    "        cv=skm,\n",
    "        scoring=\"matthews_corrcoef\",\n",
    "        n_jobs=-1\n",
    "    )\n",
    "\n",
    "    return np.mean(score)"
   ]
  },
  {
   "cell_type": "code",
   "execution_count": null,
   "metadata": {},
   "outputs": [],
   "source": [
    "# optuna.delete_study(study_name=\"logreg_ensemble\", storage=\"sqlite:///optuna.sqlite3\")\n",
    "\n",
    "study = optuna.create_study(\n",
    "    direction=\"maximize\",\n",
    "    storage=\"sqlite:///optuna.sqlite3\",\n",
    "    study_name=\"logreg_ensemble\",\n",
    "    load_if_exists=True\n",
    ")\n",
    "study.optimize(objective, n_trials=100)\n",
    "gc.collect()"
   ]
  },
  {
   "cell_type": "code",
   "execution_count": 119,
   "metadata": {},
   "outputs": [],
   "source": [
    "for c in test_df.columns:\n",
    "    if c.endswith(\"pred\"):\n",
    "        test_df[c] = test_df[c].astype(\"category\")\n",
    "        test_df[c] = test_df[c].cat.rename_categories({\"e\":0, \"p\":1})"
   ]
  },
  {
   "cell_type": "code",
   "execution_count": 131,
   "metadata": {},
   "outputs": [],
   "source": [
    "best_model = sklm.LogisticRegression(\n",
    "        n_jobs=-1, \n",
    "        random_state=0,\n",
    "        penalty=\"elasticnet\",\n",
    "        solver=\"saga\",\n",
    "        max_iter=500,\n",
    "\n",
    "        **study.best_params\n",
    "    )\n",
    "\n",
    "tmp1 = pred_df[[c for c in pred_df.columns if not c.endswith(\"pred\")]].clip(1e-15, 1-1e-15)\n",
    "tmp2 = test_df[[c for c in test_df.columns if not c.endswith(\"pred\")]].clip(1e-15, 1-1e-15)\n",
    "\n",
    "tmp1 = tmp1.rename(columns={src:dst for src, dst in zip(tmp1.columns, np.arange(len(tmp1.columns)))})\n",
    "tmp2 = tmp2.rename(columns={src:dst for src, dst in zip(tmp2.columns, np.arange(len(tmp2.columns)))})\n",
    "\n",
    "best_model = skpl.make_pipeline(skpp.FunctionTransformer(scipy.special.logit), best_model)\n",
    "best_model.fit(tmp1, true_df)\n",
    "test_preds = best_model.predict(tmp2)\n",
    "out_df = pd.DataFrame({\"class\":test_preds}, index=tmp2.index)\n",
    "out_df.to_csv(\"ensemble.csv\")"
   ]
  }
 ],
 "metadata": {
  "kernelspec": {
   "display_name": "dgl_torchgeo",
   "language": "python",
   "name": "python3"
  },
  "language_info": {
   "codemirror_mode": {
    "name": "ipython",
    "version": 3
   },
   "file_extension": ".py",
   "mimetype": "text/x-python",
   "name": "python",
   "nbconvert_exporter": "python",
   "pygments_lexer": "ipython3",
   "version": "3.11.1"
  }
 },
 "nbformat": 4,
 "nbformat_minor": 2
}
