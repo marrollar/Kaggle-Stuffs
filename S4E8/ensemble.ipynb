{
 "cells": [
  {
   "cell_type": "code",
   "execution_count": 1,
   "metadata": {},
   "outputs": [],
   "source": [
    "import pandas as pd\n",
    "import numpy as np\n",
    "\n",
    "import sklearn.linear_model as sklm\n",
    "import sklearn.model_selection as skms\n",
    "import sklearn.metrics as metrics\n",
    "import sklearn.pipeline as skpl\n",
    "import sklearn.preprocessing as skpp\n",
    "import sklearn.compose as skcmp\n",
    "import scipy\n",
    "import optuna\n",
    "\n",
    "import os\n",
    "import gc"
   ]
  },
  {
   "cell_type": "code",
   "execution_count": 2,
   "metadata": {},
   "outputs": [
    {
     "data": {
      "text/plain": [
       "0"
      ]
     },
     "execution_count": 2,
     "metadata": {},
     "output_type": "execute_result"
    }
   ],
   "source": [
    "def bulk_read(paths):\n",
    "    ret_df = pd.DataFrame()\n",
    "\n",
    "    for p in paths:\n",
    "        df = pd.read_csv(p, index_col=\"id\")\n",
    "        df[\"class\"] = df[\"class\"].rename({\"e\":0, \"p\":1})\n",
    "        df[\"class\"] = df[\"class\"].astype(\"category\")\n",
    "        df = df.rename(columns={\n",
    "            \"class\":f\"{p}_class\",\n",
    "            \"pp_0\":f\"{p}_p0\",\n",
    "            \"pp_1\":f\"{p}_p1\"\n",
    "        })\n",
    "        \n",
    "        ret_df = pd.concat([ret_df, df], axis=1)\n",
    "\n",
    "    return ret_df\n",
    "\n",
    "train_paths = [os.path.join(\"predictions/v2\", p) for p in os.listdir(\"predictions/v2\") if p.endswith(\".csv\") and \"train\" in p]\n",
    "test_paths = [os.path.join(\"predictions/v2\", p) for p in os.listdir(\"predictions/v2\") if p.endswith(\".csv\") and \"test\" in p]\n",
    "pred_df = bulk_read(train_paths)\n",
    "true_df = pd.read_csv(\"data/train.csv\")[\"class\"]\n",
    "test_df = bulk_read(test_paths)\n",
    "gc.collect()"
   ]
  },
  {
   "cell_type": "code",
   "execution_count": 12,
   "metadata": {},
   "outputs": [],
   "source": [
    "true_df = true_df.replace({\"e\":0, \"p\":1}).astype(\"uint8\")\n",
    "# true_df = true_df.astype(\"category\")\n",
    "# true_df = true_df.cat.rename_categories({\"e\":0, \"p\":1})\n",
    "\n",
    "# for c in pred_df.columns:\n",
    "#     if \"class\" in c:\n",
    "#         pred_df[c] = pred_df[c].astype(\"category\")\n",
    "#         pred_df[c] = pred_df[c].cat.rename_categories({\"e\":0, \"p\":1})\n",
    "\n",
    "for df in [pred_df, test_df]:\n",
    "    for c in df.columns:\n",
    "        if \"class\" in c:\n",
    "            df[c] = df[c].astype(\"uint8\")\n",
    "        else:\n",
    "            df[c] = df[c].astype(\"float16\")"
   ]
  },
  {
   "cell_type": "code",
   "execution_count": 5,
   "metadata": {},
   "outputs": [],
   "source": [
    "def objective(trial):\n",
    "    skm = skms.StratifiedKFold(n_splits=10, shuffle=True, random_state=0)\n",
    "    model = sklm.LogisticRegression(\n",
    "        n_jobs=-1, \n",
    "        random_state=0,\n",
    "        penalty=\"elasticnet\",\n",
    "        solver=\"saga\",\n",
    "        max_iter=500,\n",
    "\n",
    "        C=trial.suggest_float(\"C\", 1, 30),\n",
    "        l1_ratio=trial.suggest_float(\"l1_ratio\", 0, 1)\n",
    "    )\n",
    "\n",
    "    model = skpl.make_pipeline(model)\n",
    "    pred_probas = pred_df[[c for c in pred_df.columns if not c.endswith(\"class\")]].clip(1e-15, 1-1e-15)\n",
    "\n",
    "    score = skms.cross_val_score(\n",
    "        model,\n",
    "        pred_probas,\n",
    "        true_df,\n",
    "        cv=skm,\n",
    "        scoring=\"matthews_corrcoef\",\n",
    "        n_jobs=-1,\n",
    "        error_score=\"raise\"\n",
    "    )\n",
    "\n",
    "    return np.mean(score)"
   ]
  },
  {
   "cell_type": "code",
   "execution_count": 6,
   "metadata": {},
   "outputs": [
    {
     "name": "stderr",
     "output_type": "stream",
     "text": [
      "[I 2024-08-20 14:49:22,336] Using an existing study with name 'logreg_ensemble_v2' instead of creating a new one.\n",
      "[I 2024-08-20 14:53:58,176] Trial 7 finished with value: 0.9860574430567277 and parameters: {'C': 10.265391496082636, 'l1_ratio': 0.622418027978618}. Best is trial 7 with value: 0.9860574430567277.\n",
      "[I 2024-08-20 15:10:35,033] Trial 8 finished with value: 0.9860574443060977 and parameters: {'C': 27.938093096850427, 'l1_ratio': 0.9344840454640506}. Best is trial 8 with value: 0.9860574443060977.\n",
      "[I 2024-08-20 15:11:36,110] Trial 9 finished with value: 0.9860580957830323 and parameters: {'C': 2.1321050667477075, 'l1_ratio': 0.534577852654605}. Best is trial 9 with value: 0.9860580957830323.\n",
      "[I 2024-08-20 15:16:20,561] Trial 10 finished with value: 0.9860574430567277 and parameters: {'C': 24.93669055034484, 'l1_ratio': 0.0653780412178222}. Best is trial 9 with value: 0.9860580957830323.\n",
      "[I 2024-08-20 15:16:57,623] Trial 11 finished with value: 0.9860593873056134 and parameters: {'C': 1.2924012409680847, 'l1_ratio': 0.40816494075057796}. Best is trial 11 with value: 0.9860593873056134.\n",
      "[I 2024-08-20 15:31:54,746] Trial 12 finished with value: 0.9860580933635532 and parameters: {'C': 26.926927859238557, 'l1_ratio': 0.7108526967572997}. Best is trial 11 with value: 0.9860593873056134.\n",
      "[I 2024-08-20 15:33:28,276] Trial 13 finished with value: 0.9860587340274158 and parameters: {'C': 5.9884658807443225, 'l1_ratio': 0.26885857685674186}. Best is trial 11 with value: 0.9860593873056134.\n",
      "[I 2024-08-20 15:34:55,135] Trial 14 finished with value: 0.9860587339350726 and parameters: {'C': 4.412387963357332, 'l1_ratio': 0.4082744904932831}. Best is trial 11 with value: 0.9860593873056134.\n",
      "[I 2024-08-20 15:36:55,543] Trial 15 finished with value: 0.9860587340274158 and parameters: {'C': 6.712466820773282, 'l1_ratio': 0.33164760652822356}. Best is trial 11 with value: 0.9860593873056134.\n",
      "[I 2024-08-20 15:44:54,092] Trial 16 finished with value: 0.9860580930493767 and parameters: {'C': 21.74343978895072, 'l1_ratio': 0.5227828203450673}. Best is trial 11 with value: 0.9860593873056134.\n",
      "[I 2024-08-20 15:48:05,148] Trial 17 finished with value: 0.9860587374344346 and parameters: {'C': 15.998215182809622, 'l1_ratio': 0.06823547328334656}. Best is trial 11 with value: 0.9860593873056134.\n",
      "[I 2024-08-20 15:51:07,565] Trial 18 finished with value: 0.9860587374344346 and parameters: {'C': 16.236075356055736, 'l1_ratio': 0.02096765269481398}. Best is trial 11 with value: 0.9860593873056134.\n",
      "[I 2024-08-20 15:54:12,596] Trial 19 finished with value: 0.9860587374344346 and parameters: {'C': 14.009148499134994, 'l1_ratio': 0.16149226119023985}. Best is trial 11 with value: 0.9860593873056134.\n",
      "[I 2024-08-20 16:08:42,839] Trial 20 finished with value: 0.9860580933635532 and parameters: {'C': 17.32017347549088, 'l1_ratio': 0.7992729804252757}. Best is trial 11 with value: 0.9860593873056134.\n",
      "[I 2024-08-20 16:11:18,675] Trial 21 finished with value: 0.9860574390937232 and parameters: {'C': 11.0798241144588, 'l1_ratio': 0.20305418022481747}. Best is trial 11 with value: 0.9860593873056134.\n",
      "[I 2024-08-20 16:17:22,288] Trial 22 finished with value: 0.9860580930493767 and parameters: {'C': 20.431145437357152, 'l1_ratio': 0.4034567635884148}. Best is trial 11 with value: 0.9860593873056134.\n",
      "[I 2024-08-20 16:19:42,552] Trial 23 finished with value: 0.9860574390937232 and parameters: {'C': 10.797121225966825, 'l1_ratio': 0.1428154494920126}. Best is trial 11 with value: 0.9860593873056134.\n",
      "[I 2024-08-20 16:25:02,345] Trial 24 finished with value: 0.9860587420176309 and parameters: {'C': 20.835473749920197, 'l1_ratio': 0.318422650225084}. Best is trial 11 with value: 0.9860593873056134.\n",
      "[I 2024-08-20 16:31:25,278] Trial 25 finished with value: 0.9860580930493767 and parameters: {'C': 21.160957012437827, 'l1_ratio': 0.42357551866546245}. Best is trial 11 with value: 0.9860593873056134.\n",
      "[I 2024-08-20 16:37:26,270] Trial 26 finished with value: 0.9860580930493767 and parameters: {'C': 24.95608417819666, 'l1_ratio': 0.28480284127353905}. Best is trial 11 with value: 0.9860593873056134.\n",
      "[I 2024-08-20 16:38:29,787] Trial 27 finished with value: 0.9860580957830323 and parameters: {'C': 1.7798310490933762, 'l1_ratio': 0.6232731352477534}. Best is trial 11 with value: 0.9860593873056134.\n",
      "[I 2024-08-20 16:42:10,193] Trial 28 finished with value: 0.9860574430828816 and parameters: {'C': 18.085403146044005, 'l1_ratio': 0.10017355336119582}. Best is trial 11 with value: 0.9860593873056134.\n",
      "[I 2024-08-20 16:45:21,918] Trial 29 finished with value: 0.9860587374344346 and parameters: {'C': 13.61644789143705, 'l1_ratio': 0.2279425314893151}. Best is trial 11 with value: 0.9860593873056134.\n",
      "[I 2024-08-20 16:50:37,907] Trial 30 finished with value: 0.986058092398515 and parameters: {'C': 19.398911361572267, 'l1_ratio': 0.35194640147605954}. Best is trial 11 with value: 0.9860593873056134.\n",
      "[I 2024-08-20 16:55:55,467] Trial 31 finished with value: 0.9860587420176309 and parameters: {'C': 29.91311070184436, 'l1_ratio': 0.012970547795497778}. Best is trial 11 with value: 0.9860593873056134.\n",
      "[I 2024-08-20 17:04:43,913] Trial 32 finished with value: 0.9860580933635532 and parameters: {'C': 29.183865168082907, 'l1_ratio': 0.4657766352181966}. Best is trial 11 with value: 0.9860593873056134.\n",
      "[I 2024-08-20 17:13:27,781] Trial 33 finished with value: 0.9860580933635532 and parameters: {'C': 23.268292844224227, 'l1_ratio': 0.5710154395690874}. Best is trial 11 with value: 0.9860593873056134.\n",
      "[I 2024-08-20 17:17:48,798] Trial 34 finished with value: 0.9860574430567277 and parameters: {'C': 25.59388747275547, 'l1_ratio': 0.004249433815854187}. Best is trial 11 with value: 0.9860593873056134.\n",
      "[I 2024-08-20 17:25:08,117] Trial 35 finished with value: 0.9860574437410815 and parameters: {'C': 29.970787264536547, 'l1_ratio': 0.327974063445074}. Best is trial 11 with value: 0.9860593873056134.\n",
      "[I 2024-08-20 17:29:33,314] Trial 36 finished with value: 0.9860574430828816 and parameters: {'C': 8.828398958433555, 'l1_ratio': 0.658808643857532}. Best is trial 11 with value: 0.9860593873056134.\n"
     ]
    },
    {
     "data": {
      "text/plain": [
       "116"
      ]
     },
     "execution_count": 6,
     "metadata": {},
     "output_type": "execute_result"
    }
   ],
   "source": [
    "# optuna.delete_study(study_name=\"logreg_ensemble\", storage=\"sqlite:///optuna.sqlite3\")\n",
    "\n",
    "study = optuna.create_study(\n",
    "    direction=\"maximize\",\n",
    "    storage=\"sqlite:///optuna/optuna.sqlite3\",\n",
    "    study_name=\"logreg_ensemble_v2\",\n",
    "    load_if_exists=True\n",
    ")\n",
    "study.optimize(objective, n_trials=30)\n",
    "gc.collect()"
   ]
  },
  {
   "cell_type": "code",
   "execution_count": 14,
   "metadata": {},
   "outputs": [],
   "source": [
    "best_model = sklm.LogisticRegression(\n",
    "        n_jobs=-1, \n",
    "        random_state=0,\n",
    "        penalty=\"elasticnet\",\n",
    "        solver=\"saga\",\n",
    "        max_iter=500,\n",
    "\n",
    "        **study.best_params\n",
    "    )\n",
    "\n",
    "tmp1 = pred_df[[c for c in pred_df.columns if not c.endswith(\"class\")]].clip(1e-15, 1-1e-15)\n",
    "tmp2 = test_df[[c for c in test_df.columns if not c.endswith(\"class\")]].clip(1e-15, 1-1e-15)\n",
    "\n",
    "tmp1 = tmp1.rename(columns={src:dst for src, dst in zip(tmp1.columns, np.arange(len(tmp1.columns)))})\n",
    "tmp2 = tmp2.rename(columns={src:dst for src, dst in zip(tmp2.columns, np.arange(len(tmp2.columns)))})\n",
    "\n",
    "best_model = skpl.make_pipeline(best_model)\n",
    "best_model.fit(tmp1, true_df)\n",
    "test_preds = best_model.predict(tmp2)\n",
    "out_df = pd.DataFrame({\"class\":test_preds}, index=tmp2.index)\n",
    "out_df[\"class\"] = out_df[\"class\"].replace({0:\"e\", 1:\"p\"})\n",
    "out_df.to_csv(\"ensemble_v2.csv\")"
   ]
  }
 ],
 "metadata": {
  "kernelspec": {
   "display_name": "dgl_torchgeo",
   "language": "python",
   "name": "python3"
  },
  "language_info": {
   "codemirror_mode": {
    "name": "ipython",
    "version": 3
   },
   "file_extension": ".py",
   "mimetype": "text/x-python",
   "name": "python",
   "nbconvert_exporter": "python",
   "pygments_lexer": "ipython3",
   "version": "3.11.1"
  }
 },
 "nbformat": 4,
 "nbformat_minor": 2
}
