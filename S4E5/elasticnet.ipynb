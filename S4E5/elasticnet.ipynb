{
 "cells": [
  {
   "cell_type": "code",
   "execution_count": 28,
   "metadata": {},
   "outputs": [
    {
     "data": {
      "text/plain": [
       "2200"
      ]
     },
     "execution_count": 28,
     "metadata": {},
     "output_type": "execute_result"
    }
   ],
   "source": [
    "import pandas as pd\n",
    "import seaborn as sns\n",
    "import matplotlib.pyplot as plt\n",
    "import numpy as np\n",
    "import plotly.express as px\n",
    "from plotly.subplots import make_subplots\n",
    "import plotly.graph_objects as go\n",
    "\n",
    "from sklearn.metrics import silhouette_score\n",
    "from sklearn.preprocessing import StandardScaler, MinMaxScaler\n",
    "from sklearn.decomposition import PCA\n",
    "from sklearn.metrics.pairwise import cosine_similarity\n",
    "from sklearn import metrics\n",
    "from sklearn.cluster import KMeans\n",
    "from sklearn.linear_model import ElasticNetCV\n",
    "from sklearn.model_selection import train_test_split\n",
    "import pickle\n",
    "import csv\n",
    "from tqdm import tqdm\n",
    "\n",
    "import gc\n",
    "\n",
    "gc.collect()\n"
   ]
  },
  {
   "cell_type": "code",
   "execution_count": 29,
   "metadata": {},
   "outputs": [],
   "source": [
    "test_pd = pd.read_csv(\"data/test.csv\")\n",
    "train_pd = pd.read_csv(\"data/train.csv\")\n",
    "\n",
    "train_pd = train_pd.drop(columns=[\"id\"])\n",
    "\n",
    "train_factors = train_pd.drop(columns=[\"FloodProbability\"])\n",
    "train_flood_prob = train_pd[\"FloodProbability\"]"
   ]
  },
  {
   "cell_type": "code",
   "execution_count": 30,
   "metadata": {},
   "outputs": [
    {
     "data": {
      "application/vnd.plotly.v1+json": {
       "config": {
        "plotlyServerURL": "https://plot.ly"
       },
       "data": [
        {
         "coloraxis": "coloraxis",
         "hovertemplate": "x: %{x}<br>y: %{y}<br>color: %{z}<extra></extra>",
         "name": "0",
         "texttemplate": "%{z}",
         "type": "heatmap",
         "x": [
          "MonsoonIntensity",
          "TopographyDrainage",
          "RiverManagement",
          "Deforestation",
          "Urbanization",
          "ClimateChange",
          "DamsQuality",
          "Siltation",
          "AgriculturalPractices",
          "Encroachments",
          "IneffectiveDisasterPreparedness",
          "DrainageSystems",
          "CoastalVulnerability",
          "Landslides",
          "Watersheds",
          "DeterioratingInfrastructure",
          "PopulationScore",
          "WetlandLoss",
          "InadequatePlanning",
          "PoliticalFactors"
         ],
         "xaxis": "x",
         "y": [
          "MonsoonIntensity",
          "TopographyDrainage",
          "RiverManagement",
          "Deforestation",
          "Urbanization",
          "ClimateChange",
          "DamsQuality",
          "Siltation",
          "AgriculturalPractices",
          "Encroachments",
          "IneffectiveDisasterPreparedness",
          "DrainageSystems",
          "CoastalVulnerability",
          "Landslides",
          "Watersheds",
          "DeterioratingInfrastructure",
          "PopulationScore",
          "WetlandLoss",
          "InadequatePlanning",
          "PoliticalFactors"
         ],
         "yaxis": "y",
         "z": [
          [
           null,
           null,
           null,
           null,
           null,
           null,
           null,
           null,
           null,
           null,
           null,
           null,
           null,
           null,
           null,
           null,
           null,
           null,
           null,
           null
          ],
          [
           -0.007361747871563468,
           null,
           null,
           null,
           null,
           null,
           null,
           null,
           null,
           null,
           null,
           null,
           null,
           null,
           null,
           null,
           null,
           null,
           null,
           null
          ],
          [
           -0.008070231814905621,
           -0.009923634292603997,
           null,
           null,
           null,
           null,
           null,
           null,
           null,
           null,
           null,
           null,
           null,
           null,
           null,
           null,
           null,
           null,
           null,
           null
          ],
          [
           -0.007251034618245297,
           -0.008547662363194515,
           -0.008574003000002352,
           null,
           null,
           null,
           null,
           null,
           null,
           null,
           null,
           null,
           null,
           null,
           null,
           null,
           null,
           null,
           null,
           null
          ],
          [
           -0.009308878756671647,
           -0.010531700957590975,
           -0.012292194440551397,
           -0.012248150079612932,
           null,
           null,
           null,
           null,
           null,
           null,
           null,
           null,
           null,
           null,
           null,
           null,
           null,
           null,
           null,
           null
          ],
          [
           -0.00803116868214433,
           -0.009618846448859115,
           -0.009236834011639208,
           -0.008265704929729162,
           -0.011198630971352435,
           null,
           null,
           null,
           null,
           null,
           null,
           null,
           null,
           null,
           null,
           null,
           null,
           null,
           null,
           null
          ],
          [
           -0.007787163439786881,
           -0.007607225419452602,
           -0.008711119973672785,
           -0.009355562842271717,
           -0.011127850757855079,
           -0.008427143908605411,
           null,
           null,
           null,
           null,
           null,
           null,
           null,
           null,
           null,
           null,
           null,
           null,
           null,
           null
          ],
          [
           -0.0078356035848933,
           -0.009824363357993195,
           -0.010057599783720061,
           -0.011535665928474919,
           -0.010152876419820553,
           -0.009457165404958938,
           -0.009401320964960309,
           null,
           null,
           null,
           null,
           null,
           null,
           null,
           null,
           null,
           null,
           null,
           null,
           null
          ],
          [
           -0.008231948351105762,
           -0.009496128292194334,
           -0.010783147123735685,
           -0.010039212052150503,
           -0.010559411736517501,
           -0.011516555558252648,
           -0.009033394553232994,
           -0.01017900432736874,
           null,
           null,
           null,
           null,
           null,
           null,
           null,
           null,
           null,
           null,
           null,
           null
          ],
          [
           -0.01030918252245439,
           -0.012886596370619558,
           -0.011614565860763357,
           -0.01317466862963898,
           -0.010783573684186455,
           -0.012533202538837305,
           -0.01089011187881308,
           -0.010628294819251937,
           -0.012244418992872557,
           null,
           null,
           null,
           null,
           null,
           null,
           null,
           null,
           null,
           null,
           null
          ],
          [
           -0.008031512184630198,
           -0.010746370251757675,
           -0.010674817896209214,
           -0.009511987720413947,
           -0.01268505044543168,
           -0.011346036034430695,
           -0.009515249396878778,
           -0.0090991742370738,
           -0.010763455800333027,
           -0.012211091543944655,
           null,
           null,
           null,
           null,
           null,
           null,
           null,
           null,
           null,
           null
          ],
          [
           -0.009716356759729003,
           -0.010056301381371178,
           -0.011277003523271958,
           -0.010489592627820022,
           -0.012572189558792322,
           -0.00965004721354915,
           -0.010438803910887468,
           -0.010701924267621619,
           -0.010845337722283969,
           -0.011993806232989587,
           -0.012612756817329363,
           null,
           null,
           null,
           null,
           null,
           null,
           null,
           null,
           null
          ],
          [
           -0.010658611626282533,
           -0.012525611567427684,
           -0.011679821747834298,
           -0.012387527473206055,
           -0.01449687974787874,
           -0.013004513671450167,
           -0.01209563727118845,
           -0.011761656278868295,
           -0.011414553852367535,
           -0.0162030897639812,
           -0.009797748423591476,
           -0.013467287811479513,
           null,
           null,
           null,
           null,
           null,
           null,
           null,
           null
          ],
          [
           -0.009121047963058244,
           -0.010239645096662864,
           -0.008993845189197006,
           -0.009257313942508796,
           -0.010582337903029052,
           -0.00935182311249186,
           -0.009924471685210537,
           -0.009172512071955305,
           -0.010623562123667208,
           -0.0112987183003674,
           -0.009669050045325653,
           -0.011214975665052512,
           -0.013177137588845918,
           null,
           null,
           null,
           null,
           null,
           null,
           null
          ],
          [
           -0.008899558620161693,
           -0.011067128706697436,
           -0.011412422090163578,
           -0.010670747323693658,
           -0.01210709402130899,
           -0.0098816865182222,
           -0.009085332280735143,
           -0.009457179072307495,
           -0.00990141586194757,
           -0.013542190698249213,
           -0.011587665152917787,
           -0.012690462090153681,
           -0.012018001277622677,
           -0.012122547710078695,
           null,
           null,
           null,
           null,
           null,
           null
          ],
          [
           -0.008486483254280273,
           -0.006627585522413998,
           -0.005826601589712958,
           -0.008861677339990529,
           -0.010656477633431392,
           -0.006323805225420955,
           -0.00983050683207673,
           -0.006312405247958524,
           -0.008708123705055595,
           -0.010404157301746432,
           -0.009870522604969992,
           -0.009600702209059734,
           -0.009699059283040717,
           -0.007215567298932316,
           -0.009811544639971454,
           null,
           null,
           null,
           null,
           null
          ],
          [
           -0.008679144600143589,
           -0.010815223891952355,
           -0.006726913371324117,
           -0.011776534148672434,
           -0.011485066142715869,
           -0.010332328966275487,
           -0.009599068430430194,
           -0.008739250709750412,
           -0.00895787865499424,
           -0.01064460217995518,
           -0.011892684730330118,
           -0.011975107341043815,
           -0.01325595873167879,
           -0.0089594819002139,
           -0.010314816370127185,
           -0.0076079840866842535,
           null,
           null,
           null,
           null
          ],
          [
           -0.006811490781540799,
           -0.01026724050944322,
           -0.010069441734804414,
           -0.011004328853667478,
           -0.011023219270183722,
           -0.009375515658973899,
           -0.009371612510776948,
           -0.008666514898415098,
           -0.011392124348862658,
           -0.010363813604578574,
           -0.010299209406165827,
           -0.011198581342705466,
           -0.011989219631521926,
           -0.01122610581593011,
           -0.012403248649261397,
           -0.008606857750070628,
           -0.011127827211453122,
           null,
           null,
           null
          ],
          [
           -0.008154703537469664,
           -0.011616981978014475,
           -0.009672896583400434,
           -0.010423544787600852,
           -0.011584174793718352,
           -0.010771813295456253,
           -0.01137441103729051,
           -0.009079164170797698,
           -0.010417942252294933,
           -0.012175233574175862,
           -0.012080493306385309,
           -0.01305992397144915,
           -0.014005526891762788,
           -0.0110519598098189,
           -0.013059434588990348,
           -0.00821364103130809,
           -0.009846523241625018,
           -0.009830378547845953,
           null,
           null
          ],
          [
           -0.00847434031577206,
           -0.012350010082907707,
           -0.011550285153628836,
           -0.009660948070560808,
           -0.013005450216961869,
           -0.011379245399547317,
           -0.013080813995511715,
           -0.008492865602057155,
           -0.0111573397358211,
           -0.011859577850093827,
           -0.010563120288699109,
           -0.012244048042811628,
           -0.013275360771966572,
           -0.010276658724715159,
           -0.011324284202864632,
           -0.00938811648429681,
           -0.012772266328786103,
           -0.011061189435297793,
           -0.011539916424991133,
           null
          ]
         ]
        }
       ],
       "layout": {
        "coloraxis": {
         "colorscale": [
          [
           0,
           "#0d0887"
          ],
          [
           0.1111111111111111,
           "#46039f"
          ],
          [
           0.2222222222222222,
           "#7201a8"
          ],
          [
           0.3333333333333333,
           "#9c179e"
          ],
          [
           0.4444444444444444,
           "#bd3786"
          ],
          [
           0.5555555555555556,
           "#d8576b"
          ],
          [
           0.6666666666666666,
           "#ed7953"
          ],
          [
           0.7777777777777778,
           "#fb9f3a"
          ],
          [
           0.8888888888888888,
           "#fdca26"
          ],
          [
           1,
           "#f0f921"
          ]
         ]
        },
        "height": 1000,
        "margin": {
         "t": 60
        },
        "template": {
         "data": {
          "bar": [
           {
            "error_x": {
             "color": "#2a3f5f"
            },
            "error_y": {
             "color": "#2a3f5f"
            },
            "marker": {
             "line": {
              "color": "#E5ECF6",
              "width": 0.5
             },
             "pattern": {
              "fillmode": "overlay",
              "size": 10,
              "solidity": 0.2
             }
            },
            "type": "bar"
           }
          ],
          "barpolar": [
           {
            "marker": {
             "line": {
              "color": "#E5ECF6",
              "width": 0.5
             },
             "pattern": {
              "fillmode": "overlay",
              "size": 10,
              "solidity": 0.2
             }
            },
            "type": "barpolar"
           }
          ],
          "carpet": [
           {
            "aaxis": {
             "endlinecolor": "#2a3f5f",
             "gridcolor": "white",
             "linecolor": "white",
             "minorgridcolor": "white",
             "startlinecolor": "#2a3f5f"
            },
            "baxis": {
             "endlinecolor": "#2a3f5f",
             "gridcolor": "white",
             "linecolor": "white",
             "minorgridcolor": "white",
             "startlinecolor": "#2a3f5f"
            },
            "type": "carpet"
           }
          ],
          "choropleth": [
           {
            "colorbar": {
             "outlinewidth": 0,
             "ticks": ""
            },
            "type": "choropleth"
           }
          ],
          "contour": [
           {
            "colorbar": {
             "outlinewidth": 0,
             "ticks": ""
            },
            "colorscale": [
             [
              0,
              "#0d0887"
             ],
             [
              0.1111111111111111,
              "#46039f"
             ],
             [
              0.2222222222222222,
              "#7201a8"
             ],
             [
              0.3333333333333333,
              "#9c179e"
             ],
             [
              0.4444444444444444,
              "#bd3786"
             ],
             [
              0.5555555555555556,
              "#d8576b"
             ],
             [
              0.6666666666666666,
              "#ed7953"
             ],
             [
              0.7777777777777778,
              "#fb9f3a"
             ],
             [
              0.8888888888888888,
              "#fdca26"
             ],
             [
              1,
              "#f0f921"
             ]
            ],
            "type": "contour"
           }
          ],
          "contourcarpet": [
           {
            "colorbar": {
             "outlinewidth": 0,
             "ticks": ""
            },
            "type": "contourcarpet"
           }
          ],
          "heatmap": [
           {
            "colorbar": {
             "outlinewidth": 0,
             "ticks": ""
            },
            "colorscale": [
             [
              0,
              "#0d0887"
             ],
             [
              0.1111111111111111,
              "#46039f"
             ],
             [
              0.2222222222222222,
              "#7201a8"
             ],
             [
              0.3333333333333333,
              "#9c179e"
             ],
             [
              0.4444444444444444,
              "#bd3786"
             ],
             [
              0.5555555555555556,
              "#d8576b"
             ],
             [
              0.6666666666666666,
              "#ed7953"
             ],
             [
              0.7777777777777778,
              "#fb9f3a"
             ],
             [
              0.8888888888888888,
              "#fdca26"
             ],
             [
              1,
              "#f0f921"
             ]
            ],
            "type": "heatmap"
           }
          ],
          "heatmapgl": [
           {
            "colorbar": {
             "outlinewidth": 0,
             "ticks": ""
            },
            "colorscale": [
             [
              0,
              "#0d0887"
             ],
             [
              0.1111111111111111,
              "#46039f"
             ],
             [
              0.2222222222222222,
              "#7201a8"
             ],
             [
              0.3333333333333333,
              "#9c179e"
             ],
             [
              0.4444444444444444,
              "#bd3786"
             ],
             [
              0.5555555555555556,
              "#d8576b"
             ],
             [
              0.6666666666666666,
              "#ed7953"
             ],
             [
              0.7777777777777778,
              "#fb9f3a"
             ],
             [
              0.8888888888888888,
              "#fdca26"
             ],
             [
              1,
              "#f0f921"
             ]
            ],
            "type": "heatmapgl"
           }
          ],
          "histogram": [
           {
            "marker": {
             "pattern": {
              "fillmode": "overlay",
              "size": 10,
              "solidity": 0.2
             }
            },
            "type": "histogram"
           }
          ],
          "histogram2d": [
           {
            "colorbar": {
             "outlinewidth": 0,
             "ticks": ""
            },
            "colorscale": [
             [
              0,
              "#0d0887"
             ],
             [
              0.1111111111111111,
              "#46039f"
             ],
             [
              0.2222222222222222,
              "#7201a8"
             ],
             [
              0.3333333333333333,
              "#9c179e"
             ],
             [
              0.4444444444444444,
              "#bd3786"
             ],
             [
              0.5555555555555556,
              "#d8576b"
             ],
             [
              0.6666666666666666,
              "#ed7953"
             ],
             [
              0.7777777777777778,
              "#fb9f3a"
             ],
             [
              0.8888888888888888,
              "#fdca26"
             ],
             [
              1,
              "#f0f921"
             ]
            ],
            "type": "histogram2d"
           }
          ],
          "histogram2dcontour": [
           {
            "colorbar": {
             "outlinewidth": 0,
             "ticks": ""
            },
            "colorscale": [
             [
              0,
              "#0d0887"
             ],
             [
              0.1111111111111111,
              "#46039f"
             ],
             [
              0.2222222222222222,
              "#7201a8"
             ],
             [
              0.3333333333333333,
              "#9c179e"
             ],
             [
              0.4444444444444444,
              "#bd3786"
             ],
             [
              0.5555555555555556,
              "#d8576b"
             ],
             [
              0.6666666666666666,
              "#ed7953"
             ],
             [
              0.7777777777777778,
              "#fb9f3a"
             ],
             [
              0.8888888888888888,
              "#fdca26"
             ],
             [
              1,
              "#f0f921"
             ]
            ],
            "type": "histogram2dcontour"
           }
          ],
          "mesh3d": [
           {
            "colorbar": {
             "outlinewidth": 0,
             "ticks": ""
            },
            "type": "mesh3d"
           }
          ],
          "parcoords": [
           {
            "line": {
             "colorbar": {
              "outlinewidth": 0,
              "ticks": ""
             }
            },
            "type": "parcoords"
           }
          ],
          "pie": [
           {
            "automargin": true,
            "type": "pie"
           }
          ],
          "scatter": [
           {
            "fillpattern": {
             "fillmode": "overlay",
             "size": 10,
             "solidity": 0.2
            },
            "type": "scatter"
           }
          ],
          "scatter3d": [
           {
            "line": {
             "colorbar": {
              "outlinewidth": 0,
              "ticks": ""
             }
            },
            "marker": {
             "colorbar": {
              "outlinewidth": 0,
              "ticks": ""
             }
            },
            "type": "scatter3d"
           }
          ],
          "scattercarpet": [
           {
            "marker": {
             "colorbar": {
              "outlinewidth": 0,
              "ticks": ""
             }
            },
            "type": "scattercarpet"
           }
          ],
          "scattergeo": [
           {
            "marker": {
             "colorbar": {
              "outlinewidth": 0,
              "ticks": ""
             }
            },
            "type": "scattergeo"
           }
          ],
          "scattergl": [
           {
            "marker": {
             "colorbar": {
              "outlinewidth": 0,
              "ticks": ""
             }
            },
            "type": "scattergl"
           }
          ],
          "scattermapbox": [
           {
            "marker": {
             "colorbar": {
              "outlinewidth": 0,
              "ticks": ""
             }
            },
            "type": "scattermapbox"
           }
          ],
          "scatterpolar": [
           {
            "marker": {
             "colorbar": {
              "outlinewidth": 0,
              "ticks": ""
             }
            },
            "type": "scatterpolar"
           }
          ],
          "scatterpolargl": [
           {
            "marker": {
             "colorbar": {
              "outlinewidth": 0,
              "ticks": ""
             }
            },
            "type": "scatterpolargl"
           }
          ],
          "scatterternary": [
           {
            "marker": {
             "colorbar": {
              "outlinewidth": 0,
              "ticks": ""
             }
            },
            "type": "scatterternary"
           }
          ],
          "surface": [
           {
            "colorbar": {
             "outlinewidth": 0,
             "ticks": ""
            },
            "colorscale": [
             [
              0,
              "#0d0887"
             ],
             [
              0.1111111111111111,
              "#46039f"
             ],
             [
              0.2222222222222222,
              "#7201a8"
             ],
             [
              0.3333333333333333,
              "#9c179e"
             ],
             [
              0.4444444444444444,
              "#bd3786"
             ],
             [
              0.5555555555555556,
              "#d8576b"
             ],
             [
              0.6666666666666666,
              "#ed7953"
             ],
             [
              0.7777777777777778,
              "#fb9f3a"
             ],
             [
              0.8888888888888888,
              "#fdca26"
             ],
             [
              1,
              "#f0f921"
             ]
            ],
            "type": "surface"
           }
          ],
          "table": [
           {
            "cells": {
             "fill": {
              "color": "#EBF0F8"
             },
             "line": {
              "color": "white"
             }
            },
            "header": {
             "fill": {
              "color": "#C8D4E3"
             },
             "line": {
              "color": "white"
             }
            },
            "type": "table"
           }
          ]
         },
         "layout": {
          "annotationdefaults": {
           "arrowcolor": "#2a3f5f",
           "arrowhead": 0,
           "arrowwidth": 1
          },
          "autotypenumbers": "strict",
          "coloraxis": {
           "colorbar": {
            "outlinewidth": 0,
            "ticks": ""
           }
          },
          "colorscale": {
           "diverging": [
            [
             0,
             "#8e0152"
            ],
            [
             0.1,
             "#c51b7d"
            ],
            [
             0.2,
             "#de77ae"
            ],
            [
             0.3,
             "#f1b6da"
            ],
            [
             0.4,
             "#fde0ef"
            ],
            [
             0.5,
             "#f7f7f7"
            ],
            [
             0.6,
             "#e6f5d0"
            ],
            [
             0.7,
             "#b8e186"
            ],
            [
             0.8,
             "#7fbc41"
            ],
            [
             0.9,
             "#4d9221"
            ],
            [
             1,
             "#276419"
            ]
           ],
           "sequential": [
            [
             0,
             "#0d0887"
            ],
            [
             0.1111111111111111,
             "#46039f"
            ],
            [
             0.2222222222222222,
             "#7201a8"
            ],
            [
             0.3333333333333333,
             "#9c179e"
            ],
            [
             0.4444444444444444,
             "#bd3786"
            ],
            [
             0.5555555555555556,
             "#d8576b"
            ],
            [
             0.6666666666666666,
             "#ed7953"
            ],
            [
             0.7777777777777778,
             "#fb9f3a"
            ],
            [
             0.8888888888888888,
             "#fdca26"
            ],
            [
             1,
             "#f0f921"
            ]
           ],
           "sequentialminus": [
            [
             0,
             "#0d0887"
            ],
            [
             0.1111111111111111,
             "#46039f"
            ],
            [
             0.2222222222222222,
             "#7201a8"
            ],
            [
             0.3333333333333333,
             "#9c179e"
            ],
            [
             0.4444444444444444,
             "#bd3786"
            ],
            [
             0.5555555555555556,
             "#d8576b"
            ],
            [
             0.6666666666666666,
             "#ed7953"
            ],
            [
             0.7777777777777778,
             "#fb9f3a"
            ],
            [
             0.8888888888888888,
             "#fdca26"
            ],
            [
             1,
             "#f0f921"
            ]
           ]
          },
          "colorway": [
           "#636efa",
           "#EF553B",
           "#00cc96",
           "#ab63fa",
           "#FFA15A",
           "#19d3f3",
           "#FF6692",
           "#B6E880",
           "#FF97FF",
           "#FECB52"
          ],
          "font": {
           "color": "#2a3f5f"
          },
          "geo": {
           "bgcolor": "white",
           "lakecolor": "white",
           "landcolor": "#E5ECF6",
           "showlakes": true,
           "showland": true,
           "subunitcolor": "white"
          },
          "hoverlabel": {
           "align": "left"
          },
          "hovermode": "closest",
          "mapbox": {
           "style": "light"
          },
          "paper_bgcolor": "white",
          "plot_bgcolor": "#E5ECF6",
          "polar": {
           "angularaxis": {
            "gridcolor": "white",
            "linecolor": "white",
            "ticks": ""
           },
           "bgcolor": "#E5ECF6",
           "radialaxis": {
            "gridcolor": "white",
            "linecolor": "white",
            "ticks": ""
           }
          },
          "scene": {
           "xaxis": {
            "backgroundcolor": "#E5ECF6",
            "gridcolor": "white",
            "gridwidth": 2,
            "linecolor": "white",
            "showbackground": true,
            "ticks": "",
            "zerolinecolor": "white"
           },
           "yaxis": {
            "backgroundcolor": "#E5ECF6",
            "gridcolor": "white",
            "gridwidth": 2,
            "linecolor": "white",
            "showbackground": true,
            "ticks": "",
            "zerolinecolor": "white"
           },
           "zaxis": {
            "backgroundcolor": "#E5ECF6",
            "gridcolor": "white",
            "gridwidth": 2,
            "linecolor": "white",
            "showbackground": true,
            "ticks": "",
            "zerolinecolor": "white"
           }
          },
          "shapedefaults": {
           "line": {
            "color": "#2a3f5f"
           }
          },
          "ternary": {
           "aaxis": {
            "gridcolor": "white",
            "linecolor": "white",
            "ticks": ""
           },
           "baxis": {
            "gridcolor": "white",
            "linecolor": "white",
            "ticks": ""
           },
           "bgcolor": "#E5ECF6",
           "caxis": {
            "gridcolor": "white",
            "linecolor": "white",
            "ticks": ""
           }
          },
          "title": {
           "x": 0.05
          },
          "xaxis": {
           "automargin": true,
           "gridcolor": "white",
           "linecolor": "white",
           "ticks": "",
           "title": {
            "standoff": 15
           },
           "zerolinecolor": "white",
           "zerolinewidth": 2
          },
          "yaxis": {
           "automargin": true,
           "gridcolor": "white",
           "linecolor": "white",
           "ticks": "",
           "title": {
            "standoff": 15
           },
           "zerolinecolor": "white",
           "zerolinewidth": 2
          }
         }
        },
        "title": {
         "text": "Heatmap of variable correlations"
        },
        "width": 1800,
        "xaxis": {
         "anchor": "y",
         "constrain": "domain",
         "domain": [
          0,
          1
         ],
         "scaleanchor": "y"
        },
        "yaxis": {
         "anchor": "x",
         "autorange": "reversed",
         "constrain": "domain",
         "domain": [
          0,
          1
         ]
        }
       }
      }
     },
     "metadata": {},
     "output_type": "display_data"
    }
   ],
   "source": [
    "var_coors = train_factors.corr()\n",
    "\n",
    "mask = np.zeros_like(var_coors, dtype=bool)\n",
    "mask[np.triu_indices_from(mask)] = True\n",
    "\n",
    "df_corr_viz = var_coors.mask(mask)\n",
    "fig = px.imshow(df_corr_viz, text_auto=True)\n",
    "\n",
    "fig.update_layout(height=1000, width=1800, title_text=\"Heatmap of variable correlations\")\n",
    "fig.show()"
   ]
  },
  {
   "cell_type": "code",
   "execution_count": 31,
   "metadata": {},
   "outputs": [
    {
     "data": {
      "text/plain": [
       "CoastalVulnerability               0.177774\n",
       "Encroachments                      0.178841\n",
       "DrainageSystems                    0.179305\n",
       "Urbanization                       0.180861\n",
       "InadequatePlanning                 0.180968\n",
       "Watersheds                         0.181907\n",
       "PoliticalFactors                   0.182417\n",
       "IneffectiveDisasterPreparedness    0.183109\n",
       "AgriculturalPractices              0.183366\n",
       "WetlandLoss                        0.183396\n",
       "Deforestation                      0.184001\n",
       "ClimateChange                      0.184761\n",
       "Landslides                         0.185346\n",
       "PopulationScore                    0.185890\n",
       "Siltation                          0.186789\n",
       "RiverManagement                    0.187131\n",
       "TopographyDrainage                 0.187635\n",
       "DamsQuality                        0.187996\n",
       "MonsoonIntensity                   0.189098\n",
       "DeterioratingInfrastructure        0.190007\n",
       "FloodProbability                   1.000000\n",
       "Name: FloodProbability, dtype: float64"
      ]
     },
     "execution_count": 31,
     "metadata": {},
     "output_type": "execute_result"
    }
   ],
   "source": [
    "train_pd.corr()[\"FloodProbability\"].sort_values()"
   ]
  },
  {
   "cell_type": "code",
   "execution_count": 32,
   "metadata": {},
   "outputs": [
    {
     "name": "stderr",
     "output_type": "stream",
     "text": [
      "  0%|          | 0/10 [00:00<?, ?it/s]"
     ]
    },
    {
     "name": "stdout",
     "output_type": "stream",
     "text": [
      "Initialization complete\n",
      "Iteration 0, inertia 106607807.0.\n",
      "Iteration 1, inertia 83565361.15076095.\n",
      "Iteration 2, inertia 83226356.33686036.\n",
      "Iteration 3, inertia 82994098.98064014.\n",
      "Iteration 4, inertia 82789344.13869834.\n",
      "Iteration 5, inertia 82603623.58193538.\n",
      "Iteration 6, inertia 82436287.97304167.\n",
      "Iteration 7, inertia 82283387.25131871.\n",
      "Iteration 8, inertia 82140841.60998447.\n",
      "Iteration 9, inertia 82003203.92820272.\n",
      "Iteration 10, inertia 81869737.61602487.\n",
      "Iteration 11, inertia 81742648.115749.\n",
      "Iteration 12, inertia 81623486.93169972.\n",
      "Iteration 13, inertia 81516005.78382362.\n",
      "Iteration 14, inertia 81420390.17424251.\n",
      "Iteration 15, inertia 81337194.68011585.\n",
      "Iteration 16, inertia 81265700.2311503.\n",
      "Iteration 17, inertia 81205727.60369273.\n",
      "Iteration 18, inertia 81156786.42014466.\n",
      "Iteration 19, inertia 81118639.82688114.\n",
      "Iteration 20, inertia 81091969.91980386.\n",
      "Iteration 21, inertia 81074744.43237863.\n",
      "Iteration 22, inertia 81063040.0026153.\n",
      "Iteration 23, inertia 81054799.94726726.\n",
      "Iteration 24, inertia 81048151.03564295.\n",
      "Iteration 25, inertia 81041803.57347019.\n",
      "Iteration 26, inertia 81035117.41722938.\n",
      "Iteration 27, inertia 81028429.59664617.\n",
      "Iteration 28, inertia 81021821.73309982.\n",
      "Iteration 29, inertia 81015282.91694327.\n",
      "Iteration 30, inertia 81009074.41964859.\n",
      "Iteration 31, inertia 81003476.5884534.\n",
      "Iteration 32, inertia 80998750.2721555.\n",
      "Iteration 33, inertia 80995377.95634519.\n",
      "Iteration 34, inertia 80993256.80938675.\n",
      "Iteration 35, inertia 80992037.44338953.\n",
      "Iteration 36, inertia 80991225.51576342.\n",
      "Iteration 37, inertia 80990619.50845104.\n",
      "Iteration 38, inertia 80990147.00320466.\n",
      "Iteration 39, inertia 80989744.75746855.\n",
      "Iteration 40, inertia 80989397.61266026.\n",
      "Iteration 41, inertia 80989087.6105036.\n",
      "Iteration 42, inertia 80988815.6595758.\n",
      "Iteration 43, inertia 80988571.46273944.\n",
      "Iteration 44, inertia 80988343.80140236.\n",
      "Iteration 45, inertia 80988131.49104674.\n",
      "Iteration 46, inertia 80987917.6531804.\n",
      "Iteration 47, inertia 80987715.43142653.\n",
      "Iteration 48, inertia 80987509.22646219.\n",
      "Iteration 49, inertia 80987299.64568081.\n",
      "Iteration 50, inertia 80987083.51895617.\n",
      "Iteration 51, inertia 80986863.62886484.\n",
      "Iteration 52, inertia 80986646.20500349.\n",
      "Iteration 53, inertia 80986436.46204185.\n",
      "Iteration 54, inertia 80986241.36082074.\n",
      "Iteration 55, inertia 80986064.64680721.\n",
      "Iteration 56, inertia 80985905.46853884.\n",
      "Iteration 57, inertia 80985752.57833989.\n",
      "Iteration 58, inertia 80985616.01712462.\n",
      "Iteration 59, inertia 80985498.40654206.\n",
      "Iteration 60, inertia 80985392.14523074.\n",
      "Iteration 61, inertia 80985295.42330542.\n",
      "Converged at iteration 61: center shift 0.0004046981375736943 within tolerance 0.000430479748744507.\n"
     ]
    },
    {
     "name": "stderr",
     "output_type": "stream",
     "text": [
      " 10%|█         | 1/10 [00:01<00:17,  1.98s/it]"
     ]
    },
    {
     "name": "stdout",
     "output_type": "stream",
     "text": [
      "Initialization complete\n",
      "Iteration 0, inertia 103011814.0.\n",
      "Iteration 1, inertia 82993065.90920784.\n",
      "Iteration 2, inertia 82535533.33016083.\n",
      "Iteration 3, inertia 82272816.0446698.\n",
      "Iteration 4, inertia 82069601.92522492.\n",
      "Iteration 5, inertia 81894500.36410598.\n",
      "Iteration 6, inertia 81732779.4396768.\n",
      "Iteration 7, inertia 81576333.5024443.\n",
      "Iteration 8, inertia 81419602.99558163.\n",
      "Iteration 9, inertia 81260257.80106023.\n",
      "Iteration 10, inertia 81099951.87903036.\n",
      "Iteration 11, inertia 80941011.9298828.\n",
      "Iteration 12, inertia 80790839.57929187.\n",
      "Iteration 13, inertia 80656180.48355748.\n",
      "Iteration 14, inertia 80540239.1588392.\n",
      "Iteration 15, inertia 80444548.24315174.\n",
      "Iteration 16, inertia 80368487.55781701.\n",
      "Iteration 17, inertia 80312494.86621433.\n",
      "Iteration 18, inertia 80272186.68330352.\n",
      "Iteration 19, inertia 80241605.23571664.\n",
      "Iteration 20, inertia 80216959.34158832.\n",
      "Iteration 21, inertia 80195450.80128208.\n",
      "Iteration 22, inertia 80176377.85307312.\n",
      "Iteration 23, inertia 80159678.89660464.\n",
      "Iteration 24, inertia 80145146.69366314.\n",
      "Iteration 25, inertia 80133381.66693553.\n",
      "Iteration 26, inertia 80124254.74594028.\n",
      "Iteration 27, inertia 80116403.16036965.\n",
      "Iteration 28, inertia 80108973.93855278.\n",
      "Iteration 29, inertia 80101779.49715361.\n",
      "Iteration 30, inertia 80094765.27200258.\n",
      "Iteration 31, inertia 80088726.19335572.\n",
      "Iteration 32, inertia 80084632.41776587.\n",
      "Iteration 33, inertia 80082365.87217608.\n",
      "Iteration 34, inertia 80081159.09616576.\n",
      "Iteration 35, inertia 80080391.21117975.\n",
      "Iteration 36, inertia 80079739.95541877.\n",
      "Iteration 37, inertia 80079165.59159656.\n",
      "Iteration 38, inertia 80078636.20580001.\n",
      "Iteration 39, inertia 80078137.8871174.\n",
      "Iteration 40, inertia 80077679.47445372.\n",
      "Iteration 41, inertia 80077283.16800505.\n",
      "Iteration 42, inertia 80076955.62520376.\n",
      "Iteration 43, inertia 80076682.88708606.\n",
      "Iteration 44, inertia 80076459.23839563.\n",
      "Iteration 45, inertia 80076286.58199616.\n",
      "Iteration 46, inertia 80076148.44301414.\n",
      "Iteration 47, inertia 80076034.1661304.\n",
      "Iteration 48, inertia 80075946.73880385.\n",
      "Converged at iteration 48: center shift 0.0003696779195879595 within tolerance 0.000430479748744507.\n"
     ]
    },
    {
     "name": "stderr",
     "output_type": "stream",
     "text": [
      " 20%|██        | 2/10 [00:03<00:15,  1.98s/it]"
     ]
    },
    {
     "name": "stdout",
     "output_type": "stream",
     "text": [
      "Initialization complete\n",
      "Iteration 0, inertia 101592695.0.\n",
      "Iteration 1, inertia 82287994.86457363.\n",
      "Iteration 2, inertia 81809500.56159817.\n",
      "Iteration 3, inertia 81502714.80458987.\n",
      "Iteration 4, inertia 81263082.52416977.\n",
      "Iteration 5, inertia 81062955.29413095.\n",
      "Iteration 6, inertia 80889753.9224478.\n",
      "Iteration 7, inertia 80731917.500254.\n",
      "Iteration 8, inertia 80579265.10492367.\n",
      "Iteration 9, inertia 80427052.92213847.\n",
      "Iteration 10, inertia 80273201.05828637.\n",
      "Iteration 11, inertia 80125981.13903932.\n",
      "Iteration 12, inertia 79992543.75255182.\n",
      "Iteration 13, inertia 79876963.94606178.\n",
      "Iteration 14, inertia 79780298.61814307.\n",
      "Iteration 15, inertia 79701422.52867797.\n",
      "Iteration 16, inertia 79636324.63813075.\n",
      "Iteration 17, inertia 79581922.81485231.\n",
      "Iteration 18, inertia 79535668.66439606.\n",
      "Iteration 19, inertia 79496913.31587516.\n",
      "Iteration 20, inertia 79464944.33446772.\n",
      "Iteration 21, inertia 79437052.34486951.\n",
      "Iteration 22, inertia 79413329.08018842.\n",
      "Iteration 23, inertia 79394113.9099024.\n",
      "Iteration 24, inertia 79380415.13905148.\n",
      "Iteration 25, inertia 79371206.19651335.\n",
      "Iteration 26, inertia 79363146.04337461.\n",
      "Iteration 27, inertia 79354214.60209945.\n",
      "Iteration 28, inertia 79343915.17786983.\n",
      "Iteration 29, inertia 79332184.18278825.\n",
      "Iteration 30, inertia 79319603.34185457.\n",
      "Iteration 31, inertia 79306918.8399185.\n",
      "Iteration 32, inertia 79294616.48632427.\n",
      "Iteration 33, inertia 79283211.88323027.\n",
      "Iteration 34, inertia 79274082.498042.\n",
      "Iteration 35, inertia 79267750.566837.\n",
      "Iteration 36, inertia 79262878.96351314.\n",
      "Iteration 37, inertia 79257943.9958739.\n",
      "Iteration 38, inertia 79251983.7482166.\n",
      "Iteration 39, inertia 79244846.29080135.\n",
      "Iteration 40, inertia 79236759.82786787.\n",
      "Iteration 41, inertia 79227788.57545789.\n",
      "Iteration 42, inertia 79217999.29287021.\n",
      "Iteration 43, inertia 79208302.35555579.\n",
      "Iteration 44, inertia 79199193.94574419.\n",
      "Iteration 45, inertia 79191836.38910896.\n",
      "Iteration 46, inertia 79187408.2360097.\n",
      "Iteration 47, inertia 79185504.32880946.\n",
      "Iteration 48, inertia 79184574.86598822.\n",
      "Iteration 49, inertia 79183933.44159842.\n",
      "Iteration 50, inertia 79183396.42713839.\n",
      "Iteration 51, inertia 79182946.23320727.\n",
      "Iteration 52, inertia 79182555.40156278.\n",
      "Iteration 53, inertia 79182237.06679764.\n",
      "Iteration 54, inertia 79181960.79976928.\n",
      "Iteration 55, inertia 79181714.97652592.\n",
      "Iteration 56, inertia 79181502.4441634.\n",
      "Iteration 57, inertia 79181310.16087449.\n",
      "Iteration 58, inertia 79181133.07853639.\n",
      "Iteration 59, inertia 79180980.7818884.\n",
      "Iteration 60, inertia 79180844.66963334.\n",
      "Iteration 61, inertia 79180715.52592345.\n",
      "Iteration 62, inertia 79180606.18420246.\n"
     ]
    },
    {
     "name": "stderr",
     "output_type": "stream",
     "text": [
      " 30%|███       | 3/10 [00:06<00:14,  2.06s/it]"
     ]
    },
    {
     "name": "stdout",
     "output_type": "stream",
     "text": [
      "Iteration 63, inertia 79180522.57310301.\n",
      "Converged at iteration 63: center shift 0.00042286728060318354 within tolerance 0.000430479748744507.\n",
      "Initialization complete\n",
      "Iteration 0, inertia 100658730.0.\n",
      "Iteration 1, inertia 81597990.81626752.\n",
      "Iteration 2, inertia 81066158.19814284.\n",
      "Iteration 3, inertia 80728322.91577446.\n",
      "Iteration 4, inertia 80469494.07122704.\n",
      "Iteration 5, inertia 80260779.9967217.\n",
      "Iteration 6, inertia 80087215.44055554.\n",
      "Iteration 7, inertia 79936195.70399004.\n",
      "Iteration 8, inertia 79794835.30067325.\n",
      "Iteration 9, inertia 79657171.92152715.\n",
      "Iteration 10, inertia 79521195.21929197.\n",
      "Iteration 11, inertia 79385361.72308785.\n",
      "Iteration 12, inertia 79250843.66071403.\n",
      "Iteration 13, inertia 79116327.08360082.\n",
      "Iteration 14, inertia 78979544.68795383.\n",
      "Iteration 15, inertia 78845231.26570551.\n",
      "Iteration 16, inertia 78724192.26893434.\n",
      "Iteration 17, inertia 78624341.00518616.\n",
      "Iteration 18, inertia 78549311.68049996.\n",
      "Iteration 19, inertia 78497908.35523933.\n",
      "Iteration 20, inertia 78463734.8276722.\n",
      "Iteration 21, inertia 78442149.82293111.\n",
      "Iteration 22, inertia 78430651.48732318.\n",
      "Iteration 23, inertia 78426056.00451598.\n",
      "Iteration 24, inertia 78423918.3751489.\n",
      "Iteration 25, inertia 78422423.17176628.\n",
      "Iteration 26, inertia 78421152.36717308.\n",
      "Iteration 27, inertia 78419948.60397406.\n",
      "Iteration 28, inertia 78418797.2861517.\n",
      "Iteration 29, inertia 78417701.21973412.\n",
      "Iteration 30, inertia 78416681.78170195.\n",
      "Iteration 31, inertia 78415701.1693382.\n",
      "Iteration 32, inertia 78414784.20852458.\n",
      "Iteration 33, inertia 78413931.97941665.\n",
      "Iteration 34, inertia 78413124.1966918.\n",
      "Iteration 35, inertia 78412348.40453565.\n",
      "Iteration 36, inertia 78411634.04201554.\n",
      "Iteration 37, inertia 78410961.79078792.\n",
      "Iteration 38, inertia 78410290.17557546.\n",
      "Iteration 39, inertia 78409643.66853046.\n",
      "Iteration 40, inertia 78409059.46998999.\n",
      "Iteration 41, inertia 78408544.60066392.\n",
      "Iteration 42, inertia 78408099.62410922.\n",
      "Iteration 43, inertia 78407710.31843099.\n",
      "Iteration 44, inertia 78407398.84586006.\n",
      "Iteration 45, inertia 78407134.2018189.\n",
      "Iteration 46, inertia 78406897.7650283.\n",
      "Iteration 47, inertia 78406677.81783229.\n",
      "Iteration 48, inertia 78406490.06373993.\n",
      "Iteration 49, inertia 78406337.2407512.\n",
      "Iteration 50, inertia 78406209.25966652.\n"
     ]
    },
    {
     "name": "stderr",
     "output_type": "stream",
     "text": [
      " 40%|████      | 4/10 [00:08<00:12,  2.08s/it]"
     ]
    },
    {
     "name": "stdout",
     "output_type": "stream",
     "text": [
      "Iteration 51, inertia 78406090.98771355.\n",
      "Iteration 52, inertia 78405988.77998367.\n",
      "Iteration 53, inertia 78405899.13615045.\n",
      "Iteration 54, inertia 78405825.2671353.\n",
      "Converged at iteration 54: center shift 0.00040226780317925416 within tolerance 0.000430479748744507.\n",
      "Initialization complete\n",
      "Iteration 0, inertia 99786318.0.\n",
      "Iteration 1, inertia 81076403.86342658.\n",
      "Iteration 2, inertia 80483502.32746905.\n",
      "Iteration 3, inertia 80096555.93747146.\n",
      "Iteration 4, inertia 79796987.9862129.\n",
      "Iteration 5, inertia 79557855.80076668.\n",
      "Iteration 6, inertia 79365191.48233458.\n",
      "Iteration 7, inertia 79203495.30670866.\n",
      "Iteration 8, inertia 79059636.35349905.\n",
      "Iteration 9, inertia 78924340.12858918.\n",
      "Iteration 10, inertia 78795893.48233235.\n",
      "Iteration 11, inertia 78675405.4699726.\n",
      "Iteration 12, inertia 78561947.67867763.\n",
      "Iteration 13, inertia 78454074.23087807.\n",
      "Iteration 14, inertia 78347812.36805612.\n",
      "Iteration 15, inertia 78241351.16740298.\n",
      "Iteration 16, inertia 78133687.70333643.\n",
      "Iteration 17, inertia 78026360.45262925.\n",
      "Iteration 18, inertia 77928442.5094495.\n",
      "Iteration 19, inertia 77847038.57647279.\n",
      "Iteration 20, inertia 77787128.25433278.\n",
      "Iteration 21, inertia 77749952.61746317.\n",
      "Iteration 22, inertia 77729449.94353095.\n",
      "Iteration 23, inertia 77717113.98361461.\n",
      "Iteration 24, inertia 77710345.30335757.\n",
      "Iteration 25, inertia 77706985.94962274.\n",
      "Iteration 26, inertia 77704932.83104236.\n",
      "Iteration 27, inertia 77703360.38167617.\n",
      "Iteration 28, inertia 77702073.27003112.\n",
      "Iteration 29, inertia 77700936.53304194.\n",
      "Iteration 30, inertia 77699909.48403896.\n",
      "Iteration 31, inertia 77698995.14663142.\n",
      "Iteration 32, inertia 77698106.57133116.\n",
      "Iteration 33, inertia 77697250.69676146.\n",
      "Iteration 34, inertia 77696410.26184507.\n",
      "Iteration 35, inertia 77695561.49591407.\n",
      "Iteration 36, inertia 77694737.6308806.\n",
      "Iteration 37, inertia 77693992.03693722.\n",
      "Iteration 38, inertia 77693353.18320984.\n",
      "Iteration 39, inertia 77692783.73139475.\n",
      "Iteration 40, inertia 77692306.70305178.\n",
      "Iteration 41, inertia 77691912.20571241.\n",
      "Iteration 42, inertia 77691568.14795046.\n",
      "Iteration 43, inertia 77691293.90406421.\n",
      "Iteration 44, inertia 77691080.20474681.\n",
      "Iteration 45, inertia 77690895.47776611.\n",
      "Iteration 46, inertia 77690731.20853017.\n",
      "Iteration 47, inertia 77690585.53695522.\n",
      "Iteration 48, inertia 77690451.0115121.\n",
      "Iteration 49, inertia 77690336.63861145.\n",
      "Iteration 50, inertia 77690232.24628721.\n",
      "Iteration 51, inertia 77690139.77657193.\n",
      "Iteration 52, inertia 77690048.32770444.\n",
      "Iteration 53, inertia 77689960.65226981.\n",
      "Iteration 54, inertia 77689880.00002262.\n",
      "Iteration 55, inertia 77689807.94026747.\n",
      "Iteration 56, inertia 77689741.01613088.\n",
      "Converged at iteration 56: center shift 0.0004138144829198575 within tolerance 0.000430479748744507.\n"
     ]
    },
    {
     "name": "stderr",
     "output_type": "stream",
     "text": [
      " 50%|█████     | 5/10 [00:10<00:10,  2.19s/it]"
     ]
    },
    {
     "name": "stdout",
     "output_type": "stream",
     "text": [
      "Initialization complete\n",
      "Iteration 0, inertia 98924591.0.\n",
      "Iteration 1, inertia 80608952.88028055.\n",
      "Iteration 2, inertia 80017536.38422425.\n",
      "Iteration 3, inertia 79639643.93226318.\n",
      "Iteration 4, inertia 79349722.38509995.\n",
      "Iteration 5, inertia 79117563.19566433.\n",
      "Iteration 6, inertia 78929129.75001934.\n",
      "Iteration 7, inertia 78772307.40555985.\n",
      "Iteration 8, inertia 78636298.28825483.\n",
      "Iteration 9, inertia 78512049.53983247.\n",
      "Iteration 10, inertia 78392113.52061139.\n",
      "Iteration 11, inertia 78266793.61864844.\n",
      "Iteration 12, inertia 78129369.5485476.\n",
      "Iteration 13, inertia 77978625.61978099.\n",
      "Iteration 14, inertia 77825032.80847028.\n",
      "Iteration 15, inertia 77684788.90771377.\n",
      "Iteration 16, inertia 77571171.97631273.\n",
      "Iteration 17, inertia 77485428.71566671.\n",
      "Iteration 18, inertia 77424020.2521514.\n",
      "Iteration 19, inertia 77380617.67075641.\n",
      "Iteration 20, inertia 77345962.7892378.\n",
      "Iteration 21, inertia 77308527.53009665.\n",
      "Iteration 22, inertia 77261026.96406838.\n",
      "Iteration 23, inertia 77201409.32705441.\n",
      "Iteration 24, inertia 77134342.85786033.\n",
      "Iteration 25, inertia 77071076.7902426.\n",
      "Iteration 26, inertia 77022088.83490488.\n",
      "Iteration 27, inertia 76992479.03690983.\n",
      "Iteration 28, inertia 76979259.69193535.\n",
      "Iteration 29, inertia 76974487.69654913.\n",
      "Iteration 30, inertia 76972367.77389461.\n",
      "Iteration 31, inertia 76971076.85372366.\n",
      "Iteration 32, inertia 76970104.66863939.\n",
      "Iteration 33, inertia 76969307.87682037.\n",
      "Iteration 34, inertia 76968624.87481105.\n",
      "Iteration 35, inertia 76968038.05447814.\n",
      "Iteration 36, inertia 76967504.30594048.\n",
      "Iteration 37, inertia 76967001.20696908.\n",
      "Iteration 38, inertia 76966548.68655515.\n",
      "Iteration 39, inertia 76966125.22652793.\n",
      "Iteration 40, inertia 76965706.25663947.\n",
      "Iteration 41, inertia 76965309.41806816.\n",
      "Iteration 42, inertia 76964918.57396753.\n",
      "Iteration 43, inertia 76964511.90881042.\n",
      "Iteration 44, inertia 76964090.95899466.\n",
      "Iteration 45, inertia 76963676.08657804.\n",
      "Iteration 46, inertia 76963292.4932091.\n",
      "Iteration 47, inertia 76962936.07812595.\n",
      "Iteration 48, inertia 76962599.74097474.\n",
      "Iteration 49, inertia 76962316.86212796.\n",
      "Iteration 50, inertia 76962070.71530318.\n",
      "Iteration 51, inertia 76961864.26589349.\n",
      "Iteration 52, inertia 76961681.53233534.\n",
      "Iteration 53, inertia 76961516.41110742.\n",
      "Iteration 54, inertia 76961374.39923386.\n",
      "Iteration 55, inertia 76961245.79507452.\n",
      "Iteration 56, inertia 76961133.45077728.\n",
      "Iteration 57, inertia 76961028.69216698.\n",
      "Iteration 58, inertia 76960940.57041068.\n",
      "Iteration 59, inertia 76960861.43812977.\n",
      "Iteration 60, inertia 76960786.61829154.\n"
     ]
    },
    {
     "name": "stderr",
     "output_type": "stream",
     "text": [
      " 60%|██████    | 6/10 [00:13<00:09,  2.42s/it]"
     ]
    },
    {
     "name": "stdout",
     "output_type": "stream",
     "text": [
      "Iteration 61, inertia 76960709.98495059.\n",
      "Iteration 62, inertia 76960641.34953128.\n",
      "Converged at iteration 62: center shift 0.0004224360710946537 within tolerance 0.000430479748744507.\n",
      "Initialization complete\n",
      "Iteration 0, inertia 98369399.0.\n",
      "Iteration 1, inertia 80197058.28835374.\n",
      "Iteration 2, inertia 79570636.86365676.\n",
      "Iteration 3, inertia 79163342.8397269.\n",
      "Iteration 4, inertia 78848718.02681872.\n",
      "Iteration 5, inertia 78597903.41498812.\n",
      "Iteration 6, inertia 78389552.71735615.\n",
      "Iteration 7, inertia 78209892.96788548.\n",
      "Iteration 8, inertia 78044932.55935575.\n",
      "Iteration 9, inertia 77885800.87156038.\n",
      "Iteration 10, inertia 77728648.91650358.\n",
      "Iteration 11, inertia 77573102.32741022.\n",
      "Iteration 12, inertia 77420292.23269631.\n",
      "Iteration 13, inertia 77274331.19550155.\n",
      "Iteration 14, inertia 77141336.25333793.\n",
      "Iteration 15, inertia 77028259.56096198.\n",
      "Iteration 16, inertia 76939899.66010463.\n",
      "Iteration 17, inertia 76876692.25445172.\n",
      "Iteration 18, inertia 76836330.03418486.\n",
      "Iteration 19, inertia 76810498.51412243.\n",
      "Iteration 20, inertia 76791618.2911061.\n",
      "Iteration 21, inertia 76775282.3577392.\n",
      "Iteration 22, inertia 76758722.34971344.\n",
      "Iteration 23, inertia 76740672.32607225.\n",
      "Iteration 24, inertia 76719441.71174231.\n",
      "Iteration 25, inertia 76692229.08479351.\n",
      "Iteration 26, inertia 76655758.48780927.\n",
      "Iteration 27, inertia 76608377.47682562.\n",
      "Iteration 28, inertia 76549965.93899728.\n",
      "Iteration 29, inertia 76484274.36596392.\n",
      "Iteration 30, inertia 76419817.59839359.\n",
      "Iteration 31, inertia 76367201.88255149.\n",
      "Iteration 32, inertia 76330820.08292605.\n",
      "Iteration 33, inertia 76307462.05008271.\n",
      "Iteration 34, inertia 76294521.60117178.\n",
      "Iteration 35, inertia 76288528.82290001.\n",
      "Iteration 36, inertia 76286043.19238932.\n",
      "Iteration 37, inertia 76284647.45785159.\n",
      "Iteration 38, inertia 76283624.1474956.\n",
      "Iteration 39, inertia 76282802.66726285.\n",
      "Iteration 40, inertia 76282104.48212448.\n",
      "Iteration 41, inertia 76281515.53559758.\n",
      "Iteration 42, inertia 76281019.30422373.\n",
      "Iteration 43, inertia 76280592.74541293.\n",
      "Iteration 44, inertia 76280202.43985406.\n",
      "Iteration 45, inertia 76279856.86307463.\n",
      "Iteration 46, inertia 76279541.12686858.\n",
      "Iteration 47, inertia 76279252.50359392.\n",
      "Iteration 48, inertia 76278980.48151635.\n",
      "Iteration 49, inertia 76278713.81716304.\n",
      "Iteration 50, inertia 76278453.67391783.\n",
      "Iteration 51, inertia 76278194.7611625.\n",
      "Iteration 52, inertia 76277928.22096771.\n",
      "Iteration 53, inertia 76277675.94234723.\n",
      "Iteration 54, inertia 76277422.61120753.\n",
      "Iteration 55, inertia 76277172.14498876.\n",
      "Iteration 56, inertia 76276952.75116053.\n",
      "Iteration 57, inertia 76276746.55456777.\n",
      "Iteration 58, inertia 76276560.17906302.\n",
      "Iteration 59, inertia 76276394.86214894.\n",
      "Iteration 60, inertia 76276247.45919555.\n",
      "Iteration 61, inertia 76276122.24982242.\n",
      "Iteration 62, inertia 76276018.41597137.\n",
      "Iteration 63, inertia 76275931.17242609.\n",
      "Iteration 64, inertia 76275849.89916314.\n",
      "Iteration 65, inertia 76275772.93035834.\n",
      "Iteration 66, inertia 76275698.56530264.\n",
      "Iteration 67, inertia 76275632.74428175.\n",
      "Iteration 68, inertia 76275569.33841547.\n"
     ]
    },
    {
     "name": "stderr",
     "output_type": "stream",
     "text": [
      " 70%|███████   | 7/10 [00:16<00:07,  2.61s/it]"
     ]
    },
    {
     "name": "stdout",
     "output_type": "stream",
     "text": [
      "Iteration 69, inertia 76275508.33124769.\n",
      "Iteration 70, inertia 76275449.17048188.\n",
      "Iteration 71, inertia 76275386.81521939.\n",
      "Iteration 72, inertia 76275327.37472034.\n",
      "Converged at iteration 72: center shift 0.00042732243928272093 within tolerance 0.000430479748744507.\n",
      "Initialization complete\n",
      "Iteration 0, inertia 97346893.0.\n",
      "Iteration 1, inertia 79723980.91481237.\n",
      "Iteration 2, inertia 79086266.73050533.\n",
      "Iteration 3, inertia 78650763.8676265.\n",
      "Iteration 4, inertia 78297935.22139534.\n",
      "Iteration 5, inertia 78009975.92617911.\n",
      "Iteration 6, inertia 77777020.54828438.\n",
      "Iteration 7, inertia 77589577.52583106.\n",
      "Iteration 8, inertia 77435243.36822376.\n",
      "Iteration 9, inertia 77298901.50609645.\n",
      "Iteration 10, inertia 77169913.27776237.\n",
      "Iteration 11, inertia 77036068.53505874.\n",
      "Iteration 12, inertia 76891897.70796205.\n",
      "Iteration 13, inertia 76739268.61991274.\n",
      "Iteration 14, inertia 76583734.04146457.\n",
      "Iteration 15, inertia 76433681.81623511.\n",
      "Iteration 16, inertia 76298719.27139011.\n",
      "Iteration 17, inertia 76184090.61096472.\n",
      "Iteration 18, inertia 76088888.15943764.\n",
      "Iteration 19, inertia 76009420.29024933.\n",
      "Iteration 20, inertia 75936995.32880181.\n",
      "Iteration 21, inertia 75862313.00133069.\n",
      "Iteration 22, inertia 75785593.28395934.\n",
      "Iteration 23, inertia 75713208.84179892.\n",
      "Iteration 24, inertia 75659745.0940726.\n",
      "Iteration 25, inertia 75630289.37590843.\n",
      "Iteration 26, inertia 75618259.42951062.\n",
      "Iteration 27, inertia 75613296.84993455.\n",
      "Iteration 28, inertia 75610725.86332674.\n",
      "Iteration 29, inertia 75609038.69483544.\n",
      "Iteration 30, inertia 75607730.01142645.\n",
      "Iteration 31, inertia 75606598.49594384.\n",
      "Iteration 32, inertia 75605600.50323579.\n",
      "Iteration 33, inertia 75604730.80232769.\n",
      "Iteration 34, inertia 75603952.94697371.\n",
      "Iteration 35, inertia 75603299.95654358.\n",
      "Iteration 36, inertia 75602761.32054585.\n",
      "Iteration 37, inertia 75602308.16949111.\n",
      "Iteration 38, inertia 75601953.74201432.\n",
      "Iteration 39, inertia 75601665.0768041.\n",
      "Iteration 40, inertia 75601420.71302816.\n",
      "Iteration 41, inertia 75601200.44350858.\n",
      "Iteration 42, inertia 75600993.15984008.\n",
      "Iteration 43, inertia 75600795.09141695.\n",
      "Iteration 44, inertia 75600614.52792308.\n",
      "Iteration 45, inertia 75600446.50735524.\n",
      "Iteration 46, inertia 75600290.91460946.\n",
      "Iteration 47, inertia 75600142.55027846.\n",
      "Iteration 48, inertia 75600008.24634945.\n",
      "Iteration 49, inertia 75599890.77527626.\n",
      "Iteration 50, inertia 75599786.31185973.\n",
      "Iteration 51, inertia 75599697.98949273.\n",
      "Iteration 52, inertia 75599618.20230402.\n",
      "Iteration 53, inertia 75599545.87128967.\n",
      "Iteration 54, inertia 75599480.26761505.\n",
      "Iteration 55, inertia 75599422.03101818.\n",
      "Iteration 56, inertia 75599366.94461536.\n",
      "Converged at iteration 56: center shift 0.00036600990435698604 within tolerance 0.000430479748744507.\n"
     ]
    },
    {
     "name": "stderr",
     "output_type": "stream",
     "text": [
      " 80%|████████  | 8/10 [00:19<00:05,  2.65s/it]"
     ]
    },
    {
     "name": "stdout",
     "output_type": "stream",
     "text": [
      "Initialization complete\n",
      "Iteration 0, inertia 95877678.0.\n",
      "Iteration 1, inertia 79361180.89061473.\n",
      "Iteration 2, inertia 78688124.55128185.\n",
      "Iteration 3, inertia 78212487.3747187.\n",
      "Iteration 4, inertia 77812514.04255952.\n",
      "Iteration 5, inertia 77474011.05473635.\n",
      "Iteration 6, inertia 77189808.51170059.\n",
      "Iteration 7, inertia 76950283.24647921.\n",
      "Iteration 8, inertia 76741158.8971562.\n",
      "Iteration 9, inertia 76548222.75787413.\n",
      "Iteration 10, inertia 76361926.53742072.\n",
      "Iteration 11, inertia 76176457.68067585.\n",
      "Iteration 12, inertia 75986495.76761937.\n",
      "Iteration 13, inertia 75793165.6958108.\n",
      "Iteration 14, inertia 75604153.56086044.\n",
      "Iteration 15, inertia 75430647.47396186.\n",
      "Iteration 16, inertia 75288550.49332975.\n",
      "Iteration 17, inertia 75192969.00356197.\n",
      "Iteration 18, inertia 75142117.04741341.\n",
      "Iteration 19, inertia 75120864.41138974.\n",
      "Iteration 20, inertia 75112550.72711153.\n",
      "Iteration 21, inertia 75108431.52308536.\n",
      "Iteration 22, inertia 75105678.04575835.\n",
      "Iteration 23, inertia 75103567.1823863.\n",
      "Iteration 24, inertia 75101827.99541126.\n",
      "Iteration 25, inertia 75100292.52054612.\n",
      "Iteration 26, inertia 75098984.49353236.\n",
      "Iteration 27, inertia 75097835.32256073.\n",
      "Iteration 28, inertia 75096862.89700672.\n",
      "Iteration 29, inertia 75096019.82934299.\n",
      "Iteration 30, inertia 75095339.15128808.\n",
      "Iteration 31, inertia 75094790.58630913.\n",
      "Iteration 32, inertia 75094323.23360161.\n",
      "Iteration 33, inertia 75093940.58921668.\n",
      "Iteration 34, inertia 75093612.18369158.\n",
      "Iteration 35, inertia 75093335.17559744.\n",
      "Iteration 36, inertia 75093094.73941398.\n",
      "Iteration 37, inertia 75092893.82282773.\n",
      "Iteration 38, inertia 75092714.88716352.\n",
      "Iteration 39, inertia 75092562.99095747.\n",
      "Iteration 40, inertia 75092423.24823348.\n",
      "Iteration 41, inertia 75092299.92978545.\n",
      "Iteration 42, inertia 75092182.93527791.\n",
      "Iteration 43, inertia 75092081.59656319.\n",
      "Iteration 44, inertia 75091991.78757761.\n",
      "Iteration 45, inertia 75091907.7364725.\n",
      "Iteration 46, inertia 75091828.15567338.\n",
      "Iteration 47, inertia 75091753.4653744.\n",
      "Iteration 48, inertia 75091684.38461605.\n",
      "Iteration 49, inertia 75091623.16923083.\n",
      "Iteration 50, inertia 75091570.96393308.\n",
      "Converged at iteration 50: center shift 0.0003950515936590761 within tolerance 0.000430479748744507.\n"
     ]
    },
    {
     "name": "stderr",
     "output_type": "stream",
     "text": [
      " 90%|█████████ | 9/10 [00:21<00:02,  2.61s/it]"
     ]
    },
    {
     "name": "stdout",
     "output_type": "stream",
     "text": [
      "Initialization complete\n",
      "Iteration 0, inertia 95578391.0.\n",
      "Iteration 1, inertia 78991674.23007008.\n",
      "Iteration 2, inertia 78298456.21589334.\n",
      "Iteration 3, inertia 77798896.47096857.\n",
      "Iteration 4, inertia 77359434.27794899.\n",
      "Iteration 5, inertia 76978621.43456964.\n",
      "Iteration 6, inertia 76657382.29085873.\n",
      "Iteration 7, inertia 76390001.95215394.\n",
      "Iteration 8, inertia 76169904.00862499.\n",
      "Iteration 9, inertia 75986325.66539796.\n",
      "Iteration 10, inertia 75831978.28310168.\n",
      "Iteration 11, inertia 75687586.24892844.\n",
      "Iteration 12, inertia 75537680.65556885.\n",
      "Iteration 13, inertia 75371467.47345339.\n",
      "Iteration 14, inertia 75194612.54486404.\n",
      "Iteration 15, inertia 75019302.9190147.\n",
      "Iteration 16, inertia 74859409.54226732.\n",
      "Iteration 17, inertia 74729949.0948384.\n",
      "Iteration 18, inertia 74640126.25851943.\n",
      "Iteration 19, inertia 74590319.05325969.\n",
      "Iteration 20, inertia 74569513.76781821.\n",
      "Iteration 21, inertia 74561419.8799971.\n",
      "Iteration 22, inertia 74557561.85345732.\n",
      "Iteration 23, inertia 74555163.67479183.\n",
      "Iteration 24, inertia 74553375.09176049.\n",
      "Iteration 25, inertia 74551938.4548435.\n",
      "Iteration 26, inertia 74550771.7855249.\n",
      "Iteration 27, inertia 74549814.25825778.\n",
      "Iteration 28, inertia 74549016.69758885.\n",
      "Iteration 29, inertia 74548380.22708134.\n",
      "Iteration 30, inertia 74547876.87515172.\n",
      "Iteration 31, inertia 74547465.7526797.\n",
      "Iteration 32, inertia 74547121.47685485.\n",
      "Iteration 33, inertia 74546819.87417497.\n",
      "Iteration 34, inertia 74546552.81650664.\n",
      "Iteration 35, inertia 74546311.31010595.\n",
      "Iteration 36, inertia 74546113.47161014.\n",
      "Iteration 37, inertia 74545931.39727573.\n",
      "Iteration 38, inertia 74545767.15879233.\n",
      "Iteration 39, inertia 74545618.28643037.\n",
      "Iteration 40, inertia 74545484.22619157.\n",
      "Iteration 41, inertia 74545353.96261056.\n",
      "Iteration 42, inertia 74545233.71407896.\n",
      "Iteration 43, inertia 74545116.49666867.\n",
      "Iteration 44, inertia 74545008.77158219.\n",
      "Iteration 45, inertia 74544914.96646118.\n",
      "Iteration 46, inertia 74544837.80680057.\n",
      "Iteration 47, inertia 74544769.03843269.\n",
      "Iteration 48, inertia 74544708.08284809.\n",
      "Iteration 49, inertia 74544648.11764471.\n",
      "Iteration 50, inertia 74544589.6425156.\n",
      "Iteration 51, inertia 74544536.0656795.\n",
      "Iteration 52, inertia 74544485.35081506.\n",
      "Converged at iteration 52: center shift 0.00040015239466764625 within tolerance 0.000430479748744507.\n"
     ]
    },
    {
     "name": "stderr",
     "output_type": "stream",
     "text": [
      "100%|██████████| 10/10 [00:24<00:00,  2.44s/it]\n"
     ]
    }
   ],
   "source": [
    "num_clusters = np.arange(10, 20, 1)\n",
    "\n",
    "def kmeans_models(num_clusters, x_vals):\n",
    "    kms_models = []\n",
    "\n",
    "    for num in tqdm(num_clusters):\n",
    "        kms = KMeans(n_clusters=num, n_init=\"auto\", random_state=0, verbose=True)\n",
    "        kms.fit(x_vals)\n",
    "        kms_models.append(kms)\n",
    "\n",
    "    return kms_models\n",
    "\n",
    "kms_models = kmeans_models(num_clusters, train_factors)"
   ]
  },
  {
   "cell_type": "code",
   "execution_count": 33,
   "metadata": {},
   "outputs": [],
   "source": [
    "for i, kms_model in enumerate(kms_models):\n",
    "    train_factors[f\"kms_{i+1}\"] = kms_model.labels_"
   ]
  },
  {
   "cell_type": "code",
   "execution_count": 34,
   "metadata": {},
   "outputs": [],
   "source": [
    "X_train, X_test, y_train, y_test = train_test_split(train_factors, train_flood_prob, test_size=0.2)"
   ]
  },
  {
   "cell_type": "code",
   "execution_count": 35,
   "metadata": {},
   "outputs": [
    {
     "name": "stderr",
     "output_type": "stream",
     "text": [
      "[Parallel(n_jobs=-1)]: Using backend ThreadingBackend with 12 concurrent workers.\n",
      "........................................................................................................................................................................................................................................................................................................................................................................................................................................................................................................................................................................................................................................................................................................................................................................................................................................................................................................................................................................................................................................[Parallel(n_jobs=-1)]: Done  10 out of  10 | elapsed:    2.9s finished\n"
     ]
    },
    {
     "data": {
      "text/html": [
       "<style>#sk-container-id-3 {color: black;}#sk-container-id-3 pre{padding: 0;}#sk-container-id-3 div.sk-toggleable {background-color: white;}#sk-container-id-3 label.sk-toggleable__label {cursor: pointer;display: block;width: 100%;margin-bottom: 0;padding: 0.3em;box-sizing: border-box;text-align: center;}#sk-container-id-3 label.sk-toggleable__label-arrow:before {content: \"▸\";float: left;margin-right: 0.25em;color: #696969;}#sk-container-id-3 label.sk-toggleable__label-arrow:hover:before {color: black;}#sk-container-id-3 div.sk-estimator:hover label.sk-toggleable__label-arrow:before {color: black;}#sk-container-id-3 div.sk-toggleable__content {max-height: 0;max-width: 0;overflow: hidden;text-align: left;background-color: #f0f8ff;}#sk-container-id-3 div.sk-toggleable__content pre {margin: 0.2em;color: black;border-radius: 0.25em;background-color: #f0f8ff;}#sk-container-id-3 input.sk-toggleable__control:checked~div.sk-toggleable__content {max-height: 200px;max-width: 100%;overflow: auto;}#sk-container-id-3 input.sk-toggleable__control:checked~label.sk-toggleable__label-arrow:before {content: \"▾\";}#sk-container-id-3 div.sk-estimator input.sk-toggleable__control:checked~label.sk-toggleable__label {background-color: #d4ebff;}#sk-container-id-3 div.sk-label input.sk-toggleable__control:checked~label.sk-toggleable__label {background-color: #d4ebff;}#sk-container-id-3 input.sk-hidden--visually {border: 0;clip: rect(1px 1px 1px 1px);clip: rect(1px, 1px, 1px, 1px);height: 1px;margin: -1px;overflow: hidden;padding: 0;position: absolute;width: 1px;}#sk-container-id-3 div.sk-estimator {font-family: monospace;background-color: #f0f8ff;border: 1px dotted black;border-radius: 0.25em;box-sizing: border-box;margin-bottom: 0.5em;}#sk-container-id-3 div.sk-estimator:hover {background-color: #d4ebff;}#sk-container-id-3 div.sk-parallel-item::after {content: \"\";width: 100%;border-bottom: 1px solid gray;flex-grow: 1;}#sk-container-id-3 div.sk-label:hover label.sk-toggleable__label {background-color: #d4ebff;}#sk-container-id-3 div.sk-serial::before {content: \"\";position: absolute;border-left: 1px solid gray;box-sizing: border-box;top: 0;bottom: 0;left: 50%;z-index: 0;}#sk-container-id-3 div.sk-serial {display: flex;flex-direction: column;align-items: center;background-color: white;padding-right: 0.2em;padding-left: 0.2em;position: relative;}#sk-container-id-3 div.sk-item {position: relative;z-index: 1;}#sk-container-id-3 div.sk-parallel {display: flex;align-items: stretch;justify-content: center;background-color: white;position: relative;}#sk-container-id-3 div.sk-item::before, #sk-container-id-3 div.sk-parallel-item::before {content: \"\";position: absolute;border-left: 1px solid gray;box-sizing: border-box;top: 0;bottom: 0;left: 50%;z-index: -1;}#sk-container-id-3 div.sk-parallel-item {display: flex;flex-direction: column;z-index: 1;position: relative;background-color: white;}#sk-container-id-3 div.sk-parallel-item:first-child::after {align-self: flex-end;width: 50%;}#sk-container-id-3 div.sk-parallel-item:last-child::after {align-self: flex-start;width: 50%;}#sk-container-id-3 div.sk-parallel-item:only-child::after {width: 0;}#sk-container-id-3 div.sk-dashed-wrapped {border: 1px dashed gray;margin: 0 0.4em 0.5em 0.4em;box-sizing: border-box;padding-bottom: 0.4em;background-color: white;}#sk-container-id-3 div.sk-label label {font-family: monospace;font-weight: bold;display: inline-block;line-height: 1.2em;}#sk-container-id-3 div.sk-label-container {text-align: center;}#sk-container-id-3 div.sk-container {/* jupyter's `normalize.less` sets `[hidden] { display: none; }` but bootstrap.min.css set `[hidden] { display: none !important; }` so we also need the `!important` here to be able to override the default hidden behavior on the sphinx rendered scikit-learn.org. See: https://github.com/scikit-learn/scikit-learn/issues/21755 */display: inline-block !important;position: relative;}#sk-container-id-3 div.sk-text-repr-fallback {display: none;}</style><div id=\"sk-container-id-3\" class=\"sk-top-container\"><div class=\"sk-text-repr-fallback\"><pre>ElasticNetCV(cv=10, n_jobs=-1, verbose=True)</pre><b>In a Jupyter environment, please rerun this cell to show the HTML representation or trust the notebook. <br />On GitHub, the HTML representation is unable to render, please try loading this page with nbviewer.org.</b></div><div class=\"sk-container\" hidden><div class=\"sk-item\"><div class=\"sk-estimator sk-toggleable\"><input class=\"sk-toggleable__control sk-hidden--visually\" id=\"sk-estimator-id-3\" type=\"checkbox\" checked><label for=\"sk-estimator-id-3\" class=\"sk-toggleable__label sk-toggleable__label-arrow\">ElasticNetCV</label><div class=\"sk-toggleable__content\"><pre>ElasticNetCV(cv=10, n_jobs=-1, verbose=True)</pre></div></div></div></div></div>"
      ],
      "text/plain": [
       "ElasticNetCV(cv=10, n_jobs=-1, verbose=True)"
      ]
     },
     "execution_count": 35,
     "metadata": {},
     "output_type": "execute_result"
    }
   ],
   "source": [
    "model = ElasticNetCV(\n",
    "    cv=10,\n",
    "    n_jobs=-1,\n",
    "    verbose=True\n",
    ")\n",
    "model.fit(X_train, y_train)"
   ]
  },
  {
   "cell_type": "code",
   "execution_count": 36,
   "metadata": {},
   "outputs": [
    {
     "name": "stdout",
     "output_type": "stream",
     "text": [
      "Train RMSE: 0.02007822320486821\n"
     ]
    }
   ],
   "source": [
    "train_preds = model.predict(X_train)\n",
    "train_rmse = metrics.mean_squared_error(y_train, train_preds, squared=False)\n",
    "print(f\"Train RMSE: {train_rmse}\")"
   ]
  },
  {
   "cell_type": "code",
   "execution_count": 37,
   "metadata": {},
   "outputs": [
    {
     "name": "stdout",
     "output_type": "stream",
     "text": [
      "Validation RMSE: 0.020145879460214476\n"
     ]
    }
   ],
   "source": [
    "val_preds = model.predict(X_test)\n",
    "val_rmse = metrics.mean_squared_error(y_test, val_preds, squared=False)\n",
    "print(f\"Validation RMSE: {val_rmse}\")"
   ]
  },
  {
   "cell_type": "code",
   "execution_count": 38,
   "metadata": {},
   "outputs": [
    {
     "data": {
      "text/html": [
       "<div>\n",
       "<style scoped>\n",
       "    .dataframe tbody tr th:only-of-type {\n",
       "        vertical-align: middle;\n",
       "    }\n",
       "\n",
       "    .dataframe tbody tr th {\n",
       "        vertical-align: top;\n",
       "    }\n",
       "\n",
       "    .dataframe thead th {\n",
       "        text-align: right;\n",
       "    }\n",
       "</style>\n",
       "<table border=\"1\" class=\"dataframe\">\n",
       "  <thead>\n",
       "    <tr style=\"text-align: right;\">\n",
       "      <th></th>\n",
       "      <th>id</th>\n",
       "      <th>MonsoonIntensity</th>\n",
       "      <th>TopographyDrainage</th>\n",
       "      <th>RiverManagement</th>\n",
       "      <th>Deforestation</th>\n",
       "      <th>Urbanization</th>\n",
       "      <th>ClimateChange</th>\n",
       "      <th>DamsQuality</th>\n",
       "      <th>Siltation</th>\n",
       "      <th>AgriculturalPractices</th>\n",
       "      <th>...</th>\n",
       "      <th>kms_2</th>\n",
       "      <th>kms_3</th>\n",
       "      <th>kms_4</th>\n",
       "      <th>kms_5</th>\n",
       "      <th>kms_6</th>\n",
       "      <th>kms_7</th>\n",
       "      <th>kms_8</th>\n",
       "      <th>kms_9</th>\n",
       "      <th>kms_10</th>\n",
       "      <th>FloodProbability</th>\n",
       "    </tr>\n",
       "  </thead>\n",
       "  <tbody>\n",
       "    <tr>\n",
       "      <th>0</th>\n",
       "      <td>1117957</td>\n",
       "      <td>4</td>\n",
       "      <td>6</td>\n",
       "      <td>3</td>\n",
       "      <td>5</td>\n",
       "      <td>6</td>\n",
       "      <td>7</td>\n",
       "      <td>8</td>\n",
       "      <td>7</td>\n",
       "      <td>8</td>\n",
       "      <td>...</td>\n",
       "      <td>3</td>\n",
       "      <td>3</td>\n",
       "      <td>5</td>\n",
       "      <td>7</td>\n",
       "      <td>7</td>\n",
       "      <td>3</td>\n",
       "      <td>7</td>\n",
       "      <td>7</td>\n",
       "      <td>7</td>\n",
       "      <td>0.573442</td>\n",
       "    </tr>\n",
       "    <tr>\n",
       "      <th>1</th>\n",
       "      <td>1117958</td>\n",
       "      <td>4</td>\n",
       "      <td>4</td>\n",
       "      <td>2</td>\n",
       "      <td>9</td>\n",
       "      <td>5</td>\n",
       "      <td>5</td>\n",
       "      <td>4</td>\n",
       "      <td>7</td>\n",
       "      <td>5</td>\n",
       "      <td>...</td>\n",
       "      <td>8</td>\n",
       "      <td>8</td>\n",
       "      <td>8</td>\n",
       "      <td>8</td>\n",
       "      <td>8</td>\n",
       "      <td>8</td>\n",
       "      <td>8</td>\n",
       "      <td>8</td>\n",
       "      <td>8</td>\n",
       "      <td>0.455271</td>\n",
       "    </tr>\n",
       "    <tr>\n",
       "      <th>2</th>\n",
       "      <td>1117959</td>\n",
       "      <td>1</td>\n",
       "      <td>3</td>\n",
       "      <td>6</td>\n",
       "      <td>5</td>\n",
       "      <td>7</td>\n",
       "      <td>2</td>\n",
       "      <td>4</td>\n",
       "      <td>6</td>\n",
       "      <td>4</td>\n",
       "      <td>...</td>\n",
       "      <td>10</td>\n",
       "      <td>4</td>\n",
       "      <td>3</td>\n",
       "      <td>3</td>\n",
       "      <td>6</td>\n",
       "      <td>6</td>\n",
       "      <td>6</td>\n",
       "      <td>6</td>\n",
       "      <td>6</td>\n",
       "      <td>0.454781</td>\n",
       "    </tr>\n",
       "    <tr>\n",
       "      <th>3</th>\n",
       "      <td>1117960</td>\n",
       "      <td>2</td>\n",
       "      <td>4</td>\n",
       "      <td>4</td>\n",
       "      <td>6</td>\n",
       "      <td>4</td>\n",
       "      <td>5</td>\n",
       "      <td>4</td>\n",
       "      <td>3</td>\n",
       "      <td>4</td>\n",
       "      <td>...</td>\n",
       "      <td>3</td>\n",
       "      <td>3</td>\n",
       "      <td>8</td>\n",
       "      <td>8</td>\n",
       "      <td>6</td>\n",
       "      <td>6</td>\n",
       "      <td>6</td>\n",
       "      <td>6</td>\n",
       "      <td>6</td>\n",
       "      <td>0.466211</td>\n",
       "    </tr>\n",
       "    <tr>\n",
       "      <th>4</th>\n",
       "      <td>1117961</td>\n",
       "      <td>6</td>\n",
       "      <td>3</td>\n",
       "      <td>2</td>\n",
       "      <td>4</td>\n",
       "      <td>6</td>\n",
       "      <td>4</td>\n",
       "      <td>5</td>\n",
       "      <td>5</td>\n",
       "      <td>3</td>\n",
       "      <td>...</td>\n",
       "      <td>6</td>\n",
       "      <td>11</td>\n",
       "      <td>11</td>\n",
       "      <td>11</td>\n",
       "      <td>11</td>\n",
       "      <td>11</td>\n",
       "      <td>11</td>\n",
       "      <td>11</td>\n",
       "      <td>11</td>\n",
       "      <td>0.466144</td>\n",
       "    </tr>\n",
       "  </tbody>\n",
       "</table>\n",
       "<p>5 rows × 32 columns</p>\n",
       "</div>"
      ],
      "text/plain": [
       "        id  MonsoonIntensity  TopographyDrainage  RiverManagement  \\\n",
       "0  1117957                 4                   6                3   \n",
       "1  1117958                 4                   4                2   \n",
       "2  1117959                 1                   3                6   \n",
       "3  1117960                 2                   4                4   \n",
       "4  1117961                 6                   3                2   \n",
       "\n",
       "   Deforestation  Urbanization  ClimateChange  DamsQuality  Siltation  \\\n",
       "0              5             6              7            8          7   \n",
       "1              9             5              5            4          7   \n",
       "2              5             7              2            4          6   \n",
       "3              6             4              5            4          3   \n",
       "4              4             6              4            5          5   \n",
       "\n",
       "   AgriculturalPractices  ...  kms_2  kms_3  kms_4  kms_5  kms_6  kms_7  \\\n",
       "0                      8  ...      3      3      5      7      7      3   \n",
       "1                      5  ...      8      8      8      8      8      8   \n",
       "2                      4  ...     10      4      3      3      6      6   \n",
       "3                      4  ...      3      3      8      8      6      6   \n",
       "4                      3  ...      6     11     11     11     11     11   \n",
       "\n",
       "   kms_8  kms_9  kms_10  FloodProbability  \n",
       "0      7      7       7          0.573442  \n",
       "1      8      8       8          0.455271  \n",
       "2      6      6       6          0.454781  \n",
       "3      6      6       6          0.466211  \n",
       "4     11     11      11          0.466144  \n",
       "\n",
       "[5 rows x 32 columns]"
      ]
     },
     "execution_count": 38,
     "metadata": {},
     "output_type": "execute_result"
    }
   ],
   "source": [
    "out_pd = test_pd.copy(deep=True)\n",
    "for i, kms_model in enumerate(kms_models):\n",
    "    out_pd[f\"kms_{i+1}\"] = kms_model.predict(test_pd.drop(columns=[\"id\"]))\n",
    "\n",
    "out_pd = out_pd.join(\n",
    "    pd.DataFrame({\"FloodProbability\": model.predict(out_pd.drop(columns=[\"id\"]))})\n",
    ")\n",
    "out_pd.head()"
   ]
  },
  {
   "cell_type": "code",
   "execution_count": 39,
   "metadata": {},
   "outputs": [],
   "source": [
    "out_pd.to_csv(\"simple_elasticnet_with_kmeans_v1.csv\", columns=[\"id\", \"FloodProbability\"], index=False)"
   ]
  },
  {
   "cell_type": "markdown",
   "metadata": {},
   "source": [
    "# Random Forest"
   ]
  },
  {
   "cell_type": "code",
   "execution_count": 40,
   "metadata": {},
   "outputs": [],
   "source": [
    "from sklearn.ensemble import RandomForestRegressor\n",
    "from sklearn.model_selection import GridSearchCV, RandomizedSearchCV"
   ]
  },
  {
   "cell_type": "code",
   "execution_count": 45,
   "metadata": {},
   "outputs": [
    {
     "name": "stdout",
     "output_type": "stream",
     "text": [
      "CPU times: total: 21min 56s\n",
      "Wall time: 22min 9s\n"
     ]
    },
    {
     "data": {
      "text/html": [
       "<style>#sk-container-id-4 {color: black;}#sk-container-id-4 pre{padding: 0;}#sk-container-id-4 div.sk-toggleable {background-color: white;}#sk-container-id-4 label.sk-toggleable__label {cursor: pointer;display: block;width: 100%;margin-bottom: 0;padding: 0.3em;box-sizing: border-box;text-align: center;}#sk-container-id-4 label.sk-toggleable__label-arrow:before {content: \"▸\";float: left;margin-right: 0.25em;color: #696969;}#sk-container-id-4 label.sk-toggleable__label-arrow:hover:before {color: black;}#sk-container-id-4 div.sk-estimator:hover label.sk-toggleable__label-arrow:before {color: black;}#sk-container-id-4 div.sk-toggleable__content {max-height: 0;max-width: 0;overflow: hidden;text-align: left;background-color: #f0f8ff;}#sk-container-id-4 div.sk-toggleable__content pre {margin: 0.2em;color: black;border-radius: 0.25em;background-color: #f0f8ff;}#sk-container-id-4 input.sk-toggleable__control:checked~div.sk-toggleable__content {max-height: 200px;max-width: 100%;overflow: auto;}#sk-container-id-4 input.sk-toggleable__control:checked~label.sk-toggleable__label-arrow:before {content: \"▾\";}#sk-container-id-4 div.sk-estimator input.sk-toggleable__control:checked~label.sk-toggleable__label {background-color: #d4ebff;}#sk-container-id-4 div.sk-label input.sk-toggleable__control:checked~label.sk-toggleable__label {background-color: #d4ebff;}#sk-container-id-4 input.sk-hidden--visually {border: 0;clip: rect(1px 1px 1px 1px);clip: rect(1px, 1px, 1px, 1px);height: 1px;margin: -1px;overflow: hidden;padding: 0;position: absolute;width: 1px;}#sk-container-id-4 div.sk-estimator {font-family: monospace;background-color: #f0f8ff;border: 1px dotted black;border-radius: 0.25em;box-sizing: border-box;margin-bottom: 0.5em;}#sk-container-id-4 div.sk-estimator:hover {background-color: #d4ebff;}#sk-container-id-4 div.sk-parallel-item::after {content: \"\";width: 100%;border-bottom: 1px solid gray;flex-grow: 1;}#sk-container-id-4 div.sk-label:hover label.sk-toggleable__label {background-color: #d4ebff;}#sk-container-id-4 div.sk-serial::before {content: \"\";position: absolute;border-left: 1px solid gray;box-sizing: border-box;top: 0;bottom: 0;left: 50%;z-index: 0;}#sk-container-id-4 div.sk-serial {display: flex;flex-direction: column;align-items: center;background-color: white;padding-right: 0.2em;padding-left: 0.2em;position: relative;}#sk-container-id-4 div.sk-item {position: relative;z-index: 1;}#sk-container-id-4 div.sk-parallel {display: flex;align-items: stretch;justify-content: center;background-color: white;position: relative;}#sk-container-id-4 div.sk-item::before, #sk-container-id-4 div.sk-parallel-item::before {content: \"\";position: absolute;border-left: 1px solid gray;box-sizing: border-box;top: 0;bottom: 0;left: 50%;z-index: -1;}#sk-container-id-4 div.sk-parallel-item {display: flex;flex-direction: column;z-index: 1;position: relative;background-color: white;}#sk-container-id-4 div.sk-parallel-item:first-child::after {align-self: flex-end;width: 50%;}#sk-container-id-4 div.sk-parallel-item:last-child::after {align-self: flex-start;width: 50%;}#sk-container-id-4 div.sk-parallel-item:only-child::after {width: 0;}#sk-container-id-4 div.sk-dashed-wrapped {border: 1px dashed gray;margin: 0 0.4em 0.5em 0.4em;box-sizing: border-box;padding-bottom: 0.4em;background-color: white;}#sk-container-id-4 div.sk-label label {font-family: monospace;font-weight: bold;display: inline-block;line-height: 1.2em;}#sk-container-id-4 div.sk-label-container {text-align: center;}#sk-container-id-4 div.sk-container {/* jupyter's `normalize.less` sets `[hidden] { display: none; }` but bootstrap.min.css set `[hidden] { display: none !important; }` so we also need the `!important` here to be able to override the default hidden behavior on the sphinx rendered scikit-learn.org. See: https://github.com/scikit-learn/scikit-learn/issues/21755 */display: inline-block !important;position: relative;}#sk-container-id-4 div.sk-text-repr-fallback {display: none;}</style><div id=\"sk-container-id-4\" class=\"sk-top-container\"><div class=\"sk-text-repr-fallback\"><pre>RandomForestRegressor(random_state=0)</pre><b>In a Jupyter environment, please rerun this cell to show the HTML representation or trust the notebook. <br />On GitHub, the HTML representation is unable to render, please try loading this page with nbviewer.org.</b></div><div class=\"sk-container\" hidden><div class=\"sk-item\"><div class=\"sk-estimator sk-toggleable\"><input class=\"sk-toggleable__control sk-hidden--visually\" id=\"sk-estimator-id-4\" type=\"checkbox\" checked><label for=\"sk-estimator-id-4\" class=\"sk-toggleable__label sk-toggleable__label-arrow\">RandomForestRegressor</label><div class=\"sk-toggleable__content\"><pre>RandomForestRegressor(random_state=0)</pre></div></div></div></div></div>"
      ],
      "text/plain": [
       "RandomForestRegressor(random_state=0)"
      ]
     },
     "execution_count": 45,
     "metadata": {},
     "output_type": "execute_result"
    }
   ],
   "source": [
    "%%time \n",
    "\n",
    "rf_model = RandomForestRegressor(random_state=0)\n",
    "\n",
    "# cv_params = {\n",
    "#     \"n_estimators\" : np.arange(10, 11, 1),\n",
    "#     \"criterion\" : [\"squared_error\", \"absolute_error\", \"friedman_mse\", \"poisson\"],\n",
    "#     \"max_depth\" : np.append(np.arange(1, 11, 2), [None]),\n",
    "#     # \"min_samples_split\" : np.append(np.arange(1,10), np.arange(0.1, 0.6, 0.1)),\n",
    "#     # \"min_samples_leaf\" : np.append(np.arange(1,10), np.arange(0.1, 0.6, 0.1)),\n",
    "#     \"max_features\" : [\"sqrt\", \"log2\", None],\n",
    "# }\n",
    "\n",
    "# scoring = [\"neg_mean_squared_error\", \"neg_root_mean_squared_error\", \"explained_variance\", \"r2\"]\n",
    "\n",
    "# rf_cv = GridSearchCV(rf_model, cv_params, scoring=scoring, refit='neg_root_mean_squared_error', verbose=1, n_jobs=-1, cv=5).fit(X_train, y_train)\n",
    "rf_model.fit(X_train, y_train)"
   ]
  },
  {
   "cell_type": "code",
   "execution_count": 47,
   "metadata": {},
   "outputs": [],
   "source": [
    "out_pd = out_pd.join(\n",
    "    pd.DataFrame({\"FloodProbability_RF\": rf_model.predict(out_pd.drop(columns=[\"id\", \"FloodProbability\"]))})\n",
    ")\n",
    "out_pd.to_csv(\"rf_with_kmeans_v1.csv\", columns=[\"id\", \"FloodProbability_RF\"], index=False)"
   ]
  }
 ],
 "metadata": {
  "kernelspec": {
   "display_name": "dgl_torchgeo",
   "language": "python",
   "name": "python3"
  },
  "language_info": {
   "codemirror_mode": {
    "name": "ipython",
    "version": 3
   },
   "file_extension": ".py",
   "mimetype": "text/x-python",
   "name": "python",
   "nbconvert_exporter": "python",
   "pygments_lexer": "ipython3",
   "version": "3.11.1"
  }
 },
 "nbformat": 4,
 "nbformat_minor": 2
}
